{
 "cells": [
  {
   "cell_type": "markdown",
   "metadata": {},
   "source": [
    "# WeRateDogs Data Wrangling "
   ]
  },
  {
   "cell_type": "markdown",
   "metadata": {},
   "source": [
    "The following steps are to be made to complete this project\n",
    "<ul>\n",
    "    <li>Gathering Data </li>\n",
    "    <li>Assessing Data </li>\n",
    "    <li>Cleaning Data </li>\n",
    "</ul>"
   ]
  },
  {
   "cell_type": "code",
   "execution_count": 102,
   "metadata": {},
   "outputs": [],
   "source": [
    "import pandas as pd\n",
    "import requests\n",
    "import tweepy\n",
    "import json\n",
    "import matplotlib.pyplot as plt\n",
    "import seaborn as sns\n",
    "%matplotlib inline\n",
    "%run secrets"
   ]
  },
  {
   "cell_type": "markdown",
   "metadata": {},
   "source": [
    "## Gathering"
   ]
  },
  {
   "cell_type": "markdown",
   "metadata": {},
   "source": [
    "#### 1) We collect the data for the archieves."
   ]
  },
  {
   "cell_type": "code",
   "execution_count": 17,
   "metadata": {},
   "outputs": [
    {
     "data": {
      "text/html": [
       "<div>\n",
       "<style scoped>\n",
       "    .dataframe tbody tr th:only-of-type {\n",
       "        vertical-align: middle;\n",
       "    }\n",
       "\n",
       "    .dataframe tbody tr th {\n",
       "        vertical-align: top;\n",
       "    }\n",
       "\n",
       "    .dataframe thead th {\n",
       "        text-align: right;\n",
       "    }\n",
       "</style>\n",
       "<table border=\"1\" class=\"dataframe\">\n",
       "  <thead>\n",
       "    <tr style=\"text-align: right;\">\n",
       "      <th></th>\n",
       "      <th>tweet_id</th>\n",
       "      <th>in_reply_to_status_id</th>\n",
       "      <th>in_reply_to_user_id</th>\n",
       "      <th>timestamp</th>\n",
       "      <th>source</th>\n",
       "      <th>text</th>\n",
       "      <th>retweeted_status_id</th>\n",
       "      <th>retweeted_status_user_id</th>\n",
       "      <th>retweeted_status_timestamp</th>\n",
       "      <th>expanded_urls</th>\n",
       "      <th>rating_numerator</th>\n",
       "      <th>rating_denominator</th>\n",
       "      <th>name</th>\n",
       "      <th>doggo</th>\n",
       "      <th>floofer</th>\n",
       "      <th>pupper</th>\n",
       "      <th>puppo</th>\n",
       "    </tr>\n",
       "  </thead>\n",
       "  <tbody>\n",
       "    <tr>\n",
       "      <th>0</th>\n",
       "      <td>892420643555336193</td>\n",
       "      <td>NaN</td>\n",
       "      <td>NaN</td>\n",
       "      <td>2017-08-01 16:23:56 +0000</td>\n",
       "      <td>&lt;a href=\"http://twitter.com/download/iphone\" r...</td>\n",
       "      <td>This is Phineas. He's a mystical boy. Only eve...</td>\n",
       "      <td>NaN</td>\n",
       "      <td>NaN</td>\n",
       "      <td>NaN</td>\n",
       "      <td>https://twitter.com/dog_rates/status/892420643...</td>\n",
       "      <td>13</td>\n",
       "      <td>10</td>\n",
       "      <td>Phineas</td>\n",
       "      <td>None</td>\n",
       "      <td>None</td>\n",
       "      <td>None</td>\n",
       "      <td>None</td>\n",
       "    </tr>\n",
       "    <tr>\n",
       "      <th>1</th>\n",
       "      <td>892177421306343426</td>\n",
       "      <td>NaN</td>\n",
       "      <td>NaN</td>\n",
       "      <td>2017-08-01 00:17:27 +0000</td>\n",
       "      <td>&lt;a href=\"http://twitter.com/download/iphone\" r...</td>\n",
       "      <td>This is Tilly. She's just checking pup on you....</td>\n",
       "      <td>NaN</td>\n",
       "      <td>NaN</td>\n",
       "      <td>NaN</td>\n",
       "      <td>https://twitter.com/dog_rates/status/892177421...</td>\n",
       "      <td>13</td>\n",
       "      <td>10</td>\n",
       "      <td>Tilly</td>\n",
       "      <td>None</td>\n",
       "      <td>None</td>\n",
       "      <td>None</td>\n",
       "      <td>None</td>\n",
       "    </tr>\n",
       "    <tr>\n",
       "      <th>2</th>\n",
       "      <td>891815181378084864</td>\n",
       "      <td>NaN</td>\n",
       "      <td>NaN</td>\n",
       "      <td>2017-07-31 00:18:03 +0000</td>\n",
       "      <td>&lt;a href=\"http://twitter.com/download/iphone\" r...</td>\n",
       "      <td>This is Archie. He is a rare Norwegian Pouncin...</td>\n",
       "      <td>NaN</td>\n",
       "      <td>NaN</td>\n",
       "      <td>NaN</td>\n",
       "      <td>https://twitter.com/dog_rates/status/891815181...</td>\n",
       "      <td>12</td>\n",
       "      <td>10</td>\n",
       "      <td>Archie</td>\n",
       "      <td>None</td>\n",
       "      <td>None</td>\n",
       "      <td>None</td>\n",
       "      <td>None</td>\n",
       "    </tr>\n",
       "    <tr>\n",
       "      <th>3</th>\n",
       "      <td>891689557279858688</td>\n",
       "      <td>NaN</td>\n",
       "      <td>NaN</td>\n",
       "      <td>2017-07-30 15:58:51 +0000</td>\n",
       "      <td>&lt;a href=\"http://twitter.com/download/iphone\" r...</td>\n",
       "      <td>This is Darla. She commenced a snooze mid meal...</td>\n",
       "      <td>NaN</td>\n",
       "      <td>NaN</td>\n",
       "      <td>NaN</td>\n",
       "      <td>https://twitter.com/dog_rates/status/891689557...</td>\n",
       "      <td>13</td>\n",
       "      <td>10</td>\n",
       "      <td>Darla</td>\n",
       "      <td>None</td>\n",
       "      <td>None</td>\n",
       "      <td>None</td>\n",
       "      <td>None</td>\n",
       "    </tr>\n",
       "    <tr>\n",
       "      <th>4</th>\n",
       "      <td>891327558926688256</td>\n",
       "      <td>NaN</td>\n",
       "      <td>NaN</td>\n",
       "      <td>2017-07-29 16:00:24 +0000</td>\n",
       "      <td>&lt;a href=\"http://twitter.com/download/iphone\" r...</td>\n",
       "      <td>This is Franklin. He would like you to stop ca...</td>\n",
       "      <td>NaN</td>\n",
       "      <td>NaN</td>\n",
       "      <td>NaN</td>\n",
       "      <td>https://twitter.com/dog_rates/status/891327558...</td>\n",
       "      <td>12</td>\n",
       "      <td>10</td>\n",
       "      <td>Franklin</td>\n",
       "      <td>None</td>\n",
       "      <td>None</td>\n",
       "      <td>None</td>\n",
       "      <td>None</td>\n",
       "    </tr>\n",
       "  </tbody>\n",
       "</table>\n",
       "</div>"
      ],
      "text/plain": [
       "             tweet_id  in_reply_to_status_id  in_reply_to_user_id  \\\n",
       "0  892420643555336193                    NaN                  NaN   \n",
       "1  892177421306343426                    NaN                  NaN   \n",
       "2  891815181378084864                    NaN                  NaN   \n",
       "3  891689557279858688                    NaN                  NaN   \n",
       "4  891327558926688256                    NaN                  NaN   \n",
       "\n",
       "                   timestamp  \\\n",
       "0  2017-08-01 16:23:56 +0000   \n",
       "1  2017-08-01 00:17:27 +0000   \n",
       "2  2017-07-31 00:18:03 +0000   \n",
       "3  2017-07-30 15:58:51 +0000   \n",
       "4  2017-07-29 16:00:24 +0000   \n",
       "\n",
       "                                              source  \\\n",
       "0  <a href=\"http://twitter.com/download/iphone\" r...   \n",
       "1  <a href=\"http://twitter.com/download/iphone\" r...   \n",
       "2  <a href=\"http://twitter.com/download/iphone\" r...   \n",
       "3  <a href=\"http://twitter.com/download/iphone\" r...   \n",
       "4  <a href=\"http://twitter.com/download/iphone\" r...   \n",
       "\n",
       "                                                text  retweeted_status_id  \\\n",
       "0  This is Phineas. He's a mystical boy. Only eve...                  NaN   \n",
       "1  This is Tilly. She's just checking pup on you....                  NaN   \n",
       "2  This is Archie. He is a rare Norwegian Pouncin...                  NaN   \n",
       "3  This is Darla. She commenced a snooze mid meal...                  NaN   \n",
       "4  This is Franklin. He would like you to stop ca...                  NaN   \n",
       "\n",
       "   retweeted_status_user_id retweeted_status_timestamp  \\\n",
       "0                       NaN                        NaN   \n",
       "1                       NaN                        NaN   \n",
       "2                       NaN                        NaN   \n",
       "3                       NaN                        NaN   \n",
       "4                       NaN                        NaN   \n",
       "\n",
       "                                       expanded_urls  rating_numerator  \\\n",
       "0  https://twitter.com/dog_rates/status/892420643...                13   \n",
       "1  https://twitter.com/dog_rates/status/892177421...                13   \n",
       "2  https://twitter.com/dog_rates/status/891815181...                12   \n",
       "3  https://twitter.com/dog_rates/status/891689557...                13   \n",
       "4  https://twitter.com/dog_rates/status/891327558...                12   \n",
       "\n",
       "   rating_denominator      name doggo floofer pupper puppo  \n",
       "0                  10   Phineas  None    None   None  None  \n",
       "1                  10     Tilly  None    None   None  None  \n",
       "2                  10    Archie  None    None   None  None  \n",
       "3                  10     Darla  None    None   None  None  \n",
       "4                  10  Franklin  None    None   None  None  "
      ]
     },
     "execution_count": 17,
     "metadata": {},
     "output_type": "execute_result"
    }
   ],
   "source": [
    "df_tweets = pd.read_csv('twitter-archive-enhanced.csv')\n",
    "df_tweets.head()"
   ]
  },
  {
   "cell_type": "code",
   "execution_count": 18,
   "metadata": {},
   "outputs": [
    {
     "data": {
      "text/plain": [
       "0"
      ]
     },
     "execution_count": 18,
     "metadata": {},
     "output_type": "execute_result"
    }
   ],
   "source": [
    "sum(df_tweets.duplicated()) #no duplicates "
   ]
  },
  {
   "cell_type": "code",
   "execution_count": 19,
   "metadata": {},
   "outputs": [
    {
     "data": {
      "text/html": [
       "<div>\n",
       "<style scoped>\n",
       "    .dataframe tbody tr th:only-of-type {\n",
       "        vertical-align: middle;\n",
       "    }\n",
       "\n",
       "    .dataframe tbody tr th {\n",
       "        vertical-align: top;\n",
       "    }\n",
       "\n",
       "    .dataframe thead th {\n",
       "        text-align: right;\n",
       "    }\n",
       "</style>\n",
       "<table border=\"1\" class=\"dataframe\">\n",
       "  <thead>\n",
       "    <tr style=\"text-align: right;\">\n",
       "      <th></th>\n",
       "      <th>tweet_id</th>\n",
       "      <th>in_reply_to_status_id</th>\n",
       "      <th>in_reply_to_user_id</th>\n",
       "      <th>retweeted_status_id</th>\n",
       "      <th>retweeted_status_user_id</th>\n",
       "      <th>rating_numerator</th>\n",
       "      <th>rating_denominator</th>\n",
       "    </tr>\n",
       "  </thead>\n",
       "  <tbody>\n",
       "    <tr>\n",
       "      <th>count</th>\n",
       "      <td>2.356000e+03</td>\n",
       "      <td>7.800000e+01</td>\n",
       "      <td>7.800000e+01</td>\n",
       "      <td>1.810000e+02</td>\n",
       "      <td>1.810000e+02</td>\n",
       "      <td>2356.000000</td>\n",
       "      <td>2356.000000</td>\n",
       "    </tr>\n",
       "    <tr>\n",
       "      <th>mean</th>\n",
       "      <td>7.427716e+17</td>\n",
       "      <td>7.455079e+17</td>\n",
       "      <td>2.014171e+16</td>\n",
       "      <td>7.720400e+17</td>\n",
       "      <td>1.241698e+16</td>\n",
       "      <td>13.126486</td>\n",
       "      <td>10.455433</td>\n",
       "    </tr>\n",
       "    <tr>\n",
       "      <th>std</th>\n",
       "      <td>6.856705e+16</td>\n",
       "      <td>7.582492e+16</td>\n",
       "      <td>1.252797e+17</td>\n",
       "      <td>6.236928e+16</td>\n",
       "      <td>9.599254e+16</td>\n",
       "      <td>45.876648</td>\n",
       "      <td>6.745237</td>\n",
       "    </tr>\n",
       "    <tr>\n",
       "      <th>min</th>\n",
       "      <td>6.660209e+17</td>\n",
       "      <td>6.658147e+17</td>\n",
       "      <td>1.185634e+07</td>\n",
       "      <td>6.661041e+17</td>\n",
       "      <td>7.832140e+05</td>\n",
       "      <td>0.000000</td>\n",
       "      <td>0.000000</td>\n",
       "    </tr>\n",
       "    <tr>\n",
       "      <th>25%</th>\n",
       "      <td>6.783989e+17</td>\n",
       "      <td>6.757419e+17</td>\n",
       "      <td>3.086374e+08</td>\n",
       "      <td>7.186315e+17</td>\n",
       "      <td>4.196984e+09</td>\n",
       "      <td>10.000000</td>\n",
       "      <td>10.000000</td>\n",
       "    </tr>\n",
       "    <tr>\n",
       "      <th>50%</th>\n",
       "      <td>7.196279e+17</td>\n",
       "      <td>7.038708e+17</td>\n",
       "      <td>4.196984e+09</td>\n",
       "      <td>7.804657e+17</td>\n",
       "      <td>4.196984e+09</td>\n",
       "      <td>11.000000</td>\n",
       "      <td>10.000000</td>\n",
       "    </tr>\n",
       "    <tr>\n",
       "      <th>75%</th>\n",
       "      <td>7.993373e+17</td>\n",
       "      <td>8.257804e+17</td>\n",
       "      <td>4.196984e+09</td>\n",
       "      <td>8.203146e+17</td>\n",
       "      <td>4.196984e+09</td>\n",
       "      <td>12.000000</td>\n",
       "      <td>10.000000</td>\n",
       "    </tr>\n",
       "    <tr>\n",
       "      <th>max</th>\n",
       "      <td>8.924206e+17</td>\n",
       "      <td>8.862664e+17</td>\n",
       "      <td>8.405479e+17</td>\n",
       "      <td>8.874740e+17</td>\n",
       "      <td>7.874618e+17</td>\n",
       "      <td>1776.000000</td>\n",
       "      <td>170.000000</td>\n",
       "    </tr>\n",
       "  </tbody>\n",
       "</table>\n",
       "</div>"
      ],
      "text/plain": [
       "           tweet_id  in_reply_to_status_id  in_reply_to_user_id  \\\n",
       "count  2.356000e+03           7.800000e+01         7.800000e+01   \n",
       "mean   7.427716e+17           7.455079e+17         2.014171e+16   \n",
       "std    6.856705e+16           7.582492e+16         1.252797e+17   \n",
       "min    6.660209e+17           6.658147e+17         1.185634e+07   \n",
       "25%    6.783989e+17           6.757419e+17         3.086374e+08   \n",
       "50%    7.196279e+17           7.038708e+17         4.196984e+09   \n",
       "75%    7.993373e+17           8.257804e+17         4.196984e+09   \n",
       "max    8.924206e+17           8.862664e+17         8.405479e+17   \n",
       "\n",
       "       retweeted_status_id  retweeted_status_user_id  rating_numerator  \\\n",
       "count         1.810000e+02              1.810000e+02       2356.000000   \n",
       "mean          7.720400e+17              1.241698e+16         13.126486   \n",
       "std           6.236928e+16              9.599254e+16         45.876648   \n",
       "min           6.661041e+17              7.832140e+05          0.000000   \n",
       "25%           7.186315e+17              4.196984e+09         10.000000   \n",
       "50%           7.804657e+17              4.196984e+09         11.000000   \n",
       "75%           8.203146e+17              4.196984e+09         12.000000   \n",
       "max           8.874740e+17              7.874618e+17       1776.000000   \n",
       "\n",
       "       rating_denominator  \n",
       "count         2356.000000  \n",
       "mean            10.455433  \n",
       "std              6.745237  \n",
       "min              0.000000  \n",
       "25%             10.000000  \n",
       "50%             10.000000  \n",
       "75%             10.000000  \n",
       "max            170.000000  "
      ]
     },
     "execution_count": 19,
     "metadata": {},
     "output_type": "execute_result"
    }
   ],
   "source": [
    "df_tweets.describe()"
   ]
  },
  {
   "cell_type": "code",
   "execution_count": 20,
   "metadata": {},
   "outputs": [
    {
     "name": "stdout",
     "output_type": "stream",
     "text": [
      "<class 'pandas.core.frame.DataFrame'>\n",
      "RangeIndex: 2356 entries, 0 to 2355\n",
      "Data columns (total 17 columns):\n",
      " #   Column                      Non-Null Count  Dtype  \n",
      "---  ------                      --------------  -----  \n",
      " 0   tweet_id                    2356 non-null   int64  \n",
      " 1   in_reply_to_status_id       78 non-null     float64\n",
      " 2   in_reply_to_user_id         78 non-null     float64\n",
      " 3   timestamp                   2356 non-null   object \n",
      " 4   source                      2356 non-null   object \n",
      " 5   text                        2356 non-null   object \n",
      " 6   retweeted_status_id         181 non-null    float64\n",
      " 7   retweeted_status_user_id    181 non-null    float64\n",
      " 8   retweeted_status_timestamp  181 non-null    object \n",
      " 9   expanded_urls               2297 non-null   object \n",
      " 10  rating_numerator            2356 non-null   int64  \n",
      " 11  rating_denominator          2356 non-null   int64  \n",
      " 12  name                        2356 non-null   object \n",
      " 13  doggo                       2356 non-null   object \n",
      " 14  floofer                     2356 non-null   object \n",
      " 15  pupper                      2356 non-null   object \n",
      " 16  puppo                       2356 non-null   object \n",
      "dtypes: float64(4), int64(3), object(10)\n",
      "memory usage: 313.0+ KB\n"
     ]
    }
   ],
   "source": [
    "df_tweets.info()"
   ]
  },
  {
   "cell_type": "markdown",
   "metadata": {},
   "source": [
    "#### 2) We retrieve the data from the image prediction model"
   ]
  },
  {
   "cell_type": "code",
   "execution_count": 21,
   "metadata": {},
   "outputs": [],
   "source": [
    "url = \"https://d17h27t6h515a5.cloudfront.net/topher/2017/August/599fd2ad_image-predictions/image-predictions.tsv\"\n",
    "resp = requests.get(url)\n"
   ]
  },
  {
   "cell_type": "code",
   "execution_count": 22,
   "metadata": {},
   "outputs": [],
   "source": [
    "content = resp.content\n",
    "file = open(\"image_predictions.tsv\", \"wb\")\n",
    "\n",
    "file.write(content)\n",
    "\n",
    "file.close()"
   ]
  },
  {
   "cell_type": "code",
   "execution_count": 23,
   "metadata": {},
   "outputs": [
    {
     "data": {
      "text/html": [
       "<div>\n",
       "<style scoped>\n",
       "    .dataframe tbody tr th:only-of-type {\n",
       "        vertical-align: middle;\n",
       "    }\n",
       "\n",
       "    .dataframe tbody tr th {\n",
       "        vertical-align: top;\n",
       "    }\n",
       "\n",
       "    .dataframe thead th {\n",
       "        text-align: right;\n",
       "    }\n",
       "</style>\n",
       "<table border=\"1\" class=\"dataframe\">\n",
       "  <thead>\n",
       "    <tr style=\"text-align: right;\">\n",
       "      <th></th>\n",
       "      <th>tweet_id</th>\n",
       "      <th>jpg_url</th>\n",
       "      <th>img_num</th>\n",
       "      <th>p1</th>\n",
       "      <th>p1_conf</th>\n",
       "      <th>p1_dog</th>\n",
       "      <th>p2</th>\n",
       "      <th>p2_conf</th>\n",
       "      <th>p2_dog</th>\n",
       "      <th>p3</th>\n",
       "      <th>p3_conf</th>\n",
       "      <th>p3_dog</th>\n",
       "    </tr>\n",
       "  </thead>\n",
       "  <tbody>\n",
       "    <tr>\n",
       "      <th>0</th>\n",
       "      <td>666020888022790149</td>\n",
       "      <td>https://pbs.twimg.com/media/CT4udn0WwAA0aMy.jpg</td>\n",
       "      <td>1</td>\n",
       "      <td>Welsh_springer_spaniel</td>\n",
       "      <td>0.465074</td>\n",
       "      <td>True</td>\n",
       "      <td>collie</td>\n",
       "      <td>0.156665</td>\n",
       "      <td>True</td>\n",
       "      <td>Shetland_sheepdog</td>\n",
       "      <td>0.061428</td>\n",
       "      <td>True</td>\n",
       "    </tr>\n",
       "    <tr>\n",
       "      <th>1</th>\n",
       "      <td>666029285002620928</td>\n",
       "      <td>https://pbs.twimg.com/media/CT42GRgUYAA5iDo.jpg</td>\n",
       "      <td>1</td>\n",
       "      <td>redbone</td>\n",
       "      <td>0.506826</td>\n",
       "      <td>True</td>\n",
       "      <td>miniature_pinscher</td>\n",
       "      <td>0.074192</td>\n",
       "      <td>True</td>\n",
       "      <td>Rhodesian_ridgeback</td>\n",
       "      <td>0.072010</td>\n",
       "      <td>True</td>\n",
       "    </tr>\n",
       "    <tr>\n",
       "      <th>2</th>\n",
       "      <td>666033412701032449</td>\n",
       "      <td>https://pbs.twimg.com/media/CT4521TWwAEvMyu.jpg</td>\n",
       "      <td>1</td>\n",
       "      <td>German_shepherd</td>\n",
       "      <td>0.596461</td>\n",
       "      <td>True</td>\n",
       "      <td>malinois</td>\n",
       "      <td>0.138584</td>\n",
       "      <td>True</td>\n",
       "      <td>bloodhound</td>\n",
       "      <td>0.116197</td>\n",
       "      <td>True</td>\n",
       "    </tr>\n",
       "    <tr>\n",
       "      <th>3</th>\n",
       "      <td>666044226329800704</td>\n",
       "      <td>https://pbs.twimg.com/media/CT5Dr8HUEAA-lEu.jpg</td>\n",
       "      <td>1</td>\n",
       "      <td>Rhodesian_ridgeback</td>\n",
       "      <td>0.408143</td>\n",
       "      <td>True</td>\n",
       "      <td>redbone</td>\n",
       "      <td>0.360687</td>\n",
       "      <td>True</td>\n",
       "      <td>miniature_pinscher</td>\n",
       "      <td>0.222752</td>\n",
       "      <td>True</td>\n",
       "    </tr>\n",
       "    <tr>\n",
       "      <th>4</th>\n",
       "      <td>666049248165822465</td>\n",
       "      <td>https://pbs.twimg.com/media/CT5IQmsXIAAKY4A.jpg</td>\n",
       "      <td>1</td>\n",
       "      <td>miniature_pinscher</td>\n",
       "      <td>0.560311</td>\n",
       "      <td>True</td>\n",
       "      <td>Rottweiler</td>\n",
       "      <td>0.243682</td>\n",
       "      <td>True</td>\n",
       "      <td>Doberman</td>\n",
       "      <td>0.154629</td>\n",
       "      <td>True</td>\n",
       "    </tr>\n",
       "  </tbody>\n",
       "</table>\n",
       "</div>"
      ],
      "text/plain": [
       "             tweet_id                                          jpg_url  \\\n",
       "0  666020888022790149  https://pbs.twimg.com/media/CT4udn0WwAA0aMy.jpg   \n",
       "1  666029285002620928  https://pbs.twimg.com/media/CT42GRgUYAA5iDo.jpg   \n",
       "2  666033412701032449  https://pbs.twimg.com/media/CT4521TWwAEvMyu.jpg   \n",
       "3  666044226329800704  https://pbs.twimg.com/media/CT5Dr8HUEAA-lEu.jpg   \n",
       "4  666049248165822465  https://pbs.twimg.com/media/CT5IQmsXIAAKY4A.jpg   \n",
       "\n",
       "   img_num                      p1   p1_conf  p1_dog                  p2  \\\n",
       "0        1  Welsh_springer_spaniel  0.465074    True              collie   \n",
       "1        1                 redbone  0.506826    True  miniature_pinscher   \n",
       "2        1         German_shepherd  0.596461    True            malinois   \n",
       "3        1     Rhodesian_ridgeback  0.408143    True             redbone   \n",
       "4        1      miniature_pinscher  0.560311    True          Rottweiler   \n",
       "\n",
       "    p2_conf  p2_dog                   p3   p3_conf  p3_dog  \n",
       "0  0.156665    True    Shetland_sheepdog  0.061428    True  \n",
       "1  0.074192    True  Rhodesian_ridgeback  0.072010    True  \n",
       "2  0.138584    True           bloodhound  0.116197    True  \n",
       "3  0.360687    True   miniature_pinscher  0.222752    True  \n",
       "4  0.243682    True             Doberman  0.154629    True  "
      ]
     },
     "execution_count": 23,
     "metadata": {},
     "output_type": "execute_result"
    }
   ],
   "source": [
    "df_predictions = pd.read_csv(\"image_predictions.tsv\", sep='\\t')\n",
    "df_predictions.head()"
   ]
  },
  {
   "cell_type": "code",
   "execution_count": 24,
   "metadata": {},
   "outputs": [
    {
     "name": "stdout",
     "output_type": "stream",
     "text": [
      "<class 'pandas.core.frame.DataFrame'>\n",
      "RangeIndex: 2075 entries, 0 to 2074\n",
      "Data columns (total 12 columns):\n",
      " #   Column    Non-Null Count  Dtype  \n",
      "---  ------    --------------  -----  \n",
      " 0   tweet_id  2075 non-null   int64  \n",
      " 1   jpg_url   2075 non-null   object \n",
      " 2   img_num   2075 non-null   int64  \n",
      " 3   p1        2075 non-null   object \n",
      " 4   p1_conf   2075 non-null   float64\n",
      " 5   p1_dog    2075 non-null   bool   \n",
      " 6   p2        2075 non-null   object \n",
      " 7   p2_conf   2075 non-null   float64\n",
      " 8   p2_dog    2075 non-null   bool   \n",
      " 9   p3        2075 non-null   object \n",
      " 10  p3_conf   2075 non-null   float64\n",
      " 11  p3_dog    2075 non-null   bool   \n",
      "dtypes: bool(3), float64(3), int64(2), object(4)\n",
      "memory usage: 152.1+ KB\n"
     ]
    }
   ],
   "source": [
    "df_predictions.info()"
   ]
  },
  {
   "cell_type": "code",
   "execution_count": 25,
   "metadata": {},
   "outputs": [
    {
     "data": {
      "text/html": [
       "<div>\n",
       "<style scoped>\n",
       "    .dataframe tbody tr th:only-of-type {\n",
       "        vertical-align: middle;\n",
       "    }\n",
       "\n",
       "    .dataframe tbody tr th {\n",
       "        vertical-align: top;\n",
       "    }\n",
       "\n",
       "    .dataframe thead th {\n",
       "        text-align: right;\n",
       "    }\n",
       "</style>\n",
       "<table border=\"1\" class=\"dataframe\">\n",
       "  <thead>\n",
       "    <tr style=\"text-align: right;\">\n",
       "      <th></th>\n",
       "      <th>tweet_id</th>\n",
       "      <th>img_num</th>\n",
       "      <th>p1_conf</th>\n",
       "      <th>p2_conf</th>\n",
       "      <th>p3_conf</th>\n",
       "    </tr>\n",
       "  </thead>\n",
       "  <tbody>\n",
       "    <tr>\n",
       "      <th>count</th>\n",
       "      <td>2.075000e+03</td>\n",
       "      <td>2075.000000</td>\n",
       "      <td>2075.000000</td>\n",
       "      <td>2.075000e+03</td>\n",
       "      <td>2.075000e+03</td>\n",
       "    </tr>\n",
       "    <tr>\n",
       "      <th>mean</th>\n",
       "      <td>7.384514e+17</td>\n",
       "      <td>1.203855</td>\n",
       "      <td>0.594548</td>\n",
       "      <td>1.345886e-01</td>\n",
       "      <td>6.032417e-02</td>\n",
       "    </tr>\n",
       "    <tr>\n",
       "      <th>std</th>\n",
       "      <td>6.785203e+16</td>\n",
       "      <td>0.561875</td>\n",
       "      <td>0.271174</td>\n",
       "      <td>1.006657e-01</td>\n",
       "      <td>5.090593e-02</td>\n",
       "    </tr>\n",
       "    <tr>\n",
       "      <th>min</th>\n",
       "      <td>6.660209e+17</td>\n",
       "      <td>1.000000</td>\n",
       "      <td>0.044333</td>\n",
       "      <td>1.011300e-08</td>\n",
       "      <td>1.740170e-10</td>\n",
       "    </tr>\n",
       "    <tr>\n",
       "      <th>25%</th>\n",
       "      <td>6.764835e+17</td>\n",
       "      <td>1.000000</td>\n",
       "      <td>0.364412</td>\n",
       "      <td>5.388625e-02</td>\n",
       "      <td>1.622240e-02</td>\n",
       "    </tr>\n",
       "    <tr>\n",
       "      <th>50%</th>\n",
       "      <td>7.119988e+17</td>\n",
       "      <td>1.000000</td>\n",
       "      <td>0.588230</td>\n",
       "      <td>1.181810e-01</td>\n",
       "      <td>4.944380e-02</td>\n",
       "    </tr>\n",
       "    <tr>\n",
       "      <th>75%</th>\n",
       "      <td>7.932034e+17</td>\n",
       "      <td>1.000000</td>\n",
       "      <td>0.843855</td>\n",
       "      <td>1.955655e-01</td>\n",
       "      <td>9.180755e-02</td>\n",
       "    </tr>\n",
       "    <tr>\n",
       "      <th>max</th>\n",
       "      <td>8.924206e+17</td>\n",
       "      <td>4.000000</td>\n",
       "      <td>1.000000</td>\n",
       "      <td>4.880140e-01</td>\n",
       "      <td>2.734190e-01</td>\n",
       "    </tr>\n",
       "  </tbody>\n",
       "</table>\n",
       "</div>"
      ],
      "text/plain": [
       "           tweet_id      img_num      p1_conf       p2_conf       p3_conf\n",
       "count  2.075000e+03  2075.000000  2075.000000  2.075000e+03  2.075000e+03\n",
       "mean   7.384514e+17     1.203855     0.594548  1.345886e-01  6.032417e-02\n",
       "std    6.785203e+16     0.561875     0.271174  1.006657e-01  5.090593e-02\n",
       "min    6.660209e+17     1.000000     0.044333  1.011300e-08  1.740170e-10\n",
       "25%    6.764835e+17     1.000000     0.364412  5.388625e-02  1.622240e-02\n",
       "50%    7.119988e+17     1.000000     0.588230  1.181810e-01  4.944380e-02\n",
       "75%    7.932034e+17     1.000000     0.843855  1.955655e-01  9.180755e-02\n",
       "max    8.924206e+17     4.000000     1.000000  4.880140e-01  2.734190e-01"
      ]
     },
     "execution_count": 25,
     "metadata": {},
     "output_type": "execute_result"
    }
   ],
   "source": [
    "df_predictions.describe()"
   ]
  },
  {
   "cell_type": "code",
   "execution_count": 26,
   "metadata": {},
   "outputs": [
    {
     "data": {
      "text/plain": [
       "0"
      ]
     },
     "execution_count": 26,
     "metadata": {},
     "output_type": "execute_result"
    }
   ],
   "source": [
    "sum(df_predictions.duplicated())"
   ]
  },
  {
   "cell_type": "markdown",
   "metadata": {},
   "source": [
    "#### Apparently there are some retweets and replies, let's remove them first"
   ]
  },
  {
   "cell_type": "code",
   "execution_count": 27,
   "metadata": {},
   "outputs": [
    {
     "name": "stdout",
     "output_type": "stream",
     "text": [
      "181\n",
      "78\n"
     ]
    }
   ],
   "source": [
    "print(df_tweets[df_tweets.retweeted_status_id.isnull()==False].tweet_id.count())\n",
    "print(df_tweets[df_tweets.in_reply_to_status_id.isnull()==False].tweet_id.count())"
   ]
  },
  {
   "cell_type": "code",
   "execution_count": 28,
   "metadata": {},
   "outputs": [],
   "source": [
    "df_tweets_cleaned = df_tweets[df_tweets.retweeted_status_id.isnull()==True]; # removing retweets\n",
    "df_tweets_cleaned = df_tweets_cleaned[df_tweets_cleaned.in_reply_to_status_id.isnull()==True]; # removing replies"
   ]
  },
  {
   "cell_type": "code",
   "execution_count": 29,
   "metadata": {},
   "outputs": [
    {
     "data": {
      "text/plain": [
       "2097"
      ]
     },
     "execution_count": 29,
     "metadata": {},
     "output_type": "execute_result"
    }
   ],
   "source": [
    "df_tweets_cleaned.tweet_id.count()"
   ]
  },
  {
   "cell_type": "markdown",
   "metadata": {},
   "source": [
    "#### 3) We retrieve the relevant data from Twitter API"
   ]
  },
  {
   "cell_type": "code",
   "execution_count": 30,
   "metadata": {},
   "outputs": [
    {
     "name": "stdout",
     "output_type": "stream",
     "text": [
      "dict_keys(['created_at', 'id', 'id_str', 'full_text', 'truncated', 'display_text_range', 'entities', 'extended_entities', 'source', 'in_reply_to_status_id', 'in_reply_to_status_id_str', 'in_reply_to_user_id', 'in_reply_to_user_id_str', 'in_reply_to_screen_name', 'user', 'geo', 'coordinates', 'place', 'contributors', 'is_quote_status', 'retweet_count', 'favorite_count', 'favorited', 'retweeted', 'possibly_sensitive', 'possibly_sensitive_appealable', 'lang'])\n"
     ]
    }
   ],
   "source": [
    "auth = tweepy.OAuthHandler(consumer_key, consumer_secret)\n",
    "auth.set_access_token(access_token, access_token_secret)\n",
    "\n",
    "api = tweepy.API(auth, \n",
    "                 parser = tweepy.parsers.JSONParser(),\n",
    "                 wait_on_rate_limit = True,\n",
    "                 wait_on_rate_limit_notify = True)\n",
    "\n",
    "#test\n",
    "tweet = api.get_status(df_tweets.tweet_id[0], tweet_mode='extended')\n",
    "print( tweet.keys() )"
   ]
  },
  {
   "cell_type": "code",
   "execution_count": 32,
   "metadata": {},
   "outputs": [],
   "source": [
    "with open('data.json', 'w') as outfile:\n",
    "    json.dump(tweet,outfile)"
   ]
  },
  {
   "cell_type": "code",
   "execution_count": 33,
   "metadata": {},
   "outputs": [
    {
     "data": {
      "text/plain": [
       "{'created_at': 'Tue Aug 01 16:23:56 +0000 2017',\n",
       " 'id': 892420643555336193,\n",
       " 'id_str': '892420643555336193',\n",
       " 'full_text': \"This is Phineas. He's a mystical boy. Only ever appears in the hole of a donut. 13/10 https://t.co/MgUWQ76dJU\",\n",
       " 'truncated': False,\n",
       " 'display_text_range': [0, 85],\n",
       " 'entities': {'hashtags': [],\n",
       "  'symbols': [],\n",
       "  'user_mentions': [],\n",
       "  'urls': [],\n",
       "  'media': [{'id': 892420639486877696,\n",
       "    'id_str': '892420639486877696',\n",
       "    'indices': [86, 109],\n",
       "    'media_url': 'http://pbs.twimg.com/media/DGKD1-bXoAAIAUK.jpg',\n",
       "    'media_url_https': 'https://pbs.twimg.com/media/DGKD1-bXoAAIAUK.jpg',\n",
       "    'url': 'https://t.co/MgUWQ76dJU',\n",
       "    'display_url': 'pic.twitter.com/MgUWQ76dJU',\n",
       "    'expanded_url': 'https://twitter.com/dog_rates/status/892420643555336193/photo/1',\n",
       "    'type': 'photo',\n",
       "    'sizes': {'thumb': {'w': 150, 'h': 150, 'resize': 'crop'},\n",
       "     'medium': {'w': 540, 'h': 528, 'resize': 'fit'},\n",
       "     'small': {'w': 540, 'h': 528, 'resize': 'fit'},\n",
       "     'large': {'w': 540, 'h': 528, 'resize': 'fit'}}}]},\n",
       " 'extended_entities': {'media': [{'id': 892420639486877696,\n",
       "    'id_str': '892420639486877696',\n",
       "    'indices': [86, 109],\n",
       "    'media_url': 'http://pbs.twimg.com/media/DGKD1-bXoAAIAUK.jpg',\n",
       "    'media_url_https': 'https://pbs.twimg.com/media/DGKD1-bXoAAIAUK.jpg',\n",
       "    'url': 'https://t.co/MgUWQ76dJU',\n",
       "    'display_url': 'pic.twitter.com/MgUWQ76dJU',\n",
       "    'expanded_url': 'https://twitter.com/dog_rates/status/892420643555336193/photo/1',\n",
       "    'type': 'photo',\n",
       "    'sizes': {'thumb': {'w': 150, 'h': 150, 'resize': 'crop'},\n",
       "     'medium': {'w': 540, 'h': 528, 'resize': 'fit'},\n",
       "     'small': {'w': 540, 'h': 528, 'resize': 'fit'},\n",
       "     'large': {'w': 540, 'h': 528, 'resize': 'fit'}}}]},\n",
       " 'source': '<a href=\"http://twitter.com/download/iphone\" rel=\"nofollow\">Twitter for iPhone</a>',\n",
       " 'in_reply_to_status_id': None,\n",
       " 'in_reply_to_status_id_str': None,\n",
       " 'in_reply_to_user_id': None,\n",
       " 'in_reply_to_user_id_str': None,\n",
       " 'in_reply_to_screen_name': None,\n",
       " 'user': {'id': 4196983835,\n",
       "  'id_str': '4196983835',\n",
       "  'name': 'WeRateDogs®',\n",
       "  'screen_name': 'dog_rates',\n",
       "  'location': '「 DM YOUR DOGS 」',\n",
       "  'description': 'Your Only Source For Professional Dog Ratings Instagram and Facebook ➪ WeRateDogs partnerships@weratedogs.com ⠀⠀⠀⠀⠀⠀⠀⠀⠀⠀⠀⠀',\n",
       "  'url': 'https://t.co/Wrvtpnv7JV',\n",
       "  'entities': {'url': {'urls': [{'url': 'https://t.co/Wrvtpnv7JV',\n",
       "      'expanded_url': 'https://blacklivesmatters.carrd.co',\n",
       "      'display_url': 'blacklivesmatters.carrd.co',\n",
       "      'indices': [0, 23]}]},\n",
       "   'description': {'urls': []}},\n",
       "  'protected': False,\n",
       "  'followers_count': 8779753,\n",
       "  'friends_count': 16,\n",
       "  'listed_count': 5566,\n",
       "  'created_at': 'Sun Nov 15 21:41:29 +0000 2015',\n",
       "  'favourites_count': 146147,\n",
       "  'utc_offset': None,\n",
       "  'time_zone': None,\n",
       "  'geo_enabled': True,\n",
       "  'verified': True,\n",
       "  'statuses_count': 12323,\n",
       "  'lang': None,\n",
       "  'contributors_enabled': False,\n",
       "  'is_translator': False,\n",
       "  'is_translation_enabled': False,\n",
       "  'profile_background_color': '000000',\n",
       "  'profile_background_image_url': 'http://abs.twimg.com/images/themes/theme1/bg.png',\n",
       "  'profile_background_image_url_https': 'https://abs.twimg.com/images/themes/theme1/bg.png',\n",
       "  'profile_background_tile': False,\n",
       "  'profile_image_url': 'http://pbs.twimg.com/profile_images/1267972589722296320/XBr04M6J_normal.jpg',\n",
       "  'profile_image_url_https': 'https://pbs.twimg.com/profile_images/1267972589722296320/XBr04M6J_normal.jpg',\n",
       "  'profile_banner_url': 'https://pbs.twimg.com/profile_banners/4196983835/1591077312',\n",
       "  'profile_link_color': 'F5ABB5',\n",
       "  'profile_sidebar_border_color': '000000',\n",
       "  'profile_sidebar_fill_color': '000000',\n",
       "  'profile_text_color': '000000',\n",
       "  'profile_use_background_image': False,\n",
       "  'has_extended_profile': False,\n",
       "  'default_profile': False,\n",
       "  'default_profile_image': False,\n",
       "  'following': False,\n",
       "  'follow_request_sent': False,\n",
       "  'notifications': False,\n",
       "  'translator_type': 'none'},\n",
       " 'geo': None,\n",
       " 'coordinates': None,\n",
       " 'place': None,\n",
       " 'contributors': None,\n",
       " 'is_quote_status': False,\n",
       " 'retweet_count': 7692,\n",
       " 'favorite_count': 36117,\n",
       " 'favorited': False,\n",
       " 'retweeted': False,\n",
       " 'possibly_sensitive': False,\n",
       " 'possibly_sensitive_appealable': False,\n",
       " 'lang': 'en'}"
      ]
     },
     "execution_count": 33,
     "metadata": {},
     "output_type": "execute_result"
    }
   ],
   "source": [
    "with open('data.json') as json_file:\n",
    "    data = json.load(json_file)\n",
    "data"
   ]
  },
  {
   "cell_type": "markdown",
   "metadata": {},
   "source": [
    "I am trying to avoid running the next cell because it takes too much time, so I have run it once when I worked on the project the first few days. I will leave it as is and load the data from the file after I saved it."
   ]
  },
  {
   "cell_type": "code",
   "execution_count": 193,
   "metadata": {},
   "outputs": [
    {
     "name": "stdout",
     "output_type": "stream",
     "text": [
      "Trouble in 872261713294495745 [{'code': 144, 'message': 'No status found with that ID.'}]\n",
      "Trouble in 844704788403113984 [{'code': 144, 'message': 'No status found with that ID.'}]\n",
      "Trouble in 837366284874571778 [{'code': 144, 'message': 'No status found with that ID.'}]\n",
      "Trouble in 829374341691346946 [{'code': 144, 'message': 'No status found with that ID.'}]\n"
     ]
    },
    {
     "name": "stderr",
     "output_type": "stream",
     "text": [
      "Rate limit reached. Sleeping for: 271\n"
     ]
    },
    {
     "name": "stdout",
     "output_type": "stream",
     "text": [
      "Trouble in 779123168116150273 [{'code': 144, 'message': 'No status found with that ID.'}]\n",
      "Trouble in 754011816964026368 [{'code': 144, 'message': 'No status found with that ID.'}]\n"
     ]
    },
    {
     "name": "stderr",
     "output_type": "stream",
     "text": [
      "Rate limit reached. Sleeping for: 309\n"
     ]
    },
    {
     "name": "stdout",
     "output_type": "stream",
     "text": [
      "Trouble in 680055455951884288 [{'code': 144, 'message': 'No status found with that ID.'}]\n"
     ]
    }
   ],
   "source": [
    "failed = []\n",
    "tweets_so_far = []\n",
    "tweet_ids_so_far = []\n",
    "for _id in df_tweets_cleaned.tweet_id:\n",
    "    try:\n",
    "        if _id not in tweet_ids_so_far:\n",
    "            tweet = api.get_status(_id, tweet_mode='extended')\n",
    "            data = {\n",
    "                'tweet_id':int(_id),\n",
    "                'retweet_count':int(tweet['retweet_count']),\n",
    "                'favourites':int(tweet['favorite_count'])\n",
    "            }\n",
    "            tweets_so_far.append(data)\n",
    "            tweet_ids_so_far.append(_id)\n",
    "    except Exception as ex:\n",
    "        print(\"Trouble in \"+str(_id) + \" \" +str(ex))\n",
    "        failed.append(_id)"
   ]
  },
  {
   "cell_type": "code",
   "execution_count": 35,
   "metadata": {},
   "outputs": [],
   "source": [
    "df_details = pd.DataFrame(tweets_so_far) #this method is better\n",
    "df_details.to_json('tweet_json.txt')"
   ]
  },
  {
   "cell_type": "code",
   "execution_count": 36,
   "metadata": {},
   "outputs": [],
   "source": [
    "df_tweet_details  = pd.read_json('tweet_json.txt')"
   ]
  },
  {
   "cell_type": "code",
   "execution_count": 37,
   "metadata": {},
   "outputs": [
    {
     "data": {
      "text/html": [
       "<div>\n",
       "<style scoped>\n",
       "    .dataframe tbody tr th:only-of-type {\n",
       "        vertical-align: middle;\n",
       "    }\n",
       "\n",
       "    .dataframe tbody tr th {\n",
       "        vertical-align: top;\n",
       "    }\n",
       "\n",
       "    .dataframe thead th {\n",
       "        text-align: right;\n",
       "    }\n",
       "</style>\n",
       "<table border=\"1\" class=\"dataframe\">\n",
       "  <thead>\n",
       "    <tr style=\"text-align: right;\">\n",
       "      <th></th>\n",
       "      <th>tweet_id</th>\n",
       "      <th>retweet_count</th>\n",
       "      <th>favourites</th>\n",
       "    </tr>\n",
       "  </thead>\n",
       "  <tbody>\n",
       "    <tr>\n",
       "      <th>0</th>\n",
       "      <td>892420643555336193</td>\n",
       "      <td>7696</td>\n",
       "      <td>36141</td>\n",
       "    </tr>\n",
       "    <tr>\n",
       "      <th>1</th>\n",
       "      <td>892177421306343426</td>\n",
       "      <td>5693</td>\n",
       "      <td>31170</td>\n",
       "    </tr>\n",
       "    <tr>\n",
       "      <th>2</th>\n",
       "      <td>891815181378084864</td>\n",
       "      <td>3775</td>\n",
       "      <td>23481</td>\n",
       "    </tr>\n",
       "    <tr>\n",
       "      <th>3</th>\n",
       "      <td>891689557279858688</td>\n",
       "      <td>7860</td>\n",
       "      <td>39426</td>\n",
       "    </tr>\n",
       "    <tr>\n",
       "      <th>4</th>\n",
       "      <td>891327558926688256</td>\n",
       "      <td>8469</td>\n",
       "      <td>37649</td>\n",
       "    </tr>\n",
       "  </tbody>\n",
       "</table>\n",
       "</div>"
      ],
      "text/plain": [
       "             tweet_id  retweet_count  favourites\n",
       "0  892420643555336193           7696       36141\n",
       "1  892177421306343426           5693       31170\n",
       "2  891815181378084864           3775       23481\n",
       "3  891689557279858688           7860       39426\n",
       "4  891327558926688256           8469       37649"
      ]
     },
     "execution_count": 37,
     "metadata": {},
     "output_type": "execute_result"
    }
   ],
   "source": [
    "df_tweet_details.head()"
   ]
  },
  {
   "cell_type": "code",
   "execution_count": 38,
   "metadata": {
    "scrolled": true
   },
   "outputs": [
    {
     "name": "stdout",
     "output_type": "stream",
     "text": [
      "<class 'pandas.core.frame.DataFrame'>\n",
      "Int64Index: 2090 entries, 0 to 2089\n",
      "Data columns (total 3 columns):\n",
      " #   Column         Non-Null Count  Dtype\n",
      "---  ------         --------------  -----\n",
      " 0   tweet_id       2090 non-null   int64\n",
      " 1   retweet_count  2090 non-null   int64\n",
      " 2   favourites     2090 non-null   int64\n",
      "dtypes: int64(3)\n",
      "memory usage: 65.3 KB\n"
     ]
    }
   ],
   "source": [
    "df_tweet_details.info()"
   ]
  },
  {
   "cell_type": "markdown",
   "metadata": {},
   "source": [
    "## Assessing"
   ]
  },
  {
   "cell_type": "markdown",
   "metadata": {},
   "source": [
    "#### Assessing archieve data"
   ]
  },
  {
   "cell_type": "code",
   "execution_count": 39,
   "metadata": {},
   "outputs": [],
   "source": [
    "df_tweets_cleaned.to_csv(\"twitter-archive-enhanced2.0.csv\") #for visual assessment"
   ]
  },
  {
   "cell_type": "code",
   "execution_count": 40,
   "metadata": {},
   "outputs": [
    {
     "data": {
      "text/plain": [
       "None       603\n",
       "a           55\n",
       "Charlie     11\n",
       "Lucy        11\n",
       "Cooper      10\n",
       "          ... \n",
       "Peanut       1\n",
       "Dex          1\n",
       "Canela       1\n",
       "Josep        1\n",
       "Edmund       1\n",
       "Name: name, Length: 955, dtype: int64"
      ]
     },
     "execution_count": 40,
     "metadata": {},
     "output_type": "execute_result"
    }
   ],
   "source": [
    "df_tweets_cleaned.name.value_counts()"
   ]
  },
  {
   "cell_type": "code",
   "execution_count": 41,
   "metadata": {},
   "outputs": [
    {
     "name": "stdout",
     "output_type": "stream",
     "text": [
      "<class 'pandas.core.frame.DataFrame'>\n",
      "Int64Index: 2097 entries, 0 to 2355\n",
      "Data columns (total 17 columns):\n",
      " #   Column                      Non-Null Count  Dtype  \n",
      "---  ------                      --------------  -----  \n",
      " 0   tweet_id                    2097 non-null   int64  \n",
      " 1   in_reply_to_status_id       0 non-null      float64\n",
      " 2   in_reply_to_user_id         0 non-null      float64\n",
      " 3   timestamp                   2097 non-null   object \n",
      " 4   source                      2097 non-null   object \n",
      " 5   text                        2097 non-null   object \n",
      " 6   retweeted_status_id         0 non-null      float64\n",
      " 7   retweeted_status_user_id    0 non-null      float64\n",
      " 8   retweeted_status_timestamp  0 non-null      object \n",
      " 9   expanded_urls               2094 non-null   object \n",
      " 10  rating_numerator            2097 non-null   int64  \n",
      " 11  rating_denominator          2097 non-null   int64  \n",
      " 12  name                        2097 non-null   object \n",
      " 13  doggo                       2097 non-null   object \n",
      " 14  floofer                     2097 non-null   object \n",
      " 15  pupper                      2097 non-null   object \n",
      " 16  puppo                       2097 non-null   object \n",
      "dtypes: float64(4), int64(3), object(10)\n",
      "memory usage: 294.9+ KB\n"
     ]
    }
   ],
   "source": [
    "df_tweets_cleaned.info()"
   ]
  },
  {
   "cell_type": "code",
   "execution_count": 42,
   "metadata": {},
   "outputs": [
    {
     "data": {
      "text/plain": [
       "array(['Phineas', 'Tilly', 'Archie', 'Darla', 'Franklin', 'None', 'Jax',\n",
       "       'Zoey', 'Cassie', 'Koda', 'Bruno', 'Ted', 'Stuart', 'Oliver',\n",
       "       'Jim', 'Zeke', 'Ralphus', 'Gerald', 'Jeffrey', 'such', 'Canela',\n",
       "       'Maya', 'Mingus', 'Derek', 'Roscoe', 'Waffles', 'Jimbo', 'Maisey',\n",
       "       'Earl', 'Lola', 'Kevin', 'Yogi', 'Noah', 'Bella', 'Grizzwald',\n",
       "       'Rusty', 'Gus', 'Stanley', 'Alfy', 'Koko', 'Rey', 'Gary', 'a',\n",
       "       'Elliot', 'Louis', 'Jesse', 'Romeo', 'Bailey', 'Duddles', 'Jack',\n",
       "       'Steven', 'Beau', 'Snoopy', 'Shadow', 'Emmy', 'Aja', 'Penny',\n",
       "       'Dante', 'Nelly', 'Ginger', 'Benedict', 'Venti', 'Goose', 'Nugget',\n",
       "       'Cash', 'Jed', 'Sebastian', 'Sierra', 'Monkey', 'Harry', 'Kody',\n",
       "       'Lassie', 'Rover', 'Napolean', 'Boomer', 'Cody', 'Rumble',\n",
       "       'Clifford', 'Dewey', 'Scout', 'Gizmo', 'Walter', 'Cooper',\n",
       "       'Harold', 'Shikha', 'Lili', 'Jamesy', 'Coco', 'Sammy', 'Meatball',\n",
       "       'Paisley', 'Albus', 'Neptune', 'Belle', 'Quinn', 'Zooey', 'Dave',\n",
       "       'Jersey', 'Hobbes', 'Burt', 'Lorenzo', 'Carl', 'Jordy', 'Milky',\n",
       "       'Trooper', 'quite', 'Sophie', 'Wyatt', 'Rosie', 'Thor', 'Oscar',\n",
       "       'Callie', 'Cermet', 'Marlee', 'Arya', 'Einstein', 'Alice',\n",
       "       'Rumpole', 'Benny', 'Aspen', 'Jarod', 'Wiggles', 'General',\n",
       "       'Sailor', 'Iggy', 'Snoop', 'Kyle', 'Leo', 'Riley', 'Noosh', 'Odin',\n",
       "       'Jerry', 'Georgie', 'Rontu', 'Cannon', 'Furzey', 'Daisy', 'Tuck',\n",
       "       'Barney', 'Vixen', 'Jarvis', 'Mimosa', 'Pickles', 'Brady', 'Luna',\n",
       "       'Charlie', 'Margo', 'Sadie', 'Hank', 'Tycho', 'Indie', 'Winnie',\n",
       "       'George', 'Bentley', 'Max', 'Dawn', 'Maddie', 'Monty', 'Sojourner',\n",
       "       'Winston', 'Odie', 'Arlo', 'Vincent', 'Lucy', 'Clark', 'Mookie',\n",
       "       'Meera', 'Ava', 'Eli', 'Ash', 'Tucker', 'Tobi', 'Chester',\n",
       "       'Wilson', 'Sunshine', 'Lipton', 'Bronte', 'Poppy', 'Gidget',\n",
       "       'Rhino', 'Willow', 'not', 'Orion', 'Eevee', 'Smiley', 'Miguel',\n",
       "       'Emanuel', 'Kuyu', 'Dutch', 'Pete', 'Scooter', 'Reggie', 'Lilly',\n",
       "       'Samson', 'Mia', 'Astrid', 'Malcolm', 'Dexter', 'Alfie', 'Fiona',\n",
       "       'one', 'Mutt', 'Bear', 'Doobert', 'Beebop', 'Alexander', 'Sailer',\n",
       "       'Brutus', 'Kona', 'Boots', 'Ralphie', 'Loki', 'Cupid', 'Pawnd',\n",
       "       'Pilot', 'Ike', 'Mo', 'Toby', 'Sweet', 'Pablo', 'Nala', 'Crawford',\n",
       "       'Gabe', 'Jimison', 'Duchess', 'Harlso', 'Sundance', 'Luca',\n",
       "       'Flash', 'Sunny', 'Howie', 'Jazzy', 'Anna', 'Finn', 'Bo', 'Wafer',\n",
       "       'Tom', 'Florence', 'Autumn', 'Buddy', 'Dido', 'Eugene', 'Ken',\n",
       "       'Strudel', 'Tebow', 'Chloe', 'Timber', 'Binky', 'Moose', 'Dudley',\n",
       "       'Comet', 'Akumi', 'Titan', 'Olivia', 'Alf', 'Oshie', 'Chubbs',\n",
       "       'Sky', 'Atlas', 'Eleanor', 'Layla', 'Rocky', 'Baron', 'Tyr',\n",
       "       'Bauer', 'Swagger', 'Brandi', 'Mary', 'Moe', 'Halo', 'Augie',\n",
       "       'Craig', 'Sam', 'Hunter', 'Pavlov', 'Phil', 'Kyro', 'Wallace',\n",
       "       'Ito', 'Seamus', 'Ollie', 'Stephan', 'Lennon', 'incredibly',\n",
       "       'Major', 'Duke', 'Sansa', 'Shooter', 'Django', 'Diogi', 'Sonny',\n",
       "       'Marley', 'Severus', 'Ronnie', 'Milo', 'Bones', 'Mauve', 'Chef',\n",
       "       'Doc', 'Peaches', 'Sobe', 'Longfellow', 'Mister', 'Iroh',\n",
       "       'Pancake', 'Snicku', 'Ruby', 'Brody', 'Mack', 'Nimbus', 'Laika',\n",
       "       'Maximus', 'Dobby', 'Moreton', 'Juno', 'Maude', 'Lily', 'Newt',\n",
       "       'Benji', 'Nida', 'Robin', 'Monster', 'BeBe', 'Remus', 'Levi',\n",
       "       'Mabel', 'Misty', 'Betty', 'Mosby', 'Maggie', 'Bruce', 'Happy',\n",
       "       'Ralphy', 'Brownie', 'Rizzy', 'Stella', 'Butter', 'Frank', 'Tonks',\n",
       "       'Lincoln', 'Rory', 'Logan', 'Dale', 'Rizzo', 'Arnie', 'Mattie',\n",
       "       'Pinot', 'Dallas', 'Hero', 'Frankie', 'Stormy', 'Reginald',\n",
       "       'Balto', 'Mairi', 'Loomis', 'Godi', 'Cali', 'Deacon', 'Timmy',\n",
       "       'Sampson', 'Chipson', 'Combo', 'Oakley', 'Dash', 'Hercules', 'Jay',\n",
       "       'Mya', 'Strider', 'Wesley', 'Solomon', 'Huck', 'O', 'Blue',\n",
       "       'Anakin', 'Finley', 'Sprinkles', 'Heinrich', 'Shakespeare',\n",
       "       'Chelsea', 'Bungalo', 'Chip', 'Grey', 'Roosevelt', 'Willem',\n",
       "       'Davey', 'Dakota', 'Fizz', 'Dixie', 'very', 'Al', 'Jackson',\n",
       "       'Carbon', 'Klein', 'DonDon', 'Kirby', 'Lou', 'Chevy', 'Tito',\n",
       "       'Philbert', 'Louie', 'Rupert', 'Rufus', 'Brudge', 'Shadoe',\n",
       "       'Angel', 'Brat', 'Tove', 'my', 'Gromit', 'Aubie', 'Kota', 'Leela',\n",
       "       'Glenn', 'Shelby', 'Sephie', 'Bonaparte', 'Albert', 'Wishes',\n",
       "       'Rose', 'Theo', 'Rocco', 'Fido', 'Emma', 'Spencer', 'Lilli',\n",
       "       'Boston', 'Brandonald', 'Corey', 'Leonard', 'Beckham', 'Devón',\n",
       "       'Gert', 'Watson', 'Keith', 'Dex', 'Ace', 'Tayzie', 'Grizzie',\n",
       "       'Fred', 'Gilbert', 'Meyer', 'Zoe', 'Stewie', 'Calvin', 'Lilah',\n",
       "       'Spanky', 'Jameson', 'Piper', 'Atticus', 'Blu', 'Dietrich',\n",
       "       'Divine', 'Tripp', 'his', 'Cora', 'Huxley', 'Keurig', 'Bookstore',\n",
       "       'Linus', 'Abby', 'Shiloh', 'an', 'Gustav', 'Arlen', 'Percy',\n",
       "       'Lenox', 'Sugar', 'Harvey', 'Blanket', 'actually', 'Geno', 'Stark',\n",
       "       'Beya', 'Kilo', 'Kayla', 'Maxaroni', 'Bell', 'Doug', 'Edmund',\n",
       "       'Aqua', 'Theodore', 'just', 'Baloo', 'Chase', 'getting', 'Nollie',\n",
       "       'Rorie', 'Simba', 'Charles', 'Bayley', 'Axel', 'Storkson', 'Remy',\n",
       "       'Chadrick', 'mad', 'Kellogg', 'Buckley', 'Livvie', 'Terry',\n",
       "       'Hermione', 'Ralpher', 'Aldrick', 'Larry', 'this', 'unacceptable',\n",
       "       'Rooney', 'Crystal', 'Ziva', 'Stefan', 'Pupcasso', 'Puff',\n",
       "       'Flurpson', 'Coleman', 'Enchilada', 'Raymond', 'all', 'Rueben',\n",
       "       'Cilantro', 'Karll', 'Sprout', 'Blitz', 'Bloop', 'Colby', 'Lillie',\n",
       "       'Ashleigh', 'Kreggory', 'Sarge', 'Luther', 'Ivar', 'Jangle',\n",
       "       'Schnitzel', 'Panda', 'Berkeley', 'Ralphé', 'Charleson', 'Clyde',\n",
       "       'Harnold', 'Sid', 'Pippa', 'Otis', 'Carper', 'Bowie',\n",
       "       'Alexanderson', 'Suki', 'Barclay', 'Skittle', 'Ebby', 'Flávio',\n",
       "       'Smokey', 'Link', 'Jennifur', 'Ozzy', 'Bluebert', 'Stephanus',\n",
       "       'Bubbles', 'old', 'Zeus', 'Bertson', 'Nico', 'Michelangelope',\n",
       "       'Siba', 'Calbert', 'Curtis', 'Travis', 'Thumas', 'Kanu', 'Lance',\n",
       "       'Opie', 'Stubert', 'Kane', 'Olive', 'Chuckles', 'Staniel', 'Sora',\n",
       "       'Beemo', 'Gunner', 'infuriating', 'Lacy', 'Tater', 'Olaf', 'Cecil',\n",
       "       'Vince', 'Karma', 'Billy', 'Walker', 'Rodney', 'Klevin', 'Malikai',\n",
       "       'Bobble', 'River', 'Jebberson', 'Remington', 'Farfle', 'Jiminus',\n",
       "       'Harper', 'Clarkus', 'Finnegus', 'Cupcake', 'Kathmandu', 'Ellie',\n",
       "       'Katie', 'Kara', 'Adele', 'Zara', 'Ambrose', 'Jimothy', 'Bode',\n",
       "       'Terrenth', 'Reese', 'Chesterson', 'Lucia', 'Bisquick', 'Ralphson',\n",
       "       'Socks', 'Rambo', 'Rudy', 'Fiji', 'Rilo', 'Bilbo', 'Coopson',\n",
       "       'Yoda', 'Millie', 'Chet', 'Crouton', 'Daniel', 'Kaia', 'Murphy',\n",
       "       'Dotsy', 'Eazy', 'Coops', 'Fillup', 'Miley', 'Charl', 'Reagan',\n",
       "       'Yukon', 'CeCe', 'Cuddles', 'Claude', 'Jessiga', 'Carter', 'Ole',\n",
       "       'Pherb', 'Blipson', 'Reptar', 'Trevith', 'Berb', 'Bob', 'Colin',\n",
       "       'Brian', 'Oliviér', 'Grady', 'Kobe', 'Freddery', 'Bodie', 'Dunkin',\n",
       "       'Wally', 'Tupawc', 'Amber', 'Herschel', 'Edgar', 'Teddy',\n",
       "       'Kingsley', 'Brockly', 'Richie', 'Molly', 'Vinscent', 'Cedrick',\n",
       "       'Hazel', 'Lolo', 'Eriq', 'Phred', 'the', 'Oddie', 'Maxwell',\n",
       "       'Geoff', 'Covach', 'Durg', 'Fynn', 'Ricky', 'Herald', 'Lucky',\n",
       "       'Ferg', 'Trip', 'Clarence', 'Hamrick', 'Brad', 'Pubert', 'Frönq',\n",
       "       'Derby', 'Lizzie', 'Ember', 'Blakely', 'Opal', 'Marq', 'Kramer',\n",
       "       'Barry', 'Tyrone', 'Gordon', 'Baxter', 'Mona', 'Horace', 'Crimson',\n",
       "       'Birf', 'Hammond', 'Lorelei', 'Marty', 'Brooks', 'Petrick',\n",
       "       'Hubertson', 'Gerbald', 'Oreo', 'Bruiser', 'Perry', 'Bobby',\n",
       "       'Jeph', 'Obi', 'Tino', 'Kulet', 'Sweets', 'Lupe', 'Tiger',\n",
       "       'Jiminy', 'Griffin', 'Banjo', 'Brandy', 'Lulu', 'Darrel', 'Taco',\n",
       "       'Joey', 'Patrick', 'Kreg', 'Todo', 'Tess', 'Ulysses', 'Toffee',\n",
       "       'Apollo', 'Carly', 'Asher', 'Glacier', 'Chuck', 'Champ', 'Ozzie',\n",
       "       'Griswold', 'Cheesy', 'Moofasa', 'Hector', 'Goliath', 'Kawhi',\n",
       "       'by', 'Emmie', 'Penelope', 'Willie', 'Rinna', 'Mike', 'William',\n",
       "       'Dwight', 'Evy', 'Hurley', 'Rubio', 'officially', 'Chompsky',\n",
       "       'Rascal', 'Linda', 'Tug', 'Tango', 'Grizz', 'Jerome', 'Crumpet',\n",
       "       'Jessifer', 'Izzy', 'Ralph', 'Sandy', 'Humphrey', 'Tassy',\n",
       "       'Juckson', 'Chuq', 'Tyrus', 'Karl', 'Godzilla', 'Vinnie',\n",
       "       'Kenneth', 'Herm', 'Bert', 'Striker', 'Donny', 'Pepper', 'Bernie',\n",
       "       'Buddah', 'Lenny', 'Arnold', 'Zuzu', 'Mollie', 'Laela', 'Tedders',\n",
       "       'Superpup', 'Rufio', 'Jeb', 'Rodman', 'Jonah', 'Chesney', 'life',\n",
       "       'Kenny', 'Henry', 'Bobbay', 'Mitch', 'Kaiya', 'Acro', 'Aiden',\n",
       "       'Obie', 'Dot', 'Shnuggles', 'Kendall', 'Jeffri', 'Steve', 'Eve',\n",
       "       'Mac', 'Fletcher', 'Kenzie', 'Pumpkin', 'Schnozz', 'Gustaf',\n",
       "       'Cheryl', 'Ed', 'Leonidas', 'Norman', 'Caryl', 'Scott', 'Taz',\n",
       "       'Darby', 'Jackie', 'light', 'Jazz', 'Franq', 'Pippin', 'Rolf',\n",
       "       'Snickers', 'Ridley', 'Cal', 'Bradley', 'Bubba', 'Tuco', 'Patch',\n",
       "       'Mojo', 'Batdog', 'Dylan', 'space', 'Mark', 'JD', 'Alejandro',\n",
       "       'Scruffers', 'Pip', 'Julius', 'Tanner', 'Sparky', 'Anthony',\n",
       "       'Holly', 'Jett', 'Amy', 'Sage', 'Andy', 'Mason', 'Trigger',\n",
       "       'Antony', 'Creg', 'Traviss', 'Gin', 'Jeffrie', 'Danny', 'Ester',\n",
       "       'Pluto', 'Bloo', 'Edd', 'Paull', 'Willy', 'Herb', 'Damon',\n",
       "       'Peanut', 'Nigel', 'Butters', 'Sandra', 'Fabio', 'Randall', 'Liam',\n",
       "       'Tommy', 'Ben', 'Raphael', 'Julio', 'Andru', 'Kloey', 'Shawwn',\n",
       "       'Skye', 'Kollin', 'Ronduh', 'Billl', 'Saydee', 'Dug', 'Sully',\n",
       "       'Kirk', 'Ralf', 'Clarq', 'Jaspers', 'Samsom', 'Terrance',\n",
       "       'Harrison', 'Chaz', 'Jeremy', 'Jaycob', 'Lambeau', 'Ruffles',\n",
       "       'Amélie', 'Bobb', 'Banditt', 'Kevon', 'Winifred', 'Hanz',\n",
       "       'Churlie', 'Zeek', 'Timofy', 'Maks', 'Jomathan', 'Kallie',\n",
       "       'Marvin', 'Spark', 'Gòrdón', 'Jo', 'DayZ', 'Jareld', 'Torque',\n",
       "       'Ron', 'Skittles', 'Cleopatricia', 'Erik', 'Stu', 'Tedrick',\n",
       "       'Shaggy', 'Filup', 'Kial', 'Naphaniel', 'Dook', 'Hall', 'Philippe',\n",
       "       'Biden', 'Fwed', 'Genevieve', 'Joshwa', 'Timison', 'Bradlay',\n",
       "       'Pipsy', 'Clybe', 'Keet', 'Carll', 'Jockson', 'Josep', 'Lugan',\n",
       "       'Christoper'], dtype=object)"
      ]
     },
     "execution_count": 42,
     "metadata": {},
     "output_type": "execute_result"
    }
   ],
   "source": [
    "df_tweets_cleaned.name.unique()"
   ]
  },
  {
   "cell_type": "code",
   "execution_count": 43,
   "metadata": {},
   "outputs": [
    {
     "data": {
      "text/html": [
       "<div>\n",
       "<style scoped>\n",
       "    .dataframe tbody tr th:only-of-type {\n",
       "        vertical-align: middle;\n",
       "    }\n",
       "\n",
       "    .dataframe tbody tr th {\n",
       "        vertical-align: top;\n",
       "    }\n",
       "\n",
       "    .dataframe thead th {\n",
       "        text-align: right;\n",
       "    }\n",
       "</style>\n",
       "<table border=\"1\" class=\"dataframe\">\n",
       "  <thead>\n",
       "    <tr style=\"text-align: right;\">\n",
       "      <th></th>\n",
       "      <th>tweet_id</th>\n",
       "      <th>in_reply_to_status_id</th>\n",
       "      <th>in_reply_to_user_id</th>\n",
       "      <th>retweeted_status_id</th>\n",
       "      <th>retweeted_status_user_id</th>\n",
       "      <th>rating_numerator</th>\n",
       "      <th>rating_denominator</th>\n",
       "    </tr>\n",
       "  </thead>\n",
       "  <tbody>\n",
       "    <tr>\n",
       "      <th>count</th>\n",
       "      <td>2.097000e+03</td>\n",
       "      <td>0.0</td>\n",
       "      <td>0.0</td>\n",
       "      <td>0.0</td>\n",
       "      <td>0.0</td>\n",
       "      <td>2097.000000</td>\n",
       "      <td>2097.000000</td>\n",
       "    </tr>\n",
       "    <tr>\n",
       "      <th>mean</th>\n",
       "      <td>7.365594e+17</td>\n",
       "      <td>NaN</td>\n",
       "      <td>NaN</td>\n",
       "      <td>NaN</td>\n",
       "      <td>NaN</td>\n",
       "      <td>12.189318</td>\n",
       "      <td>10.448736</td>\n",
       "    </tr>\n",
       "    <tr>\n",
       "      <th>std</th>\n",
       "      <td>6.710178e+16</td>\n",
       "      <td>NaN</td>\n",
       "      <td>NaN</td>\n",
       "      <td>NaN</td>\n",
       "      <td>NaN</td>\n",
       "      <td>40.364996</td>\n",
       "      <td>6.645061</td>\n",
       "    </tr>\n",
       "    <tr>\n",
       "      <th>min</th>\n",
       "      <td>6.660209e+17</td>\n",
       "      <td>NaN</td>\n",
       "      <td>NaN</td>\n",
       "      <td>NaN</td>\n",
       "      <td>NaN</td>\n",
       "      <td>0.000000</td>\n",
       "      <td>2.000000</td>\n",
       "    </tr>\n",
       "    <tr>\n",
       "      <th>25%</th>\n",
       "      <td>6.768197e+17</td>\n",
       "      <td>NaN</td>\n",
       "      <td>NaN</td>\n",
       "      <td>NaN</td>\n",
       "      <td>NaN</td>\n",
       "      <td>10.000000</td>\n",
       "      <td>10.000000</td>\n",
       "    </tr>\n",
       "    <tr>\n",
       "      <th>50%</th>\n",
       "      <td>7.098528e+17</td>\n",
       "      <td>NaN</td>\n",
       "      <td>NaN</td>\n",
       "      <td>NaN</td>\n",
       "      <td>NaN</td>\n",
       "      <td>11.000000</td>\n",
       "      <td>10.000000</td>\n",
       "    </tr>\n",
       "    <tr>\n",
       "      <th>75%</th>\n",
       "      <td>7.877176e+17</td>\n",
       "      <td>NaN</td>\n",
       "      <td>NaN</td>\n",
       "      <td>NaN</td>\n",
       "      <td>NaN</td>\n",
       "      <td>12.000000</td>\n",
       "      <td>10.000000</td>\n",
       "    </tr>\n",
       "    <tr>\n",
       "      <th>max</th>\n",
       "      <td>8.924206e+17</td>\n",
       "      <td>NaN</td>\n",
       "      <td>NaN</td>\n",
       "      <td>NaN</td>\n",
       "      <td>NaN</td>\n",
       "      <td>1776.000000</td>\n",
       "      <td>170.000000</td>\n",
       "    </tr>\n",
       "  </tbody>\n",
       "</table>\n",
       "</div>"
      ],
      "text/plain": [
       "           tweet_id  in_reply_to_status_id  in_reply_to_user_id  \\\n",
       "count  2.097000e+03                    0.0                  0.0   \n",
       "mean   7.365594e+17                    NaN                  NaN   \n",
       "std    6.710178e+16                    NaN                  NaN   \n",
       "min    6.660209e+17                    NaN                  NaN   \n",
       "25%    6.768197e+17                    NaN                  NaN   \n",
       "50%    7.098528e+17                    NaN                  NaN   \n",
       "75%    7.877176e+17                    NaN                  NaN   \n",
       "max    8.924206e+17                    NaN                  NaN   \n",
       "\n",
       "       retweeted_status_id  retweeted_status_user_id  rating_numerator  \\\n",
       "count                  0.0                       0.0       2097.000000   \n",
       "mean                   NaN                       NaN         12.189318   \n",
       "std                    NaN                       NaN         40.364996   \n",
       "min                    NaN                       NaN          0.000000   \n",
       "25%                    NaN                       NaN         10.000000   \n",
       "50%                    NaN                       NaN         11.000000   \n",
       "75%                    NaN                       NaN         12.000000   \n",
       "max                    NaN                       NaN       1776.000000   \n",
       "\n",
       "       rating_denominator  \n",
       "count         2097.000000  \n",
       "mean            10.448736  \n",
       "std              6.645061  \n",
       "min              2.000000  \n",
       "25%             10.000000  \n",
       "50%             10.000000  \n",
       "75%             10.000000  \n",
       "max            170.000000  "
      ]
     },
     "execution_count": 43,
     "metadata": {},
     "output_type": "execute_result"
    }
   ],
   "source": [
    "df_tweets_cleaned.describe()"
   ]
  },
  {
   "cell_type": "code",
   "execution_count": 44,
   "metadata": {},
   "outputs": [
    {
     "data": {
      "text/plain": [
       "array([ 10,  70,   7, 150,  11, 170,  20,  50,  90,  80,  40, 110, 120,\n",
       "         2], dtype=int64)"
      ]
     },
     "execution_count": 44,
     "metadata": {},
     "output_type": "execute_result"
    }
   ],
   "source": [
    "df_tweets_cleaned.rating_denominator.unique()"
   ]
  },
  {
   "cell_type": "code",
   "execution_count": 45,
   "metadata": {},
   "outputs": [
    {
     "data": {
      "text/plain": [
       "0"
      ]
     },
     "execution_count": 45,
     "metadata": {},
     "output_type": "execute_result"
    }
   ],
   "source": [
    "sum(df_tweets_cleaned.duplicated())"
   ]
  },
  {
   "cell_type": "code",
   "execution_count": 46,
   "metadata": {},
   "outputs": [
    {
     "data": {
      "text/plain": [
       "2093"
      ]
     },
     "execution_count": 46,
     "metadata": {},
     "output_type": "execute_result"
    }
   ],
   "source": [
    "sum(df_tweets_cleaned.source.duplicated())"
   ]
  },
  {
   "cell_type": "code",
   "execution_count": 47,
   "metadata": {},
   "outputs": [
    {
     "data": {
      "text/plain": [
       "3"
      ]
     },
     "execution_count": 47,
     "metadata": {},
     "output_type": "execute_result"
    }
   ],
   "source": [
    "sum(df_tweets_cleaned.expanded_urls.duplicated())"
   ]
  },
  {
   "cell_type": "markdown",
   "metadata": {},
   "source": [
    "#### Assessing predictions data"
   ]
  },
  {
   "cell_type": "code",
   "execution_count": 48,
   "metadata": {},
   "outputs": [
    {
     "data": {
      "text/html": [
       "<div>\n",
       "<style scoped>\n",
       "    .dataframe tbody tr th:only-of-type {\n",
       "        vertical-align: middle;\n",
       "    }\n",
       "\n",
       "    .dataframe tbody tr th {\n",
       "        vertical-align: top;\n",
       "    }\n",
       "\n",
       "    .dataframe thead th {\n",
       "        text-align: right;\n",
       "    }\n",
       "</style>\n",
       "<table border=\"1\" class=\"dataframe\">\n",
       "  <thead>\n",
       "    <tr style=\"text-align: right;\">\n",
       "      <th></th>\n",
       "      <th>tweet_id</th>\n",
       "      <th>jpg_url</th>\n",
       "      <th>img_num</th>\n",
       "      <th>p1</th>\n",
       "      <th>p1_conf</th>\n",
       "      <th>p1_dog</th>\n",
       "      <th>p2</th>\n",
       "      <th>p2_conf</th>\n",
       "      <th>p2_dog</th>\n",
       "      <th>p3</th>\n",
       "      <th>p3_conf</th>\n",
       "      <th>p3_dog</th>\n",
       "    </tr>\n",
       "  </thead>\n",
       "  <tbody>\n",
       "    <tr>\n",
       "      <th>0</th>\n",
       "      <td>666020888022790149</td>\n",
       "      <td>https://pbs.twimg.com/media/CT4udn0WwAA0aMy.jpg</td>\n",
       "      <td>1</td>\n",
       "      <td>Welsh_springer_spaniel</td>\n",
       "      <td>0.465074</td>\n",
       "      <td>True</td>\n",
       "      <td>collie</td>\n",
       "      <td>0.156665</td>\n",
       "      <td>True</td>\n",
       "      <td>Shetland_sheepdog</td>\n",
       "      <td>0.061428</td>\n",
       "      <td>True</td>\n",
       "    </tr>\n",
       "    <tr>\n",
       "      <th>1</th>\n",
       "      <td>666029285002620928</td>\n",
       "      <td>https://pbs.twimg.com/media/CT42GRgUYAA5iDo.jpg</td>\n",
       "      <td>1</td>\n",
       "      <td>redbone</td>\n",
       "      <td>0.506826</td>\n",
       "      <td>True</td>\n",
       "      <td>miniature_pinscher</td>\n",
       "      <td>0.074192</td>\n",
       "      <td>True</td>\n",
       "      <td>Rhodesian_ridgeback</td>\n",
       "      <td>0.072010</td>\n",
       "      <td>True</td>\n",
       "    </tr>\n",
       "    <tr>\n",
       "      <th>2</th>\n",
       "      <td>666033412701032449</td>\n",
       "      <td>https://pbs.twimg.com/media/CT4521TWwAEvMyu.jpg</td>\n",
       "      <td>1</td>\n",
       "      <td>German_shepherd</td>\n",
       "      <td>0.596461</td>\n",
       "      <td>True</td>\n",
       "      <td>malinois</td>\n",
       "      <td>0.138584</td>\n",
       "      <td>True</td>\n",
       "      <td>bloodhound</td>\n",
       "      <td>0.116197</td>\n",
       "      <td>True</td>\n",
       "    </tr>\n",
       "    <tr>\n",
       "      <th>3</th>\n",
       "      <td>666044226329800704</td>\n",
       "      <td>https://pbs.twimg.com/media/CT5Dr8HUEAA-lEu.jpg</td>\n",
       "      <td>1</td>\n",
       "      <td>Rhodesian_ridgeback</td>\n",
       "      <td>0.408143</td>\n",
       "      <td>True</td>\n",
       "      <td>redbone</td>\n",
       "      <td>0.360687</td>\n",
       "      <td>True</td>\n",
       "      <td>miniature_pinscher</td>\n",
       "      <td>0.222752</td>\n",
       "      <td>True</td>\n",
       "    </tr>\n",
       "    <tr>\n",
       "      <th>4</th>\n",
       "      <td>666049248165822465</td>\n",
       "      <td>https://pbs.twimg.com/media/CT5IQmsXIAAKY4A.jpg</td>\n",
       "      <td>1</td>\n",
       "      <td>miniature_pinscher</td>\n",
       "      <td>0.560311</td>\n",
       "      <td>True</td>\n",
       "      <td>Rottweiler</td>\n",
       "      <td>0.243682</td>\n",
       "      <td>True</td>\n",
       "      <td>Doberman</td>\n",
       "      <td>0.154629</td>\n",
       "      <td>True</td>\n",
       "    </tr>\n",
       "  </tbody>\n",
       "</table>\n",
       "</div>"
      ],
      "text/plain": [
       "             tweet_id                                          jpg_url  \\\n",
       "0  666020888022790149  https://pbs.twimg.com/media/CT4udn0WwAA0aMy.jpg   \n",
       "1  666029285002620928  https://pbs.twimg.com/media/CT42GRgUYAA5iDo.jpg   \n",
       "2  666033412701032449  https://pbs.twimg.com/media/CT4521TWwAEvMyu.jpg   \n",
       "3  666044226329800704  https://pbs.twimg.com/media/CT5Dr8HUEAA-lEu.jpg   \n",
       "4  666049248165822465  https://pbs.twimg.com/media/CT5IQmsXIAAKY4A.jpg   \n",
       "\n",
       "   img_num                      p1   p1_conf  p1_dog                  p2  \\\n",
       "0        1  Welsh_springer_spaniel  0.465074    True              collie   \n",
       "1        1                 redbone  0.506826    True  miniature_pinscher   \n",
       "2        1         German_shepherd  0.596461    True            malinois   \n",
       "3        1     Rhodesian_ridgeback  0.408143    True             redbone   \n",
       "4        1      miniature_pinscher  0.560311    True          Rottweiler   \n",
       "\n",
       "    p2_conf  p2_dog                   p3   p3_conf  p3_dog  \n",
       "0  0.156665    True    Shetland_sheepdog  0.061428    True  \n",
       "1  0.074192    True  Rhodesian_ridgeback  0.072010    True  \n",
       "2  0.138584    True           bloodhound  0.116197    True  \n",
       "3  0.360687    True   miniature_pinscher  0.222752    True  \n",
       "4  0.243682    True             Doberman  0.154629    True  "
      ]
     },
     "execution_count": 48,
     "metadata": {},
     "output_type": "execute_result"
    }
   ],
   "source": [
    "df_predictions.head()"
   ]
  },
  {
   "cell_type": "code",
   "execution_count": 49,
   "metadata": {},
   "outputs": [
    {
     "name": "stdout",
     "output_type": "stream",
     "text": [
      "<class 'pandas.core.frame.DataFrame'>\n",
      "RangeIndex: 2075 entries, 0 to 2074\n",
      "Data columns (total 12 columns):\n",
      " #   Column    Non-Null Count  Dtype  \n",
      "---  ------    --------------  -----  \n",
      " 0   tweet_id  2075 non-null   int64  \n",
      " 1   jpg_url   2075 non-null   object \n",
      " 2   img_num   2075 non-null   int64  \n",
      " 3   p1        2075 non-null   object \n",
      " 4   p1_conf   2075 non-null   float64\n",
      " 5   p1_dog    2075 non-null   bool   \n",
      " 6   p2        2075 non-null   object \n",
      " 7   p2_conf   2075 non-null   float64\n",
      " 8   p2_dog    2075 non-null   bool   \n",
      " 9   p3        2075 non-null   object \n",
      " 10  p3_conf   2075 non-null   float64\n",
      " 11  p3_dog    2075 non-null   bool   \n",
      "dtypes: bool(3), float64(3), int64(2), object(4)\n",
      "memory usage: 152.1+ KB\n"
     ]
    }
   ],
   "source": [
    "df_predictions.info()"
   ]
  },
  {
   "cell_type": "code",
   "execution_count": 50,
   "metadata": {},
   "outputs": [
    {
     "data": {
      "text/html": [
       "<div>\n",
       "<style scoped>\n",
       "    .dataframe tbody tr th:only-of-type {\n",
       "        vertical-align: middle;\n",
       "    }\n",
       "\n",
       "    .dataframe tbody tr th {\n",
       "        vertical-align: top;\n",
       "    }\n",
       "\n",
       "    .dataframe thead th {\n",
       "        text-align: right;\n",
       "    }\n",
       "</style>\n",
       "<table border=\"1\" class=\"dataframe\">\n",
       "  <thead>\n",
       "    <tr style=\"text-align: right;\">\n",
       "      <th></th>\n",
       "      <th>tweet_id</th>\n",
       "      <th>img_num</th>\n",
       "      <th>p1_conf</th>\n",
       "      <th>p2_conf</th>\n",
       "      <th>p3_conf</th>\n",
       "    </tr>\n",
       "  </thead>\n",
       "  <tbody>\n",
       "    <tr>\n",
       "      <th>count</th>\n",
       "      <td>2.075000e+03</td>\n",
       "      <td>2075.000000</td>\n",
       "      <td>2075.000000</td>\n",
       "      <td>2.075000e+03</td>\n",
       "      <td>2.075000e+03</td>\n",
       "    </tr>\n",
       "    <tr>\n",
       "      <th>mean</th>\n",
       "      <td>7.384514e+17</td>\n",
       "      <td>1.203855</td>\n",
       "      <td>0.594548</td>\n",
       "      <td>1.345886e-01</td>\n",
       "      <td>6.032417e-02</td>\n",
       "    </tr>\n",
       "    <tr>\n",
       "      <th>std</th>\n",
       "      <td>6.785203e+16</td>\n",
       "      <td>0.561875</td>\n",
       "      <td>0.271174</td>\n",
       "      <td>1.006657e-01</td>\n",
       "      <td>5.090593e-02</td>\n",
       "    </tr>\n",
       "    <tr>\n",
       "      <th>min</th>\n",
       "      <td>6.660209e+17</td>\n",
       "      <td>1.000000</td>\n",
       "      <td>0.044333</td>\n",
       "      <td>1.011300e-08</td>\n",
       "      <td>1.740170e-10</td>\n",
       "    </tr>\n",
       "    <tr>\n",
       "      <th>25%</th>\n",
       "      <td>6.764835e+17</td>\n",
       "      <td>1.000000</td>\n",
       "      <td>0.364412</td>\n",
       "      <td>5.388625e-02</td>\n",
       "      <td>1.622240e-02</td>\n",
       "    </tr>\n",
       "    <tr>\n",
       "      <th>50%</th>\n",
       "      <td>7.119988e+17</td>\n",
       "      <td>1.000000</td>\n",
       "      <td>0.588230</td>\n",
       "      <td>1.181810e-01</td>\n",
       "      <td>4.944380e-02</td>\n",
       "    </tr>\n",
       "    <tr>\n",
       "      <th>75%</th>\n",
       "      <td>7.932034e+17</td>\n",
       "      <td>1.000000</td>\n",
       "      <td>0.843855</td>\n",
       "      <td>1.955655e-01</td>\n",
       "      <td>9.180755e-02</td>\n",
       "    </tr>\n",
       "    <tr>\n",
       "      <th>max</th>\n",
       "      <td>8.924206e+17</td>\n",
       "      <td>4.000000</td>\n",
       "      <td>1.000000</td>\n",
       "      <td>4.880140e-01</td>\n",
       "      <td>2.734190e-01</td>\n",
       "    </tr>\n",
       "  </tbody>\n",
       "</table>\n",
       "</div>"
      ],
      "text/plain": [
       "           tweet_id      img_num      p1_conf       p2_conf       p3_conf\n",
       "count  2.075000e+03  2075.000000  2075.000000  2.075000e+03  2.075000e+03\n",
       "mean   7.384514e+17     1.203855     0.594548  1.345886e-01  6.032417e-02\n",
       "std    6.785203e+16     0.561875     0.271174  1.006657e-01  5.090593e-02\n",
       "min    6.660209e+17     1.000000     0.044333  1.011300e-08  1.740170e-10\n",
       "25%    6.764835e+17     1.000000     0.364412  5.388625e-02  1.622240e-02\n",
       "50%    7.119988e+17     1.000000     0.588230  1.181810e-01  4.944380e-02\n",
       "75%    7.932034e+17     1.000000     0.843855  1.955655e-01  9.180755e-02\n",
       "max    8.924206e+17     4.000000     1.000000  4.880140e-01  2.734190e-01"
      ]
     },
     "execution_count": 50,
     "metadata": {},
     "output_type": "execute_result"
    }
   ],
   "source": [
    "df_predictions.describe()"
   ]
  },
  {
   "cell_type": "code",
   "execution_count": 51,
   "metadata": {},
   "outputs": [
    {
     "name": "stdout",
     "output_type": "stream",
     "text": [
      "True     1532\n",
      "False     543\n",
      "Name: p1_dog, dtype: int64\n",
      "True     1553\n",
      "False     522\n",
      "Name: p2_dog, dtype: int64\n",
      "True     1499\n",
      "False     576\n",
      "Name: p3_dog, dtype: int64\n"
     ]
    }
   ],
   "source": [
    "print(df_predictions.p1_dog.value_counts())\n",
    "print(df_predictions.p2_dog.value_counts())\n",
    "print(df_predictions.p3_dog.value_counts())"
   ]
  },
  {
   "cell_type": "code",
   "execution_count": 52,
   "metadata": {},
   "outputs": [
    {
     "data": {
      "text/plain": [
       "66"
      ]
     },
     "execution_count": 52,
     "metadata": {},
     "output_type": "execute_result"
    }
   ],
   "source": [
    "sum(df_predictions.jpg_url.duplicated())"
   ]
  },
  {
   "cell_type": "markdown",
   "metadata": {},
   "source": [
    "#### Assessing Twitter API data"
   ]
  },
  {
   "cell_type": "code",
   "execution_count": 53,
   "metadata": {},
   "outputs": [
    {
     "data": {
      "text/html": [
       "<div>\n",
       "<style scoped>\n",
       "    .dataframe tbody tr th:only-of-type {\n",
       "        vertical-align: middle;\n",
       "    }\n",
       "\n",
       "    .dataframe tbody tr th {\n",
       "        vertical-align: top;\n",
       "    }\n",
       "\n",
       "    .dataframe thead th {\n",
       "        text-align: right;\n",
       "    }\n",
       "</style>\n",
       "<table border=\"1\" class=\"dataframe\">\n",
       "  <thead>\n",
       "    <tr style=\"text-align: right;\">\n",
       "      <th></th>\n",
       "      <th>tweet_id</th>\n",
       "      <th>retweet_count</th>\n",
       "      <th>favourites</th>\n",
       "    </tr>\n",
       "  </thead>\n",
       "  <tbody>\n",
       "    <tr>\n",
       "      <th>0</th>\n",
       "      <td>892420643555336193</td>\n",
       "      <td>7696</td>\n",
       "      <td>36141</td>\n",
       "    </tr>\n",
       "    <tr>\n",
       "      <th>1</th>\n",
       "      <td>892177421306343426</td>\n",
       "      <td>5693</td>\n",
       "      <td>31170</td>\n",
       "    </tr>\n",
       "    <tr>\n",
       "      <th>2</th>\n",
       "      <td>891815181378084864</td>\n",
       "      <td>3775</td>\n",
       "      <td>23481</td>\n",
       "    </tr>\n",
       "    <tr>\n",
       "      <th>3</th>\n",
       "      <td>891689557279858688</td>\n",
       "      <td>7860</td>\n",
       "      <td>39426</td>\n",
       "    </tr>\n",
       "    <tr>\n",
       "      <th>4</th>\n",
       "      <td>891327558926688256</td>\n",
       "      <td>8469</td>\n",
       "      <td>37649</td>\n",
       "    </tr>\n",
       "    <tr>\n",
       "      <th>...</th>\n",
       "      <td>...</td>\n",
       "      <td>...</td>\n",
       "      <td>...</td>\n",
       "    </tr>\n",
       "    <tr>\n",
       "      <th>2085</th>\n",
       "      <td>666049248165822465</td>\n",
       "      <td>40</td>\n",
       "      <td>96</td>\n",
       "    </tr>\n",
       "    <tr>\n",
       "      <th>2086</th>\n",
       "      <td>666044226329800704</td>\n",
       "      <td>131</td>\n",
       "      <td>272</td>\n",
       "    </tr>\n",
       "    <tr>\n",
       "      <th>2087</th>\n",
       "      <td>666033412701032449</td>\n",
       "      <td>41</td>\n",
       "      <td>112</td>\n",
       "    </tr>\n",
       "    <tr>\n",
       "      <th>2088</th>\n",
       "      <td>666029285002620928</td>\n",
       "      <td>42</td>\n",
       "      <td>121</td>\n",
       "    </tr>\n",
       "    <tr>\n",
       "      <th>2089</th>\n",
       "      <td>666020888022790149</td>\n",
       "      <td>460</td>\n",
       "      <td>2412</td>\n",
       "    </tr>\n",
       "  </tbody>\n",
       "</table>\n",
       "<p>2090 rows × 3 columns</p>\n",
       "</div>"
      ],
      "text/plain": [
       "                tweet_id  retweet_count  favourites\n",
       "0     892420643555336193           7696       36141\n",
       "1     892177421306343426           5693       31170\n",
       "2     891815181378084864           3775       23481\n",
       "3     891689557279858688           7860       39426\n",
       "4     891327558926688256           8469       37649\n",
       "...                  ...            ...         ...\n",
       "2085  666049248165822465             40          96\n",
       "2086  666044226329800704            131         272\n",
       "2087  666033412701032449             41         112\n",
       "2088  666029285002620928             42         121\n",
       "2089  666020888022790149            460        2412\n",
       "\n",
       "[2090 rows x 3 columns]"
      ]
     },
     "execution_count": 53,
     "metadata": {},
     "output_type": "execute_result"
    }
   ],
   "source": [
    "df_tweet_details"
   ]
  },
  {
   "cell_type": "code",
   "execution_count": 54,
   "metadata": {},
   "outputs": [
    {
     "name": "stdout",
     "output_type": "stream",
     "text": [
      "<class 'pandas.core.frame.DataFrame'>\n",
      "Int64Index: 2090 entries, 0 to 2089\n",
      "Data columns (total 3 columns):\n",
      " #   Column         Non-Null Count  Dtype\n",
      "---  ------         --------------  -----\n",
      " 0   tweet_id       2090 non-null   int64\n",
      " 1   retweet_count  2090 non-null   int64\n",
      " 2   favourites     2090 non-null   int64\n",
      "dtypes: int64(3)\n",
      "memory usage: 65.3 KB\n"
     ]
    }
   ],
   "source": [
    "df_tweet_details.info()"
   ]
  },
  {
   "cell_type": "code",
   "execution_count": 55,
   "metadata": {},
   "outputs": [
    {
     "data": {
      "text/plain": [
       "0"
      ]
     },
     "execution_count": 55,
     "metadata": {},
     "output_type": "execute_result"
    }
   ],
   "source": [
    "sum(df_tweet_details.duplicated())"
   ]
  },
  {
   "cell_type": "code",
   "execution_count": 56,
   "metadata": {},
   "outputs": [
    {
     "name": "stdout",
     "output_type": "stream",
     "text": [
      "0\n",
      "0\n",
      "0\n"
     ]
    }
   ],
   "source": [
    "print(sum(df_tweet_details.tweet_id.isna()))\n",
    "print(sum(df_tweet_details.retweet_count.isna()))\n",
    "print(sum(df_tweet_details.favourites.isna()))"
   ]
  },
  {
   "cell_type": "code",
   "execution_count": 57,
   "metadata": {},
   "outputs": [
    {
     "name": "stdout",
     "output_type": "stream",
     "text": [
      "0\n",
      "0\n",
      "0\n"
     ]
    }
   ],
   "source": [
    "print(sum(df_tweet_details.tweet_id.isnull()))\n",
    "print(sum(df_tweet_details.retweet_count.isnull()))\n",
    "print(sum(df_tweet_details.favourites.isnull()))"
   ]
  },
  {
   "cell_type": "code",
   "execution_count": 58,
   "metadata": {},
   "outputs": [
    {
     "name": "stdout",
     "output_type": "stream",
     "text": [
      "0\n"
     ]
    }
   ],
   "source": [
    "print(sum(df_tweet_details.tweet_id.duplicated()))"
   ]
  },
  {
   "cell_type": "markdown",
   "metadata": {},
   "source": [
    "From visual and programmatic assessments, we can find the following:\n",
    "\n",
    "#### Archieve\n",
    "<ol> \n",
    "    <li> Data is untidy because of the dogtionary labels</li>\n",
    "    <li> Also untidy, unwanted retweets and replies (already removed before using the API) </li>\n",
    "    <li> Many names are None, some could be misinterpreted as an, a, the, etc. </li>\n",
    "    <li> Time stamp not date-time type </li>\n",
    "    <li> We have 5 empty columns, another has some missing values </li>\n",
    "    <li> Source has anchor tags on it </li>\n",
    "    <li> Very unusual rating numerator and denominators (After taking a look, apparently these oversized rates are given for the presence of multiple dogs at the same time) </li>\n",
    "    <li> 3 duplicate expanded urls </li>\n",
    "    <li> 2 overvalued numerators, one of them is snoopdog </li>\n",
    "    <li> Some tweets contain floats which were chopped (9.75/10 -> 75/10)</li>\n",
    "</ol>\n",
    "\n",
    "#### Predictions\n",
    "\n",
    "<ol> \n",
    "    <li> Many predictions don't indicate it's dog at all </li>\n",
    "    <li> Predictions dataset is smaller than the archieve, even after removing retweets and replies </li> \n",
    "    <li> Extra columns for prediction are unecessary, it is making the data untidy</li>\n",
    "    <li> Duplicate photos</li>\n",
    "</ol>\n",
    "\n",
    "#### Twitter API data\n",
    "<ul> \n",
    "    <li>API dataset smaller than archieve, even after removing retweets and replies, some tweets are missing </li>\n",
    "    \n",
    "</ul>\n"
   ]
  },
  {
   "cell_type": "markdown",
   "metadata": {},
   "source": [
    "## Cleaning"
   ]
  },
  {
   "cell_type": "markdown",
   "metadata": {},
   "source": [
    "With the previous remarks given in the assessment, we could clean each dataset individually and combined them together later."
   ]
  },
  {
   "cell_type": "markdown",
   "metadata": {},
   "source": [
    "### Cleaning Archieve \n",
    "\n",
    "I have already started cleaning by removing retweets and replies, because I wanted to reduce the amount of times I called the twitter API so that's one step done already"
   ]
  },
  {
   "cell_type": "code",
   "execution_count": 59,
   "metadata": {},
   "outputs": [
    {
     "data": {
      "text/html": [
       "<div>\n",
       "<style scoped>\n",
       "    .dataframe tbody tr th:only-of-type {\n",
       "        vertical-align: middle;\n",
       "    }\n",
       "\n",
       "    .dataframe tbody tr th {\n",
       "        vertical-align: top;\n",
       "    }\n",
       "\n",
       "    .dataframe thead th {\n",
       "        text-align: right;\n",
       "    }\n",
       "</style>\n",
       "<table border=\"1\" class=\"dataframe\">\n",
       "  <thead>\n",
       "    <tr style=\"text-align: right;\">\n",
       "      <th></th>\n",
       "      <th>tweet_id</th>\n",
       "      <th>in_reply_to_status_id</th>\n",
       "      <th>in_reply_to_user_id</th>\n",
       "      <th>timestamp</th>\n",
       "      <th>source</th>\n",
       "      <th>text</th>\n",
       "      <th>retweeted_status_id</th>\n",
       "      <th>retweeted_status_user_id</th>\n",
       "      <th>retweeted_status_timestamp</th>\n",
       "      <th>expanded_urls</th>\n",
       "      <th>rating_numerator</th>\n",
       "      <th>rating_denominator</th>\n",
       "      <th>name</th>\n",
       "      <th>doggo</th>\n",
       "      <th>floofer</th>\n",
       "      <th>pupper</th>\n",
       "      <th>puppo</th>\n",
       "    </tr>\n",
       "  </thead>\n",
       "  <tbody>\n",
       "    <tr>\n",
       "      <th>0</th>\n",
       "      <td>892420643555336193</td>\n",
       "      <td>NaN</td>\n",
       "      <td>NaN</td>\n",
       "      <td>2017-08-01 16:23:56 +0000</td>\n",
       "      <td>&lt;a href=\"http://twitter.com/download/iphone\" r...</td>\n",
       "      <td>This is Phineas. He's a mystical boy. Only eve...</td>\n",
       "      <td>NaN</td>\n",
       "      <td>NaN</td>\n",
       "      <td>NaN</td>\n",
       "      <td>https://twitter.com/dog_rates/status/892420643...</td>\n",
       "      <td>13</td>\n",
       "      <td>10</td>\n",
       "      <td>Phineas</td>\n",
       "      <td>None</td>\n",
       "      <td>None</td>\n",
       "      <td>None</td>\n",
       "      <td>None</td>\n",
       "    </tr>\n",
       "    <tr>\n",
       "      <th>1</th>\n",
       "      <td>892177421306343426</td>\n",
       "      <td>NaN</td>\n",
       "      <td>NaN</td>\n",
       "      <td>2017-08-01 00:17:27 +0000</td>\n",
       "      <td>&lt;a href=\"http://twitter.com/download/iphone\" r...</td>\n",
       "      <td>This is Tilly. She's just checking pup on you....</td>\n",
       "      <td>NaN</td>\n",
       "      <td>NaN</td>\n",
       "      <td>NaN</td>\n",
       "      <td>https://twitter.com/dog_rates/status/892177421...</td>\n",
       "      <td>13</td>\n",
       "      <td>10</td>\n",
       "      <td>Tilly</td>\n",
       "      <td>None</td>\n",
       "      <td>None</td>\n",
       "      <td>None</td>\n",
       "      <td>None</td>\n",
       "    </tr>\n",
       "  </tbody>\n",
       "</table>\n",
       "</div>"
      ],
      "text/plain": [
       "             tweet_id  in_reply_to_status_id  in_reply_to_user_id  \\\n",
       "0  892420643555336193                    NaN                  NaN   \n",
       "1  892177421306343426                    NaN                  NaN   \n",
       "\n",
       "                   timestamp  \\\n",
       "0  2017-08-01 16:23:56 +0000   \n",
       "1  2017-08-01 00:17:27 +0000   \n",
       "\n",
       "                                              source  \\\n",
       "0  <a href=\"http://twitter.com/download/iphone\" r...   \n",
       "1  <a href=\"http://twitter.com/download/iphone\" r...   \n",
       "\n",
       "                                                text  retweeted_status_id  \\\n",
       "0  This is Phineas. He's a mystical boy. Only eve...                  NaN   \n",
       "1  This is Tilly. She's just checking pup on you....                  NaN   \n",
       "\n",
       "   retweeted_status_user_id retweeted_status_timestamp  \\\n",
       "0                       NaN                        NaN   \n",
       "1                       NaN                        NaN   \n",
       "\n",
       "                                       expanded_urls  rating_numerator  \\\n",
       "0  https://twitter.com/dog_rates/status/892420643...                13   \n",
       "1  https://twitter.com/dog_rates/status/892177421...                13   \n",
       "\n",
       "   rating_denominator     name doggo floofer pupper puppo  \n",
       "0                  10  Phineas  None    None   None  None  \n",
       "1                  10    Tilly  None    None   None  None  "
      ]
     },
     "execution_count": 59,
     "metadata": {},
     "output_type": "execute_result"
    }
   ],
   "source": [
    "df_tweets_cleaned.head(2)"
   ]
  },
  {
   "cell_type": "markdown",
   "metadata": {},
   "source": [
    "**Remove unecessary columns**"
   ]
  },
  {
   "cell_type": "code",
   "execution_count": 60,
   "metadata": {},
   "outputs": [],
   "source": [
    "df_archieve_copy = df_tweets_cleaned.drop(['in_reply_to_status_id',\n",
    "                       'in_reply_to_user_id',\n",
    "                      'retweeted_status_id',\n",
    "                       'retweeted_status_user_id',\n",
    "                      'retweeted_status_timestamp'],axis=1)"
   ]
  },
  {
   "cell_type": "code",
   "execution_count": 61,
   "metadata": {},
   "outputs": [
    {
     "name": "stdout",
     "output_type": "stream",
     "text": [
      "<class 'pandas.core.frame.DataFrame'>\n",
      "Int64Index: 2097 entries, 0 to 2355\n",
      "Data columns (total 12 columns):\n",
      " #   Column              Non-Null Count  Dtype \n",
      "---  ------              --------------  ----- \n",
      " 0   tweet_id            2097 non-null   int64 \n",
      " 1   timestamp           2097 non-null   object\n",
      " 2   source              2097 non-null   object\n",
      " 3   text                2097 non-null   object\n",
      " 4   expanded_urls       2094 non-null   object\n",
      " 5   rating_numerator    2097 non-null   int64 \n",
      " 6   rating_denominator  2097 non-null   int64 \n",
      " 7   name                2097 non-null   object\n",
      " 8   doggo               2097 non-null   object\n",
      " 9   floofer             2097 non-null   object\n",
      " 10  pupper              2097 non-null   object\n",
      " 11  puppo               2097 non-null   object\n",
      "dtypes: int64(3), object(9)\n",
      "memory usage: 213.0+ KB\n"
     ]
    }
   ],
   "source": [
    "df_archieve_copy.info()"
   ]
  },
  {
   "cell_type": "markdown",
   "metadata": {},
   "source": [
    "**Make timestamp a datetime type**"
   ]
  },
  {
   "cell_type": "code",
   "execution_count": 62,
   "metadata": {},
   "outputs": [
    {
     "data": {
      "text/plain": [
       "0      2017-08-01 16:23:56+00:00\n",
       "1      2017-08-01 00:17:27+00:00\n",
       "2      2017-07-31 00:18:03+00:00\n",
       "3      2017-07-30 15:58:51+00:00\n",
       "4      2017-07-29 16:00:24+00:00\n",
       "                  ...           \n",
       "2351   2015-11-16 00:24:50+00:00\n",
       "2352   2015-11-16 00:04:52+00:00\n",
       "2353   2015-11-15 23:21:54+00:00\n",
       "2354   2015-11-15 23:05:30+00:00\n",
       "2355   2015-11-15 22:32:08+00:00\n",
       "Name: timestamp, Length: 2097, dtype: datetime64[ns, UTC]"
      ]
     },
     "execution_count": 62,
     "metadata": {},
     "output_type": "execute_result"
    }
   ],
   "source": [
    "time = pd.to_datetime(df_archieve_copy['timestamp'], format=\"%Y-%m-%d %H:%M:%S %z\")\n",
    "time"
   ]
  },
  {
   "cell_type": "code",
   "execution_count": 63,
   "metadata": {},
   "outputs": [],
   "source": [
    "df_archieve_copy['timestamp'] = time"
   ]
  },
  {
   "cell_type": "code",
   "execution_count": 64,
   "metadata": {},
   "outputs": [
    {
     "name": "stdout",
     "output_type": "stream",
     "text": [
      "<class 'pandas.core.frame.DataFrame'>\n",
      "Int64Index: 2097 entries, 0 to 2355\n",
      "Data columns (total 12 columns):\n",
      " #   Column              Non-Null Count  Dtype              \n",
      "---  ------              --------------  -----              \n",
      " 0   tweet_id            2097 non-null   int64              \n",
      " 1   timestamp           2097 non-null   datetime64[ns, UTC]\n",
      " 2   source              2097 non-null   object             \n",
      " 3   text                2097 non-null   object             \n",
      " 4   expanded_urls       2094 non-null   object             \n",
      " 5   rating_numerator    2097 non-null   int64              \n",
      " 6   rating_denominator  2097 non-null   int64              \n",
      " 7   name                2097 non-null   object             \n",
      " 8   doggo               2097 non-null   object             \n",
      " 9   floofer             2097 non-null   object             \n",
      " 10  pupper              2097 non-null   object             \n",
      " 11  puppo               2097 non-null   object             \n",
      "dtypes: datetime64[ns, UTC](1), int64(3), object(8)\n",
      "memory usage: 213.0+ KB\n"
     ]
    }
   ],
   "source": [
    "df_archieve_copy.info()"
   ]
  },
  {
   "cell_type": "markdown",
   "metadata": {},
   "source": [
    "**Unifying the dogtionary**"
   ]
  },
  {
   "cell_type": "code",
   "execution_count": 65,
   "metadata": {},
   "outputs": [
    {
     "name": "stdout",
     "output_type": "stream",
     "text": [
      "['None' 'floofer']\n",
      "['None' 'puppo']\n",
      "['None' 'doggo']\n",
      "['None' 'pupper']\n"
     ]
    }
   ],
   "source": [
    "# Checking that no noise is in the dogtionary(should have done that earlier)\n",
    "print(df_archieve_copy['floofer'].unique()) \n",
    "print(df_archieve_copy['puppo'].unique()) \n",
    "print(df_archieve_copy['doggo'].unique()) \n",
    "print(df_archieve_copy['pupper'].unique()) "
   ]
  },
  {
   "cell_type": "code",
   "execution_count": 66,
   "metadata": {},
   "outputs": [
    {
     "data": {
      "text/plain": [
       "0     None None\n",
       "1     None None\n",
       "2     None None\n",
       "3     None None\n",
       "4     None None\n",
       "5     None None\n",
       "6     None None\n",
       "7     None None\n",
       "8     None None\n",
       "9    None doggo\n",
       "dtype: object"
      ]
     },
     "execution_count": 66,
     "metadata": {},
     "output_type": "execute_result"
    }
   ],
   "source": [
    "(df_archieve_copy['puppo']+' ' +df_archieve_copy['doggo']).head(10).replace('None ', '')\n",
    "#this did not work"
   ]
  },
  {
   "cell_type": "code",
   "execution_count": 67,
   "metadata": {},
   "outputs": [
    {
     "data": {
      "text/plain": [
       "0        \n",
       "1        \n",
       "2        \n",
       "3        \n",
       "4        \n",
       "       ..\n",
       "2351     \n",
       "2352     \n",
       "2353     \n",
       "2354     \n",
       "2355     \n",
       "Name: puppo, Length: 2097, dtype: object"
      ]
     },
     "execution_count": 67,
     "metadata": {},
     "output_type": "execute_result"
    }
   ],
   "source": [
    "df_archieve_copy['puppo'].replace('None', '')"
   ]
  },
  {
   "cell_type": "code",
   "execution_count": 68,
   "metadata": {},
   "outputs": [],
   "source": [
    "df_archieve_copy['doggo'] = df_archieve_copy['doggo'].replace('None', 'NaN')\n",
    "df_archieve_copy['puppo'] = df_archieve_copy['puppo'].replace('None', 'NaN')\n",
    "df_archieve_copy['floofer'] = df_archieve_copy['floofer'].replace('None', 'NaN')\n",
    "df_archieve_copy['pupper'] = df_archieve_copy['pupper'].replace('None', 'NaN')"
   ]
  },
  {
   "cell_type": "code",
   "execution_count": 69,
   "metadata": {},
   "outputs": [],
   "source": [
    "df_archieve_copy['dogtionary'] = (df_archieve_copy['doggo']+df_archieve_copy['puppo']+\n",
    "                                  df_archieve_copy['floofer']+df_archieve_copy['pupper'])\n"
   ]
  },
  {
   "cell_type": "code",
   "execution_count": 70,
   "metadata": {},
   "outputs": [],
   "source": [
    "df_archieve_copy2 = df_archieve_copy.drop(['doggo','floofer',\n",
    "                                           'pupper','puppo',],axis=1)"
   ]
  },
  {
   "cell_type": "code",
   "execution_count": 71,
   "metadata": {
    "scrolled": true
   },
   "outputs": [
    {
     "data": {
      "text/html": [
       "<div>\n",
       "<style scoped>\n",
       "    .dataframe tbody tr th:only-of-type {\n",
       "        vertical-align: middle;\n",
       "    }\n",
       "\n",
       "    .dataframe tbody tr th {\n",
       "        vertical-align: top;\n",
       "    }\n",
       "\n",
       "    .dataframe thead th {\n",
       "        text-align: right;\n",
       "    }\n",
       "</style>\n",
       "<table border=\"1\" class=\"dataframe\">\n",
       "  <thead>\n",
       "    <tr style=\"text-align: right;\">\n",
       "      <th></th>\n",
       "      <th>tweet_id</th>\n",
       "      <th>timestamp</th>\n",
       "      <th>source</th>\n",
       "      <th>text</th>\n",
       "      <th>expanded_urls</th>\n",
       "      <th>rating_numerator</th>\n",
       "      <th>rating_denominator</th>\n",
       "      <th>name</th>\n",
       "      <th>dogtionary</th>\n",
       "    </tr>\n",
       "  </thead>\n",
       "  <tbody>\n",
       "    <tr>\n",
       "      <th>0</th>\n",
       "      <td>892420643555336193</td>\n",
       "      <td>2017-08-01 16:23:56+00:00</td>\n",
       "      <td>&lt;a href=\"http://twitter.com/download/iphone\" r...</td>\n",
       "      <td>This is Phineas. He's a mystical boy. Only eve...</td>\n",
       "      <td>https://twitter.com/dog_rates/status/892420643...</td>\n",
       "      <td>13</td>\n",
       "      <td>10</td>\n",
       "      <td>Phineas</td>\n",
       "      <td>NaNNaNNaNNaN</td>\n",
       "    </tr>\n",
       "    <tr>\n",
       "      <th>1</th>\n",
       "      <td>892177421306343426</td>\n",
       "      <td>2017-08-01 00:17:27+00:00</td>\n",
       "      <td>&lt;a href=\"http://twitter.com/download/iphone\" r...</td>\n",
       "      <td>This is Tilly. She's just checking pup on you....</td>\n",
       "      <td>https://twitter.com/dog_rates/status/892177421...</td>\n",
       "      <td>13</td>\n",
       "      <td>10</td>\n",
       "      <td>Tilly</td>\n",
       "      <td>NaNNaNNaNNaN</td>\n",
       "    </tr>\n",
       "    <tr>\n",
       "      <th>2</th>\n",
       "      <td>891815181378084864</td>\n",
       "      <td>2017-07-31 00:18:03+00:00</td>\n",
       "      <td>&lt;a href=\"http://twitter.com/download/iphone\" r...</td>\n",
       "      <td>This is Archie. He is a rare Norwegian Pouncin...</td>\n",
       "      <td>https://twitter.com/dog_rates/status/891815181...</td>\n",
       "      <td>12</td>\n",
       "      <td>10</td>\n",
       "      <td>Archie</td>\n",
       "      <td>NaNNaNNaNNaN</td>\n",
       "    </tr>\n",
       "    <tr>\n",
       "      <th>3</th>\n",
       "      <td>891689557279858688</td>\n",
       "      <td>2017-07-30 15:58:51+00:00</td>\n",
       "      <td>&lt;a href=\"http://twitter.com/download/iphone\" r...</td>\n",
       "      <td>This is Darla. She commenced a snooze mid meal...</td>\n",
       "      <td>https://twitter.com/dog_rates/status/891689557...</td>\n",
       "      <td>13</td>\n",
       "      <td>10</td>\n",
       "      <td>Darla</td>\n",
       "      <td>NaNNaNNaNNaN</td>\n",
       "    </tr>\n",
       "    <tr>\n",
       "      <th>4</th>\n",
       "      <td>891327558926688256</td>\n",
       "      <td>2017-07-29 16:00:24+00:00</td>\n",
       "      <td>&lt;a href=\"http://twitter.com/download/iphone\" r...</td>\n",
       "      <td>This is Franklin. He would like you to stop ca...</td>\n",
       "      <td>https://twitter.com/dog_rates/status/891327558...</td>\n",
       "      <td>12</td>\n",
       "      <td>10</td>\n",
       "      <td>Franklin</td>\n",
       "      <td>NaNNaNNaNNaN</td>\n",
       "    </tr>\n",
       "    <tr>\n",
       "      <th>5</th>\n",
       "      <td>891087950875897856</td>\n",
       "      <td>2017-07-29 00:08:17+00:00</td>\n",
       "      <td>&lt;a href=\"http://twitter.com/download/iphone\" r...</td>\n",
       "      <td>Here we have a majestic great white breaching ...</td>\n",
       "      <td>https://twitter.com/dog_rates/status/891087950...</td>\n",
       "      <td>13</td>\n",
       "      <td>10</td>\n",
       "      <td>None</td>\n",
       "      <td>NaNNaNNaNNaN</td>\n",
       "    </tr>\n",
       "    <tr>\n",
       "      <th>6</th>\n",
       "      <td>890971913173991426</td>\n",
       "      <td>2017-07-28 16:27:12+00:00</td>\n",
       "      <td>&lt;a href=\"http://twitter.com/download/iphone\" r...</td>\n",
       "      <td>Meet Jax. He enjoys ice cream so much he gets ...</td>\n",
       "      <td>https://gofundme.com/ydvmve-surgery-for-jax,ht...</td>\n",
       "      <td>13</td>\n",
       "      <td>10</td>\n",
       "      <td>Jax</td>\n",
       "      <td>NaNNaNNaNNaN</td>\n",
       "    </tr>\n",
       "    <tr>\n",
       "      <th>7</th>\n",
       "      <td>890729181411237888</td>\n",
       "      <td>2017-07-28 00:22:40+00:00</td>\n",
       "      <td>&lt;a href=\"http://twitter.com/download/iphone\" r...</td>\n",
       "      <td>When you watch your owner call another dog a g...</td>\n",
       "      <td>https://twitter.com/dog_rates/status/890729181...</td>\n",
       "      <td>13</td>\n",
       "      <td>10</td>\n",
       "      <td>None</td>\n",
       "      <td>NaNNaNNaNNaN</td>\n",
       "    </tr>\n",
       "    <tr>\n",
       "      <th>8</th>\n",
       "      <td>890609185150312448</td>\n",
       "      <td>2017-07-27 16:25:51+00:00</td>\n",
       "      <td>&lt;a href=\"http://twitter.com/download/iphone\" r...</td>\n",
       "      <td>This is Zoey. She doesn't want to be one of th...</td>\n",
       "      <td>https://twitter.com/dog_rates/status/890609185...</td>\n",
       "      <td>13</td>\n",
       "      <td>10</td>\n",
       "      <td>Zoey</td>\n",
       "      <td>NaNNaNNaNNaN</td>\n",
       "    </tr>\n",
       "    <tr>\n",
       "      <th>9</th>\n",
       "      <td>890240255349198849</td>\n",
       "      <td>2017-07-26 15:59:51+00:00</td>\n",
       "      <td>&lt;a href=\"http://twitter.com/download/iphone\" r...</td>\n",
       "      <td>This is Cassie. She is a college pup. Studying...</td>\n",
       "      <td>https://twitter.com/dog_rates/status/890240255...</td>\n",
       "      <td>14</td>\n",
       "      <td>10</td>\n",
       "      <td>Cassie</td>\n",
       "      <td>doggoNaNNaNNaN</td>\n",
       "    </tr>\n",
       "    <tr>\n",
       "      <th>10</th>\n",
       "      <td>890006608113172480</td>\n",
       "      <td>2017-07-26 00:31:25+00:00</td>\n",
       "      <td>&lt;a href=\"http://twitter.com/download/iphone\" r...</td>\n",
       "      <td>This is Koda. He is a South Australian decksha...</td>\n",
       "      <td>https://twitter.com/dog_rates/status/890006608...</td>\n",
       "      <td>13</td>\n",
       "      <td>10</td>\n",
       "      <td>Koda</td>\n",
       "      <td>NaNNaNNaNNaN</td>\n",
       "    </tr>\n",
       "    <tr>\n",
       "      <th>11</th>\n",
       "      <td>889880896479866881</td>\n",
       "      <td>2017-07-25 16:11:53+00:00</td>\n",
       "      <td>&lt;a href=\"http://twitter.com/download/iphone\" r...</td>\n",
       "      <td>This is Bruno. He is a service shark. Only get...</td>\n",
       "      <td>https://twitter.com/dog_rates/status/889880896...</td>\n",
       "      <td>13</td>\n",
       "      <td>10</td>\n",
       "      <td>Bruno</td>\n",
       "      <td>NaNNaNNaNNaN</td>\n",
       "    </tr>\n",
       "    <tr>\n",
       "      <th>12</th>\n",
       "      <td>889665388333682689</td>\n",
       "      <td>2017-07-25 01:55:32+00:00</td>\n",
       "      <td>&lt;a href=\"http://twitter.com/download/iphone\" r...</td>\n",
       "      <td>Here's a puppo that seems to be on the fence a...</td>\n",
       "      <td>https://twitter.com/dog_rates/status/889665388...</td>\n",
       "      <td>13</td>\n",
       "      <td>10</td>\n",
       "      <td>None</td>\n",
       "      <td>NaNpuppoNaNNaN</td>\n",
       "    </tr>\n",
       "    <tr>\n",
       "      <th>13</th>\n",
       "      <td>889638837579907072</td>\n",
       "      <td>2017-07-25 00:10:02+00:00</td>\n",
       "      <td>&lt;a href=\"http://twitter.com/download/iphone\" r...</td>\n",
       "      <td>This is Ted. He does his best. Sometimes that'...</td>\n",
       "      <td>https://twitter.com/dog_rates/status/889638837...</td>\n",
       "      <td>12</td>\n",
       "      <td>10</td>\n",
       "      <td>Ted</td>\n",
       "      <td>NaNNaNNaNNaN</td>\n",
       "    </tr>\n",
       "    <tr>\n",
       "      <th>14</th>\n",
       "      <td>889531135344209921</td>\n",
       "      <td>2017-07-24 17:02:04+00:00</td>\n",
       "      <td>&lt;a href=\"http://twitter.com/download/iphone\" r...</td>\n",
       "      <td>This is Stuart. He's sporting his favorite fan...</td>\n",
       "      <td>https://twitter.com/dog_rates/status/889531135...</td>\n",
       "      <td>13</td>\n",
       "      <td>10</td>\n",
       "      <td>Stuart</td>\n",
       "      <td>NaNpuppoNaNNaN</td>\n",
       "    </tr>\n",
       "    <tr>\n",
       "      <th>15</th>\n",
       "      <td>889278841981685760</td>\n",
       "      <td>2017-07-24 00:19:32+00:00</td>\n",
       "      <td>&lt;a href=\"http://twitter.com/download/iphone\" r...</td>\n",
       "      <td>This is Oliver. You're witnessing one of his m...</td>\n",
       "      <td>https://twitter.com/dog_rates/status/889278841...</td>\n",
       "      <td>13</td>\n",
       "      <td>10</td>\n",
       "      <td>Oliver</td>\n",
       "      <td>NaNNaNNaNNaN</td>\n",
       "    </tr>\n",
       "    <tr>\n",
       "      <th>16</th>\n",
       "      <td>888917238123831296</td>\n",
       "      <td>2017-07-23 00:22:39+00:00</td>\n",
       "      <td>&lt;a href=\"http://twitter.com/download/iphone\" r...</td>\n",
       "      <td>This is Jim. He found a fren. Taught him how t...</td>\n",
       "      <td>https://twitter.com/dog_rates/status/888917238...</td>\n",
       "      <td>12</td>\n",
       "      <td>10</td>\n",
       "      <td>Jim</td>\n",
       "      <td>NaNNaNNaNNaN</td>\n",
       "    </tr>\n",
       "    <tr>\n",
       "      <th>17</th>\n",
       "      <td>888804989199671297</td>\n",
       "      <td>2017-07-22 16:56:37+00:00</td>\n",
       "      <td>&lt;a href=\"http://twitter.com/download/iphone\" r...</td>\n",
       "      <td>This is Zeke. He has a new stick. Very proud o...</td>\n",
       "      <td>https://twitter.com/dog_rates/status/888804989...</td>\n",
       "      <td>13</td>\n",
       "      <td>10</td>\n",
       "      <td>Zeke</td>\n",
       "      <td>NaNNaNNaNNaN</td>\n",
       "    </tr>\n",
       "    <tr>\n",
       "      <th>18</th>\n",
       "      <td>888554962724278272</td>\n",
       "      <td>2017-07-22 00:23:06+00:00</td>\n",
       "      <td>&lt;a href=\"http://twitter.com/download/iphone\" r...</td>\n",
       "      <td>This is Ralphus. He's powering up. Attempting ...</td>\n",
       "      <td>https://twitter.com/dog_rates/status/888554962...</td>\n",
       "      <td>13</td>\n",
       "      <td>10</td>\n",
       "      <td>Ralphus</td>\n",
       "      <td>NaNNaNNaNNaN</td>\n",
       "    </tr>\n",
       "    <tr>\n",
       "      <th>20</th>\n",
       "      <td>888078434458587136</td>\n",
       "      <td>2017-07-20 16:49:33+00:00</td>\n",
       "      <td>&lt;a href=\"http://twitter.com/download/iphone\" r...</td>\n",
       "      <td>This is Gerald. He was just told he didn't get...</td>\n",
       "      <td>https://twitter.com/dog_rates/status/888078434...</td>\n",
       "      <td>12</td>\n",
       "      <td>10</td>\n",
       "      <td>Gerald</td>\n",
       "      <td>NaNNaNNaNNaN</td>\n",
       "    </tr>\n",
       "  </tbody>\n",
       "</table>\n",
       "</div>"
      ],
      "text/plain": [
       "              tweet_id                 timestamp  \\\n",
       "0   892420643555336193 2017-08-01 16:23:56+00:00   \n",
       "1   892177421306343426 2017-08-01 00:17:27+00:00   \n",
       "2   891815181378084864 2017-07-31 00:18:03+00:00   \n",
       "3   891689557279858688 2017-07-30 15:58:51+00:00   \n",
       "4   891327558926688256 2017-07-29 16:00:24+00:00   \n",
       "5   891087950875897856 2017-07-29 00:08:17+00:00   \n",
       "6   890971913173991426 2017-07-28 16:27:12+00:00   \n",
       "7   890729181411237888 2017-07-28 00:22:40+00:00   \n",
       "8   890609185150312448 2017-07-27 16:25:51+00:00   \n",
       "9   890240255349198849 2017-07-26 15:59:51+00:00   \n",
       "10  890006608113172480 2017-07-26 00:31:25+00:00   \n",
       "11  889880896479866881 2017-07-25 16:11:53+00:00   \n",
       "12  889665388333682689 2017-07-25 01:55:32+00:00   \n",
       "13  889638837579907072 2017-07-25 00:10:02+00:00   \n",
       "14  889531135344209921 2017-07-24 17:02:04+00:00   \n",
       "15  889278841981685760 2017-07-24 00:19:32+00:00   \n",
       "16  888917238123831296 2017-07-23 00:22:39+00:00   \n",
       "17  888804989199671297 2017-07-22 16:56:37+00:00   \n",
       "18  888554962724278272 2017-07-22 00:23:06+00:00   \n",
       "20  888078434458587136 2017-07-20 16:49:33+00:00   \n",
       "\n",
       "                                               source  \\\n",
       "0   <a href=\"http://twitter.com/download/iphone\" r...   \n",
       "1   <a href=\"http://twitter.com/download/iphone\" r...   \n",
       "2   <a href=\"http://twitter.com/download/iphone\" r...   \n",
       "3   <a href=\"http://twitter.com/download/iphone\" r...   \n",
       "4   <a href=\"http://twitter.com/download/iphone\" r...   \n",
       "5   <a href=\"http://twitter.com/download/iphone\" r...   \n",
       "6   <a href=\"http://twitter.com/download/iphone\" r...   \n",
       "7   <a href=\"http://twitter.com/download/iphone\" r...   \n",
       "8   <a href=\"http://twitter.com/download/iphone\" r...   \n",
       "9   <a href=\"http://twitter.com/download/iphone\" r...   \n",
       "10  <a href=\"http://twitter.com/download/iphone\" r...   \n",
       "11  <a href=\"http://twitter.com/download/iphone\" r...   \n",
       "12  <a href=\"http://twitter.com/download/iphone\" r...   \n",
       "13  <a href=\"http://twitter.com/download/iphone\" r...   \n",
       "14  <a href=\"http://twitter.com/download/iphone\" r...   \n",
       "15  <a href=\"http://twitter.com/download/iphone\" r...   \n",
       "16  <a href=\"http://twitter.com/download/iphone\" r...   \n",
       "17  <a href=\"http://twitter.com/download/iphone\" r...   \n",
       "18  <a href=\"http://twitter.com/download/iphone\" r...   \n",
       "20  <a href=\"http://twitter.com/download/iphone\" r...   \n",
       "\n",
       "                                                 text  \\\n",
       "0   This is Phineas. He's a mystical boy. Only eve...   \n",
       "1   This is Tilly. She's just checking pup on you....   \n",
       "2   This is Archie. He is a rare Norwegian Pouncin...   \n",
       "3   This is Darla. She commenced a snooze mid meal...   \n",
       "4   This is Franklin. He would like you to stop ca...   \n",
       "5   Here we have a majestic great white breaching ...   \n",
       "6   Meet Jax. He enjoys ice cream so much he gets ...   \n",
       "7   When you watch your owner call another dog a g...   \n",
       "8   This is Zoey. She doesn't want to be one of th...   \n",
       "9   This is Cassie. She is a college pup. Studying...   \n",
       "10  This is Koda. He is a South Australian decksha...   \n",
       "11  This is Bruno. He is a service shark. Only get...   \n",
       "12  Here's a puppo that seems to be on the fence a...   \n",
       "13  This is Ted. He does his best. Sometimes that'...   \n",
       "14  This is Stuart. He's sporting his favorite fan...   \n",
       "15  This is Oliver. You're witnessing one of his m...   \n",
       "16  This is Jim. He found a fren. Taught him how t...   \n",
       "17  This is Zeke. He has a new stick. Very proud o...   \n",
       "18  This is Ralphus. He's powering up. Attempting ...   \n",
       "20  This is Gerald. He was just told he didn't get...   \n",
       "\n",
       "                                        expanded_urls  rating_numerator  \\\n",
       "0   https://twitter.com/dog_rates/status/892420643...                13   \n",
       "1   https://twitter.com/dog_rates/status/892177421...                13   \n",
       "2   https://twitter.com/dog_rates/status/891815181...                12   \n",
       "3   https://twitter.com/dog_rates/status/891689557...                13   \n",
       "4   https://twitter.com/dog_rates/status/891327558...                12   \n",
       "5   https://twitter.com/dog_rates/status/891087950...                13   \n",
       "6   https://gofundme.com/ydvmve-surgery-for-jax,ht...                13   \n",
       "7   https://twitter.com/dog_rates/status/890729181...                13   \n",
       "8   https://twitter.com/dog_rates/status/890609185...                13   \n",
       "9   https://twitter.com/dog_rates/status/890240255...                14   \n",
       "10  https://twitter.com/dog_rates/status/890006608...                13   \n",
       "11  https://twitter.com/dog_rates/status/889880896...                13   \n",
       "12  https://twitter.com/dog_rates/status/889665388...                13   \n",
       "13  https://twitter.com/dog_rates/status/889638837...                12   \n",
       "14  https://twitter.com/dog_rates/status/889531135...                13   \n",
       "15  https://twitter.com/dog_rates/status/889278841...                13   \n",
       "16  https://twitter.com/dog_rates/status/888917238...                12   \n",
       "17  https://twitter.com/dog_rates/status/888804989...                13   \n",
       "18  https://twitter.com/dog_rates/status/888554962...                13   \n",
       "20  https://twitter.com/dog_rates/status/888078434...                12   \n",
       "\n",
       "    rating_denominator      name      dogtionary  \n",
       "0                   10   Phineas    NaNNaNNaNNaN  \n",
       "1                   10     Tilly    NaNNaNNaNNaN  \n",
       "2                   10    Archie    NaNNaNNaNNaN  \n",
       "3                   10     Darla    NaNNaNNaNNaN  \n",
       "4                   10  Franklin    NaNNaNNaNNaN  \n",
       "5                   10      None    NaNNaNNaNNaN  \n",
       "6                   10       Jax    NaNNaNNaNNaN  \n",
       "7                   10      None    NaNNaNNaNNaN  \n",
       "8                   10      Zoey    NaNNaNNaNNaN  \n",
       "9                   10    Cassie  doggoNaNNaNNaN  \n",
       "10                  10      Koda    NaNNaNNaNNaN  \n",
       "11                  10     Bruno    NaNNaNNaNNaN  \n",
       "12                  10      None  NaNpuppoNaNNaN  \n",
       "13                  10       Ted    NaNNaNNaNNaN  \n",
       "14                  10    Stuart  NaNpuppoNaNNaN  \n",
       "15                  10    Oliver    NaNNaNNaNNaN  \n",
       "16                  10       Jim    NaNNaNNaNNaN  \n",
       "17                  10      Zeke    NaNNaNNaNNaN  \n",
       "18                  10   Ralphus    NaNNaNNaNNaN  \n",
       "20                  10    Gerald    NaNNaNNaNNaN  "
      ]
     },
     "execution_count": 71,
     "metadata": {},
     "output_type": "execute_result"
    }
   ],
   "source": [
    "df_archieve_copy2.head(20)"
   ]
  },
  {
   "cell_type": "code",
   "execution_count": 72,
   "metadata": {},
   "outputs": [
    {
     "data": {
      "text/plain": [
       "array(['NaNNaNNaNNaN', 'doggoNaNNaNNaN', 'NaNpuppoNaNNaN',\n",
       "       'NaNNaNNaNpupper', 'NaNNaNflooferNaN', 'doggopuppoNaNNaN',\n",
       "       'doggoNaNflooferNaN', 'doggoNaNNaNpupper'], dtype=object)"
      ]
     },
     "execution_count": 72,
     "metadata": {},
     "output_type": "execute_result"
    }
   ],
   "source": [
    "df_archieve_copy2['dogtionary'].unique()"
   ]
  },
  {
   "cell_type": "markdown",
   "metadata": {},
   "source": [
    "**Removing bad names**"
   ]
  },
  {
   "cell_type": "code",
   "execution_count": 73,
   "metadata": {},
   "outputs": [],
   "source": [
    "def findLowerCases(x):\n",
    "    if(x.islower()): return x"
   ]
  },
  {
   "cell_type": "code",
   "execution_count": 74,
   "metadata": {},
   "outputs": [
    {
     "data": {
      "text/plain": [
       "array([None, 'such', 'a', 'quite', 'not', 'one', 'incredibly', 'very',\n",
       "       'my', 'his', 'an', 'actually', 'just', 'getting', 'mad', 'this',\n",
       "       'unacceptable', 'all', 'old', 'infuriating', 'the', 'by',\n",
       "       'officially', 'life', 'light', 'space'], dtype=object)"
      ]
     },
     "execution_count": 74,
     "metadata": {},
     "output_type": "execute_result"
    }
   ],
   "source": [
    "df_tweets_cleaned.name.apply(lambda x: findLowerCases(x)).unique()"
   ]
  },
  {
   "cell_type": "code",
   "execution_count": 75,
   "metadata": {},
   "outputs": [],
   "source": [
    "badNames = [\"None\", 'such', 'a', 'quite', 'not', 'one', 'incredibly', 'very',\n",
    "       'my', 'his', 'an', 'actually', 'just', 'getting', 'mad', 'this',\n",
    "       'unacceptable', 'all', 'old', 'infuriating', 'the', 'by',\n",
    "       'officially', 'life', 'light', 'space']\n",
    "for i in badNames:\n",
    "    df_archieve_copy2['name'].replace(i,'NaN',inplace=True)"
   ]
  },
  {
   "cell_type": "code",
   "execution_count": 76,
   "metadata": {},
   "outputs": [
    {
     "data": {
      "text/plain": [
       "NaN        707\n",
       "Charlie     11\n",
       "Lucy        11\n",
       "Oliver      10\n",
       "Cooper      10\n",
       "          ... \n",
       "Buckley      1\n",
       "Miley        1\n",
       "Peanut       1\n",
       "Dex          1\n",
       "Edmund       1\n",
       "Name: name, Length: 930, dtype: int64"
      ]
     },
     "execution_count": 76,
     "metadata": {},
     "output_type": "execute_result"
    }
   ],
   "source": [
    "df_archieve_copy2.name.value_counts()"
   ]
  },
  {
   "cell_type": "markdown",
   "metadata": {},
   "source": [
    "**Changing the denominators**"
   ]
  },
  {
   "cell_type": "markdown",
   "metadata": {},
   "source": [
    "Two easy choices\n",
    "\n",
    "1) Just delete them, they are few.\n",
    "\n",
    "2) Take a small look and remove the unecessary ones\n",
    "\n",
    "After taking another look, I have decided that there are 5 cases where the numbers are given by mistake (24/7,50/50 split, 9/11 survivor)\n",
    "\n",
    "I could change them manually easily"
   ]
  },
  {
   "cell_type": "code",
   "execution_count": 77,
   "metadata": {},
   "outputs": [],
   "source": [
    "df_archieve_copy2.to_csv(\"twitter-archive-enhanced3.0.csv\")"
   ]
  },
  {
   "cell_type": "markdown",
   "metadata": {},
   "source": [
    "This is getting even stranger, I found a patriotic dog with 1776 numerator (because American independence), and the rapper Snoopdog with 420. I will remove those.\n",
    "\n",
    "There are also some floats, those numerators should be turned to int\n",
    "\n",
    "The rest could be move to a scale of 10\n"
   ]
  },
  {
   "cell_type": "code",
   "execution_count": 78,
   "metadata": {},
   "outputs": [],
   "source": [
    "df_archieve_copy3 = pd.read_excel('twitter-archive-enhanced4.0.xls')\n",
    "df_archieve_copy3.to_csv(\"twitter-archive-enhanced4.0.csv\")\n",
    "df_archieve_copy3 = pd.read_csv('twitter-archive-enhanced4.0.csv')\n",
    "del df_archieve_copy3['Unnamed: 0']"
   ]
  },
  {
   "cell_type": "code",
   "execution_count": 79,
   "metadata": {},
   "outputs": [
    {
     "data": {
      "text/plain": [
       "12.00     486\n",
       "10.00     437\n",
       "11.00     415\n",
       "13.00     288\n",
       "9.00      153\n",
       "8.00       98\n",
       "7.00       51\n",
       "14.00      39\n",
       "5.00       33\n",
       "6.00       32\n",
       "3.00       19\n",
       "4.00       15\n",
       "2.00        9\n",
       "1.00        4\n",
       "60.00       1\n",
       "44.00       1\n",
       "80.00       1\n",
       "84.00       1\n",
       "88.00       1\n",
       "144.00      1\n",
       "99.00       1\n",
       "13.50       1\n",
       "165.00      1\n",
       "0.00        1\n",
       "11.27       1\n",
       "121.00      1\n",
       "45.00       1\n",
       "9.75        1\n",
       "204.00      1\n",
       "Name: rating_numerator, dtype: int64"
      ]
     },
     "execution_count": 79,
     "metadata": {},
     "output_type": "execute_result"
    }
   ],
   "source": [
    "df_archieve_copy3.rating_numerator.value_counts()"
   ]
  },
  {
   "cell_type": "code",
   "execution_count": 80,
   "metadata": {},
   "outputs": [
    {
     "name": "stdout",
     "output_type": "stream",
     "text": [
      "<class 'pandas.core.frame.DataFrame'>\n",
      "RangeIndex: 2094 entries, 0 to 2093\n",
      "Data columns (total 9 columns):\n",
      " #   Column              Non-Null Count  Dtype \n",
      "---  ------              --------------  ----- \n",
      " 0   tweet_id            2094 non-null   int64 \n",
      " 1   timestamp           2094 non-null   object\n",
      " 2   source              2094 non-null   object\n",
      " 3   text                2094 non-null   object\n",
      " 4   expanded_urls       2091 non-null   object\n",
      " 5   rating_numerator    2094 non-null   int64 \n",
      " 6   rating_denominator  2094 non-null   int64 \n",
      " 7   name                1421 non-null   object\n",
      " 8   dogtionary          336 non-null    object\n",
      "dtypes: int64(3), object(6)\n",
      "memory usage: 147.4+ KB\n"
     ]
    }
   ],
   "source": [
    "df_archieve_copy3[\"rating_numerator\"] = df_archieve_copy3[\"rating_numerator\"].astype(\"int64\")\n",
    "df_archieve_copy3.info()"
   ]
  },
  {
   "cell_type": "code",
   "execution_count": 81,
   "metadata": {},
   "outputs": [],
   "source": [
    "#scaling the numerators on scale of 10 denominator, now we don't need denominator and we can remove it\n",
    "df_archieve_copy3[\"rating_numerator\"] = ((df_archieve_copy3['rating_numerator']*10)/df_archieve_copy3['rating_denominator']).astype(\"int64\")\n",
    "df_archieve_copy4 = df_archieve_copy3.drop('rating_denominator', axis=1)"
   ]
  },
  {
   "cell_type": "code",
   "execution_count": 82,
   "metadata": {},
   "outputs": [
    {
     "data": {
      "text/plain": [
       "12    490\n",
       "10    438\n",
       "11    421\n",
       "13    289\n",
       "9     155\n",
       "8      98\n",
       "7      51\n",
       "14     39\n",
       "5      33\n",
       "6      32\n",
       "3      19\n",
       "4      15\n",
       "2       9\n",
       "1       4\n",
       "0       1\n",
       "Name: rating_numerator, dtype: int64"
      ]
     },
     "execution_count": 82,
     "metadata": {},
     "output_type": "execute_result"
    }
   ],
   "source": [
    "df_archieve_copy4[\"rating_numerator\"] .value_counts()"
   ]
  },
  {
   "cell_type": "markdown",
   "metadata": {},
   "source": [
    "**Remove html tags from source**"
   ]
  },
  {
   "cell_type": "code",
   "execution_count": 83,
   "metadata": {},
   "outputs": [],
   "source": [
    "import re\n",
    "\n",
    "def cleanhtml(raw_html):\n",
    "  cleanr = re.compile('<.*?>')\n",
    "  cleantext = re.sub(cleanr, '', raw_html)\n",
    "  return cleantext"
   ]
  },
  {
   "cell_type": "code",
   "execution_count": 84,
   "metadata": {},
   "outputs": [
    {
     "data": {
      "text/plain": [
       "Twitter for iPhone     1962\n",
       "Vine - Make a Scene      91\n",
       "Twitter Web Client       31\n",
       "TweetDeck                10\n",
       "Name: source, dtype: int64"
      ]
     },
     "execution_count": 84,
     "metadata": {},
     "output_type": "execute_result"
    }
   ],
   "source": [
    "df_archieve_copy4.source.apply(lambda s: cleanhtml(s)).value_counts()"
   ]
  },
  {
   "cell_type": "code",
   "execution_count": 85,
   "metadata": {},
   "outputs": [],
   "source": [
    "df_archieve_copy4.source = df_archieve_copy4.source.apply(lambda s: cleanhtml(s))"
   ]
  },
  {
   "cell_type": "markdown",
   "metadata": {},
   "source": [
    "### Cleaning Predictions "
   ]
  },
  {
   "cell_type": "code",
   "execution_count": 86,
   "metadata": {},
   "outputs": [],
   "source": [
    "df_predictions.to_excel(\"predictions.xls\")"
   ]
  },
  {
   "cell_type": "code",
   "execution_count": 87,
   "metadata": {},
   "outputs": [],
   "source": [
    "df_predictions_copy = df_predictions.copy()"
   ]
  },
  {
   "cell_type": "code",
   "execution_count": 88,
   "metadata": {},
   "outputs": [
    {
     "data": {
      "text/html": [
       "<div>\n",
       "<style scoped>\n",
       "    .dataframe tbody tr th:only-of-type {\n",
       "        vertical-align: middle;\n",
       "    }\n",
       "\n",
       "    .dataframe tbody tr th {\n",
       "        vertical-align: top;\n",
       "    }\n",
       "\n",
       "    .dataframe thead th {\n",
       "        text-align: right;\n",
       "    }\n",
       "</style>\n",
       "<table border=\"1\" class=\"dataframe\">\n",
       "  <thead>\n",
       "    <tr style=\"text-align: right;\">\n",
       "      <th></th>\n",
       "      <th>tweet_id</th>\n",
       "      <th>jpg_url</th>\n",
       "      <th>img_num</th>\n",
       "      <th>p1</th>\n",
       "      <th>p1_conf</th>\n",
       "      <th>p1_dog</th>\n",
       "      <th>p2</th>\n",
       "      <th>p2_conf</th>\n",
       "      <th>p2_dog</th>\n",
       "      <th>p3</th>\n",
       "      <th>p3_conf</th>\n",
       "      <th>p3_dog</th>\n",
       "    </tr>\n",
       "  </thead>\n",
       "  <tbody>\n",
       "  </tbody>\n",
       "</table>\n",
       "</div>"
      ],
      "text/plain": [
       "Empty DataFrame\n",
       "Columns: [tweet_id, jpg_url, img_num, p1, p1_conf, p1_dog, p2, p2_conf, p2_dog, p3, p3_conf, p3_dog]\n",
       "Index: []"
      ]
     },
     "execution_count": 88,
     "metadata": {},
     "output_type": "execute_result"
    }
   ],
   "source": [
    "df_predictions_copy[df_predictions_copy['p1_conf']<df_predictions_copy['p3_conf']]"
   ]
  },
  {
   "cell_type": "code",
   "execution_count": 89,
   "metadata": {},
   "outputs": [
    {
     "data": {
      "text/html": [
       "<div>\n",
       "<style scoped>\n",
       "    .dataframe tbody tr th:only-of-type {\n",
       "        vertical-align: middle;\n",
       "    }\n",
       "\n",
       "    .dataframe tbody tr th {\n",
       "        vertical-align: top;\n",
       "    }\n",
       "\n",
       "    .dataframe thead th {\n",
       "        text-align: right;\n",
       "    }\n",
       "</style>\n",
       "<table border=\"1\" class=\"dataframe\">\n",
       "  <thead>\n",
       "    <tr style=\"text-align: right;\">\n",
       "      <th></th>\n",
       "      <th>tweet_id</th>\n",
       "      <th>jpg_url</th>\n",
       "      <th>img_num</th>\n",
       "      <th>p1</th>\n",
       "      <th>p1_conf</th>\n",
       "      <th>p1_dog</th>\n",
       "      <th>p2</th>\n",
       "      <th>p2_conf</th>\n",
       "      <th>p2_dog</th>\n",
       "      <th>p3</th>\n",
       "      <th>p3_conf</th>\n",
       "      <th>p3_dog</th>\n",
       "    </tr>\n",
       "  </thead>\n",
       "  <tbody>\n",
       "  </tbody>\n",
       "</table>\n",
       "</div>"
      ],
      "text/plain": [
       "Empty DataFrame\n",
       "Columns: [tweet_id, jpg_url, img_num, p1, p1_conf, p1_dog, p2, p2_conf, p2_dog, p3, p3_conf, p3_dog]\n",
       "Index: []"
      ]
     },
     "execution_count": 89,
     "metadata": {},
     "output_type": "execute_result"
    }
   ],
   "source": [
    "df_predictions_copy[df_predictions_copy['p1_conf']<df_predictions_copy['p2_conf']]"
   ]
  },
  {
   "cell_type": "markdown",
   "metadata": {},
   "source": [
    "**Merging predictions**\n",
    "\n",
    "\n",
    "We know that the first prediction is always the most confidente, we can remove the others.\n",
    "\n",
    "We also don't need the confidence, we will just remove it."
   ]
  },
  {
   "cell_type": "code",
   "execution_count": 90,
   "metadata": {},
   "outputs": [],
   "source": [
    "df_predictions_copy2=df_predictions_copy.drop(['p1_conf','p2_conf',\n",
    "                                           'p3_conf','p2','p2_dog',\n",
    "                                              'p3','p3_dog'],axis=1)\n"
   ]
  },
  {
   "cell_type": "code",
   "execution_count": 91,
   "metadata": {},
   "outputs": [],
   "source": [
    "df_predictions_copy2.rename(columns={'p1':\"predictions\",'p1_dog':'is_dog'},inplace=True)"
   ]
  },
  {
   "cell_type": "code",
   "execution_count": 92,
   "metadata": {},
   "outputs": [
    {
     "data": {
      "text/html": [
       "<div>\n",
       "<style scoped>\n",
       "    .dataframe tbody tr th:only-of-type {\n",
       "        vertical-align: middle;\n",
       "    }\n",
       "\n",
       "    .dataframe tbody tr th {\n",
       "        vertical-align: top;\n",
       "    }\n",
       "\n",
       "    .dataframe thead th {\n",
       "        text-align: right;\n",
       "    }\n",
       "</style>\n",
       "<table border=\"1\" class=\"dataframe\">\n",
       "  <thead>\n",
       "    <tr style=\"text-align: right;\">\n",
       "      <th></th>\n",
       "      <th>tweet_id</th>\n",
       "      <th>jpg_url</th>\n",
       "      <th>img_num</th>\n",
       "      <th>predictions</th>\n",
       "      <th>is_dog</th>\n",
       "    </tr>\n",
       "  </thead>\n",
       "  <tbody>\n",
       "    <tr>\n",
       "      <th>0</th>\n",
       "      <td>666020888022790149</td>\n",
       "      <td>https://pbs.twimg.com/media/CT4udn0WwAA0aMy.jpg</td>\n",
       "      <td>1</td>\n",
       "      <td>Welsh_springer_spaniel</td>\n",
       "      <td>True</td>\n",
       "    </tr>\n",
       "    <tr>\n",
       "      <th>1</th>\n",
       "      <td>666029285002620928</td>\n",
       "      <td>https://pbs.twimg.com/media/CT42GRgUYAA5iDo.jpg</td>\n",
       "      <td>1</td>\n",
       "      <td>redbone</td>\n",
       "      <td>True</td>\n",
       "    </tr>\n",
       "    <tr>\n",
       "      <th>2</th>\n",
       "      <td>666033412701032449</td>\n",
       "      <td>https://pbs.twimg.com/media/CT4521TWwAEvMyu.jpg</td>\n",
       "      <td>1</td>\n",
       "      <td>German_shepherd</td>\n",
       "      <td>True</td>\n",
       "    </tr>\n",
       "    <tr>\n",
       "      <th>3</th>\n",
       "      <td>666044226329800704</td>\n",
       "      <td>https://pbs.twimg.com/media/CT5Dr8HUEAA-lEu.jpg</td>\n",
       "      <td>1</td>\n",
       "      <td>Rhodesian_ridgeback</td>\n",
       "      <td>True</td>\n",
       "    </tr>\n",
       "    <tr>\n",
       "      <th>4</th>\n",
       "      <td>666049248165822465</td>\n",
       "      <td>https://pbs.twimg.com/media/CT5IQmsXIAAKY4A.jpg</td>\n",
       "      <td>1</td>\n",
       "      <td>miniature_pinscher</td>\n",
       "      <td>True</td>\n",
       "    </tr>\n",
       "    <tr>\n",
       "      <th>...</th>\n",
       "      <td>...</td>\n",
       "      <td>...</td>\n",
       "      <td>...</td>\n",
       "      <td>...</td>\n",
       "      <td>...</td>\n",
       "    </tr>\n",
       "    <tr>\n",
       "      <th>2070</th>\n",
       "      <td>891327558926688256</td>\n",
       "      <td>https://pbs.twimg.com/media/DF6hr6BUMAAzZgT.jpg</td>\n",
       "      <td>2</td>\n",
       "      <td>basset</td>\n",
       "      <td>True</td>\n",
       "    </tr>\n",
       "    <tr>\n",
       "      <th>2071</th>\n",
       "      <td>891689557279858688</td>\n",
       "      <td>https://pbs.twimg.com/media/DF_q7IAWsAEuuN8.jpg</td>\n",
       "      <td>1</td>\n",
       "      <td>paper_towel</td>\n",
       "      <td>False</td>\n",
       "    </tr>\n",
       "    <tr>\n",
       "      <th>2072</th>\n",
       "      <td>891815181378084864</td>\n",
       "      <td>https://pbs.twimg.com/media/DGBdLU1WsAANxJ9.jpg</td>\n",
       "      <td>1</td>\n",
       "      <td>Chihuahua</td>\n",
       "      <td>True</td>\n",
       "    </tr>\n",
       "    <tr>\n",
       "      <th>2073</th>\n",
       "      <td>892177421306343426</td>\n",
       "      <td>https://pbs.twimg.com/media/DGGmoV4XsAAUL6n.jpg</td>\n",
       "      <td>1</td>\n",
       "      <td>Chihuahua</td>\n",
       "      <td>True</td>\n",
       "    </tr>\n",
       "    <tr>\n",
       "      <th>2074</th>\n",
       "      <td>892420643555336193</td>\n",
       "      <td>https://pbs.twimg.com/media/DGKD1-bXoAAIAUK.jpg</td>\n",
       "      <td>1</td>\n",
       "      <td>orange</td>\n",
       "      <td>False</td>\n",
       "    </tr>\n",
       "  </tbody>\n",
       "</table>\n",
       "<p>2075 rows × 5 columns</p>\n",
       "</div>"
      ],
      "text/plain": [
       "                tweet_id                                          jpg_url  \\\n",
       "0     666020888022790149  https://pbs.twimg.com/media/CT4udn0WwAA0aMy.jpg   \n",
       "1     666029285002620928  https://pbs.twimg.com/media/CT42GRgUYAA5iDo.jpg   \n",
       "2     666033412701032449  https://pbs.twimg.com/media/CT4521TWwAEvMyu.jpg   \n",
       "3     666044226329800704  https://pbs.twimg.com/media/CT5Dr8HUEAA-lEu.jpg   \n",
       "4     666049248165822465  https://pbs.twimg.com/media/CT5IQmsXIAAKY4A.jpg   \n",
       "...                  ...                                              ...   \n",
       "2070  891327558926688256  https://pbs.twimg.com/media/DF6hr6BUMAAzZgT.jpg   \n",
       "2071  891689557279858688  https://pbs.twimg.com/media/DF_q7IAWsAEuuN8.jpg   \n",
       "2072  891815181378084864  https://pbs.twimg.com/media/DGBdLU1WsAANxJ9.jpg   \n",
       "2073  892177421306343426  https://pbs.twimg.com/media/DGGmoV4XsAAUL6n.jpg   \n",
       "2074  892420643555336193  https://pbs.twimg.com/media/DGKD1-bXoAAIAUK.jpg   \n",
       "\n",
       "      img_num             predictions  is_dog  \n",
       "0           1  Welsh_springer_spaniel    True  \n",
       "1           1                 redbone    True  \n",
       "2           1         German_shepherd    True  \n",
       "3           1     Rhodesian_ridgeback    True  \n",
       "4           1      miniature_pinscher    True  \n",
       "...       ...                     ...     ...  \n",
       "2070        2                  basset    True  \n",
       "2071        1             paper_towel   False  \n",
       "2072        1               Chihuahua    True  \n",
       "2073        1               Chihuahua    True  \n",
       "2074        1                  orange   False  \n",
       "\n",
       "[2075 rows x 5 columns]"
      ]
     },
     "execution_count": 92,
     "metadata": {},
     "output_type": "execute_result"
    }
   ],
   "source": [
    "df_predictions_copy2"
   ]
  },
  {
   "cell_type": "markdown",
   "metadata": {},
   "source": [
    "No need to clean the API data we can move on to merging the datasets"
   ]
  },
  {
   "cell_type": "code",
   "execution_count": null,
   "metadata": {},
   "outputs": [],
   "source": []
  },
  {
   "cell_type": "markdown",
   "metadata": {},
   "source": [
    "### Merging the Dataset Frames"
   ]
  },
  {
   "cell_type": "code",
   "execution_count": 93,
   "metadata": {},
   "outputs": [
    {
     "name": "stdout",
     "output_type": "stream",
     "text": [
      "<class 'pandas.core.frame.DataFrame'>\n",
      "RangeIndex: 2094 entries, 0 to 2093\n",
      "Data columns (total 8 columns):\n",
      " #   Column            Non-Null Count  Dtype \n",
      "---  ------            --------------  ----- \n",
      " 0   tweet_id          2094 non-null   int64 \n",
      " 1   timestamp         2094 non-null   object\n",
      " 2   source            2094 non-null   object\n",
      " 3   text              2094 non-null   object\n",
      " 4   expanded_urls     2091 non-null   object\n",
      " 5   rating_numerator  2094 non-null   int64 \n",
      " 6   name              1421 non-null   object\n",
      " 7   dogtionary        336 non-null    object\n",
      "dtypes: int64(2), object(6)\n",
      "memory usage: 131.0+ KB\n"
     ]
    }
   ],
   "source": [
    "df_archieve_copy4.info()"
   ]
  },
  {
   "cell_type": "code",
   "execution_count": 94,
   "metadata": {},
   "outputs": [
    {
     "name": "stdout",
     "output_type": "stream",
     "text": [
      "<class 'pandas.core.frame.DataFrame'>\n",
      "RangeIndex: 2075 entries, 0 to 2074\n",
      "Data columns (total 5 columns):\n",
      " #   Column       Non-Null Count  Dtype \n",
      "---  ------       --------------  ----- \n",
      " 0   tweet_id     2075 non-null   int64 \n",
      " 1   jpg_url      2075 non-null   object\n",
      " 2   img_num      2075 non-null   int64 \n",
      " 3   predictions  2075 non-null   object\n",
      " 4   is_dog       2075 non-null   bool  \n",
      "dtypes: bool(1), int64(2), object(2)\n",
      "memory usage: 67.0+ KB\n"
     ]
    }
   ],
   "source": [
    "df_predictions_copy2.info()"
   ]
  },
  {
   "cell_type": "code",
   "execution_count": 96,
   "metadata": {},
   "outputs": [
    {
     "name": "stdout",
     "output_type": "stream",
     "text": [
      "<class 'pandas.core.frame.DataFrame'>\n",
      "Int64Index: 2090 entries, 0 to 2089\n",
      "Data columns (total 3 columns):\n",
      " #   Column         Non-Null Count  Dtype\n",
      "---  ------         --------------  -----\n",
      " 0   tweet_id       2090 non-null   int64\n",
      " 1   retweet_count  2090 non-null   int64\n",
      " 2   favourites     2090 non-null   int64\n",
      "dtypes: int64(3)\n",
      "memory usage: 65.3 KB\n"
     ]
    }
   ],
   "source": [
    "df_tweet_details.info()"
   ]
  },
  {
   "cell_type": "markdown",
   "metadata": {},
   "source": [
    "After merging all the dataframes, we get a heavily reduced dataset.\n",
    "\n",
    "This is most probably due to removing retweets from predictions, as it is expected that the prediction model used all images at hand, including retweets, which are not used in the dataset.\n",
    "\n",
    "After testing with different merges, predictions are indeed the most losing.\n",
    "We could preserve incomplete datasets if we put \"how = 'left \", but we want complete datasets, this is why we will not merge them from left."
   ]
  },
  {
   "cell_type": "code",
   "execution_count": 198,
   "metadata": {},
   "outputs": [],
   "source": [
    "df_final = pd.merge(df_archieve_copy4,df_tweet_details,  on = ['tweet_id'] )\n",
    "df_final = pd.merge(df_final, df_predictions_copy2, on = ['tweet_id'])\n",
    "df_final.to_csv('twitter_archive_master.csv')\n",
    "df_final.to_excel('twitter_archive_master.xls')\n",
    "#I am storing excel version because I am using Open office, \n",
    "#and it does not support csv as spreadsheet\n"
   ]
  },
  {
   "cell_type": "code",
   "execution_count": 199,
   "metadata": {},
   "outputs": [
    {
     "name": "stdout",
     "output_type": "stream",
     "text": [
      "<class 'pandas.core.frame.DataFrame'>\n",
      "Int64Index: 1961 entries, 0 to 1960\n",
      "Data columns (total 14 columns):\n",
      " #   Column            Non-Null Count  Dtype \n",
      "---  ------            --------------  ----- \n",
      " 0   tweet_id          1961 non-null   int64 \n",
      " 1   timestamp         1961 non-null   object\n",
      " 2   source            1961 non-null   object\n",
      " 3   text              1961 non-null   object\n",
      " 4   expanded_urls     1961 non-null   object\n",
      " 5   rating_numerator  1961 non-null   int64 \n",
      " 6   name              1368 non-null   object\n",
      " 7   dogtionary        302 non-null    object\n",
      " 8   retweet_count     1961 non-null   int64 \n",
      " 9   favourites        1961 non-null   int64 \n",
      " 10  jpg_url           1961 non-null   object\n",
      " 11  img_num           1961 non-null   int64 \n",
      " 12  predictions       1961 non-null   object\n",
      " 13  is_dog            1961 non-null   bool  \n",
      "dtypes: bool(1), int64(5), object(8)\n",
      "memory usage: 216.4+ KB\n"
     ]
    }
   ],
   "source": [
    "df_final.info()"
   ]
  },
  {
   "cell_type": "code",
   "execution_count": 200,
   "metadata": {},
   "outputs": [
    {
     "data": {
      "text/html": [
       "<div>\n",
       "<style scoped>\n",
       "    .dataframe tbody tr th:only-of-type {\n",
       "        vertical-align: middle;\n",
       "    }\n",
       "\n",
       "    .dataframe tbody tr th {\n",
       "        vertical-align: top;\n",
       "    }\n",
       "\n",
       "    .dataframe thead th {\n",
       "        text-align: right;\n",
       "    }\n",
       "</style>\n",
       "<table border=\"1\" class=\"dataframe\">\n",
       "  <thead>\n",
       "    <tr style=\"text-align: right;\">\n",
       "      <th></th>\n",
       "      <th>tweet_id</th>\n",
       "      <th>rating_numerator</th>\n",
       "      <th>retweet_count</th>\n",
       "      <th>favourites</th>\n",
       "      <th>img_num</th>\n",
       "    </tr>\n",
       "  </thead>\n",
       "  <tbody>\n",
       "    <tr>\n",
       "      <th>count</th>\n",
       "      <td>1.961000e+03</td>\n",
       "      <td>1961.000000</td>\n",
       "      <td>1961.000000</td>\n",
       "      <td>1961.000000</td>\n",
       "      <td>1961.000000</td>\n",
       "    </tr>\n",
       "    <tr>\n",
       "      <th>mean</th>\n",
       "      <td>7.358030e+17</td>\n",
       "      <td>10.541050</td>\n",
       "      <td>2466.173891</td>\n",
       "      <td>8302.979602</td>\n",
       "      <td>1.202448</td>\n",
       "    </tr>\n",
       "    <tr>\n",
       "      <th>std</th>\n",
       "      <td>6.745542e+16</td>\n",
       "      <td>2.165941</td>\n",
       "      <td>4410.347487</td>\n",
       "      <td>12214.803426</td>\n",
       "      <td>0.559987</td>\n",
       "    </tr>\n",
       "    <tr>\n",
       "      <th>min</th>\n",
       "      <td>6.660209e+17</td>\n",
       "      <td>0.000000</td>\n",
       "      <td>11.000000</td>\n",
       "      <td>70.000000</td>\n",
       "      <td>1.000000</td>\n",
       "    </tr>\n",
       "    <tr>\n",
       "      <th>25%</th>\n",
       "      <td>6.758457e+17</td>\n",
       "      <td>10.000000</td>\n",
       "      <td>550.000000</td>\n",
       "      <td>1783.000000</td>\n",
       "      <td>1.000000</td>\n",
       "    </tr>\n",
       "    <tr>\n",
       "      <th>50%</th>\n",
       "      <td>7.087111e+17</td>\n",
       "      <td>11.000000</td>\n",
       "      <td>1192.000000</td>\n",
       "      <td>3751.000000</td>\n",
       "      <td>1.000000</td>\n",
       "    </tr>\n",
       "    <tr>\n",
       "      <th>75%</th>\n",
       "      <td>7.877176e+17</td>\n",
       "      <td>12.000000</td>\n",
       "      <td>2819.000000</td>\n",
       "      <td>10350.000000</td>\n",
       "      <td>1.000000</td>\n",
       "    </tr>\n",
       "    <tr>\n",
       "      <th>max</th>\n",
       "      <td>8.924206e+17</td>\n",
       "      <td>14.000000</td>\n",
       "      <td>77677.000000</td>\n",
       "      <td>155860.000000</td>\n",
       "      <td>4.000000</td>\n",
       "    </tr>\n",
       "  </tbody>\n",
       "</table>\n",
       "</div>"
      ],
      "text/plain": [
       "           tweet_id  rating_numerator  retweet_count     favourites  \\\n",
       "count  1.961000e+03       1961.000000    1961.000000    1961.000000   \n",
       "mean   7.358030e+17         10.541050    2466.173891    8302.979602   \n",
       "std    6.745542e+16          2.165941    4410.347487   12214.803426   \n",
       "min    6.660209e+17          0.000000      11.000000      70.000000   \n",
       "25%    6.758457e+17         10.000000     550.000000    1783.000000   \n",
       "50%    7.087111e+17         11.000000    1192.000000    3751.000000   \n",
       "75%    7.877176e+17         12.000000    2819.000000   10350.000000   \n",
       "max    8.924206e+17         14.000000   77677.000000  155860.000000   \n",
       "\n",
       "           img_num  \n",
       "count  1961.000000  \n",
       "mean      1.202448  \n",
       "std       0.559987  \n",
       "min       1.000000  \n",
       "25%       1.000000  \n",
       "50%       1.000000  \n",
       "75%       1.000000  \n",
       "max       4.000000  "
      ]
     },
     "execution_count": 200,
     "metadata": {},
     "output_type": "execute_result"
    }
   ],
   "source": [
    "df_final.describe()"
   ]
  },
  {
   "cell_type": "markdown",
   "metadata": {},
   "source": [
    "## Cleaning"
   ]
  },
  {
   "cell_type": "markdown",
   "metadata": {},
   "source": [
    "As we can see from this bar chart puppers are the most frequent posts in our dataset.\n",
    "\n",
    "We can also ignore the combined categories (e.g. doggopuppo) because they are very negligible "
   ]
  },
  {
   "cell_type": "code",
   "execution_count": 201,
   "metadata": {},
   "outputs": [
    {
     "data": {
      "text/plain": [
       "Text(0.5, 1.0, 'Frequency in dogtionary')"
      ]
     },
     "execution_count": 201,
     "metadata": {},
     "output_type": "execute_result"
    },
    {
     "data": {
      "image/png": "[encoded data removed]",
      "text/plain": [
       "<Figure size 432x288 with 1 Axes>"
      ]
     },
     "metadata": {
      "needs_background": "light"
     },
     "output_type": "display_data"
    }
   ],
   "source": [
    "sns.countplot(data=df_final,x=\"dogtionary\")\n",
    "plt.xticks(rotation=30)\n",
    "plt.title(\"Frequency in dogtionary\")"
   ]
  },
  {
   "cell_type": "markdown",
   "metadata": {},
   "source": [
    "From this scatter plot, we can see that there is a correlation between number of favourites and retweet_count, because more retweet equals more favourites. And we can also notice that doggos are by far the most popular."
   ]
  },
  {
   "cell_type": "code",
   "execution_count": 202,
   "metadata": {
    "scrolled": true
   },
   "outputs": [
    {
     "data": {
      "text/plain": [
       "Text(0.5, 1.0, 'retweets vs favourites')"
      ]
     },
     "execution_count": 202,
     "metadata": {},
     "output_type": "execute_result"
    },
    {
     "data": {
      "image/png": "[encoded data removed]",
      "text/plain": [
       "<Figure size 720x360 with 1 Axes>"
      ]
     },
     "metadata": {
      "needs_background": "light"
     },
     "output_type": "display_data"
    }
   ],
   "source": [
    "plt.figure(figsize=(10,5))\n",
    "sns.scatterplot(data=df_final,x='retweet_count',y='favourites',hue='dogtionary')\n",
    "plt.title(\"retweets vs favourites\")"
   ]
  },
  {
   "cell_type": "markdown",
   "metadata": {},
   "source": [
    "We can find from this chart that there is a relationship between increasing numerator and the increase in the number of retweets and favourites, this relationship however only appears at the very end of the spectrum after the 9s rating, this essentially means that the popularity of a single photo almost entirely relies on the numerator and not the merit of the dog's beauty itself. \n",
    "\n",
    "Strangly enough the very lowest at 0 and 1 rating are very high, meaning that the community appreciates underdogs (no pun intended)"
   ]
  },
  {
   "cell_type": "code",
   "execution_count": 203,
   "metadata": {},
   "outputs": [
    {
     "data": {
      "text/plain": [
       "Text(0.5, 1.0, 'rating vs favourites')"
      ]
     },
     "execution_count": 203,
     "metadata": {},
     "output_type": "execute_result"
    },
    {
     "data": {
      "image/png": "[encoded data removed]",
      "text/plain": [
       "<Figure size 1440x360 with 2 Axes>"
      ]
     },
     "metadata": {
      "needs_background": "light"
     },
     "output_type": "display_data"
    }
   ],
   "source": [
    "plt.figure(figsize=(20,5))\n",
    "plt.subplot(1, 2, 1)\n",
    "ax1 = sns.pointplot(\"rating_numerator\", y=\"retweet_count\", data=df_final,\n",
    "                   color=\"#bb3f3f\")\n",
    "\n",
    "\n",
    "plt.subplot(1, 2, 2)\n",
    "ax2 = sns.pointplot(\"rating_numerator\", y=\"favourites\", data=df_final,\n",
    "                   color=\"#bb3f3f\")\n",
    "ax1.set_title(\"rating vs retweets\")\n",
    "ax2.set_title(\"rating vs favourites\")"
   ]
  },
  {
   "cell_type": "code",
   "execution_count": 204,
   "metadata": {},
   "outputs": [
    {
     "data": {
      "text/plain": [
       "predictions          predictions        \n",
       "Afghan_hound         Afghan_hound            3\n",
       "African_crocodile    African_crocodile       1\n",
       "African_grey         African_grey            1\n",
       "African_hunting_dog  African_hunting_dog     1\n",
       "Airedale             Airedale               12\n",
       "                                            ..\n",
       "wombat               wombat                  4\n",
       "wood_rabbit          wood_rabbit             3\n",
       "wooden_spoon         wooden_spoon            1\n",
       "wool                 wool                    2\n",
       "zebra                zebra                   1\n",
       "Name: predictions, Length: 372, dtype: int64"
      ]
     },
     "execution_count": 204,
     "metadata": {},
     "output_type": "execute_result"
    }
   ],
   "source": [
    "df_final.groupby(\"predictions\").predictions.value_counts()"
   ]
  },
  {
   "cell_type": "markdown",
   "metadata": {},
   "source": [
    "The next plot will try to find the most popular breeds, however since there are too many predictions, I will only take the 4 most popular"
   ]
  },
  {
   "cell_type": "code",
   "execution_count": 205,
   "metadata": {},
   "outputs": [
    {
     "data": {
      "text/plain": [
       "golden_retriever      136\n",
       "Labrador_retriever     92\n",
       "Pembroke               88\n",
       "Chihuahua              78\n",
       "pug                    54\n",
       "Name: predictions, dtype: int64"
      ]
     },
     "execution_count": 205,
     "metadata": {},
     "output_type": "execute_result"
    }
   ],
   "source": [
    "df_final['predictions'].value_counts().nlargest(5)"
   ]
  },
  {
   "cell_type": "code",
   "execution_count": 206,
   "metadata": {},
   "outputs": [],
   "source": [
    "mostPopular = list(df_final['predictions'].value_counts().nlargest(5).index)\n",
    "df_most_popular = df_final[(df_final['predictions'].isin(mostPopular))]"
   ]
  },
  {
   "cell_type": "markdown",
   "metadata": {},
   "source": [
    "We can conclude that while the golden retriever is the most mentioned breed, labradors are quite more poplar"
   ]
  },
  {
   "cell_type": "code",
   "execution_count": 207,
   "metadata": {},
   "outputs": [
    {
     "data": {
      "text/plain": [
       "Text(0.5, 1.0, 'Most Popular dogs by favourites')"
      ]
     },
     "execution_count": 207,
     "metadata": {},
     "output_type": "execute_result"
    },
    {
     "data": {
      "image/png": "[encoded data removed]",
      "text/plain": [
       "<Figure size 720x360 with 1 Axes>"
      ]
     },
     "metadata": {
      "needs_background": "light"
     },
     "output_type": "display_data"
    }
   ],
   "source": [
    "plt.figure(figsize=(10,5))\n",
    "\n",
    "ax2 = sns.boxplot( data=df_most_popular,y=\"favourites\", x = 'predictions')\n",
    "\n",
    "plt.title(\"Most Popular dogs by favourites\")"
   ]
  },
  {
   "cell_type": "code",
   "execution_count": 208,
   "metadata": {},
   "outputs": [
    {
     "data": {
      "text/plain": [
       "Text(0.5, 1.0, 'Most Popular dogs by retweets')"
      ]
     },
     "execution_count": 208,
     "metadata": {},
     "output_type": "execute_result"
    },
    {
     "data": {
      "image/png": "[encoded data removed]",
      "text/plain": [
       "<Figure size 720x360 with 1 Axes>"
      ]
     },
     "metadata": {
      "needs_background": "light"
     },
     "output_type": "display_data"
    }
   ],
   "source": [
    "plt.figure(figsize=(10,5))\n",
    "\n",
    "ax1 = sns.boxplot( data=df_most_popular,y=\"retweet_count\", x = 'predictions')\n",
    "\n",
    "plt.title(\"Most Popular dogs by retweets\")"
   ]
  },
  {
   "cell_type": "markdown",
   "metadata": {},
   "source": [
    "#### Conclusions summary\n",
    "\n",
    "<ul>\n",
    "    <li> There is a relation between retweets counts and favourites </li>\n",
    "    <li> Puppers are the most common dogs</li>\n",
    "    <li> Doggos are the second most common yet the most popular</li>\n",
    "    <li> The popularity depends entirely on the score given by the page, whether underdogs or over-scored  dogs</li>\n",
    "    <li> Golden retrievers are the most frequently tweeted, however labradors are the most popular</li>\n",
    "    \n",
    "</ul>\n"
   ]
  },
  {
   "cell_type": "code",
   "execution_count": null,
   "metadata": {},
   "outputs": [],
   "source": []
  }
 ],
 "metadata": {
  "kernelspec": {
   "display_name": "Python 3",
   "language": "python",
   "name": "python3"
  },
  "language_info": {
   "codemirror_mode": {
    "name": "ipython",
    "version": 3
   },
   "file_extension": ".py",
   "mimetype": "text/x-python",
   "name": "python",
   "nbconvert_exporter": "python",
   "pygments_lexer": "ipython3",
   "version": "3.7.6"
  }
 },
 "nbformat": 4,
 "nbformat_minor": 4
}
