{
 "cells": [
  {
   "cell_type": "markdown",
   "metadata": {},
   "source": [
    "# Lyft System Data exploration \n",
    "## Ahmed ElSabbagh\n",
    "\n",
    "## Preliminary Wrangling\n",
    "\n",
    "The data we are following today is the Lyft system data, which Lyft had offered recently to the public as of January 2020, the data has been divided into all of 2017 data, and then divided per month (january, february etc) for each year from 2017 to current 2020, most recently updated was April Data.\n",
    "\n",
    "Lyft is bike rental company, allowing the user to rent a bike from some station, use them for transportation, and drop them in another rental station, and depending on how long it took, the money automatically paid from the credit card."
   ]
  },
  {
   "cell_type": "code",
   "execution_count": 1,
   "metadata": {},
   "outputs": [],
   "source": [
    "# import all packages and set plots to be embedded inline\n",
    "import numpy as np\n",
    "import pandas as pd\n",
    "import matplotlib.pyplot as plt\n",
    "import seaborn as sb\n",
    "from datetime import datetime\n",
    "\n",
    "%matplotlib inline"
   ]
  },
  {
   "cell_type": "markdown",
   "metadata": {},
   "source": [
    "> Load in your dataset and describe its properties through the questions below.\n",
    "Try and motivate your exploration goals through this section."
   ]
  },
  {
   "cell_type": "code",
   "execution_count": 2,
   "metadata": {},
   "outputs": [],
   "source": [
    "df2019 = pd.read_csv(\"201904-fordgobike-tripdata.csv\")\n",
    "df2020 = pd.read_csv(\"202004-baywheels-tripdata.csv\")\n",
    "df2018 = pd.read_csv(\"201804-fordgobike-tripdata.csv\")"
   ]
  },
  {
   "cell_type": "code",
   "execution_count": 3,
   "metadata": {},
   "outputs": [
    {
     "data": {
      "text/html": [
       "<div>\n",
       "<style scoped>\n",
       "    .dataframe tbody tr th:only-of-type {\n",
       "        vertical-align: middle;\n",
       "    }\n",
       "\n",
       "    .dataframe tbody tr th {\n",
       "        vertical-align: top;\n",
       "    }\n",
       "\n",
       "    .dataframe thead th {\n",
       "        text-align: right;\n",
       "    }\n",
       "</style>\n",
       "<table border=\"1\" class=\"dataframe\">\n",
       "  <thead>\n",
       "    <tr style=\"text-align: right;\">\n",
       "      <th></th>\n",
       "      <th>duration_sec</th>\n",
       "      <th>start_time</th>\n",
       "      <th>end_time</th>\n",
       "      <th>start_station_id</th>\n",
       "      <th>start_station_name</th>\n",
       "      <th>start_station_latitude</th>\n",
       "      <th>start_station_longitude</th>\n",
       "      <th>end_station_id</th>\n",
       "      <th>end_station_name</th>\n",
       "      <th>end_station_latitude</th>\n",
       "      <th>end_station_longitude</th>\n",
       "      <th>bike_id</th>\n",
       "      <th>user_type</th>\n",
       "      <th>bike_share_for_all_trip</th>\n",
       "    </tr>\n",
       "  </thead>\n",
       "  <tbody>\n",
       "    <tr>\n",
       "      <th>0</th>\n",
       "      <td>72393</td>\n",
       "      <td>2018-04-30 22:49:32.6180</td>\n",
       "      <td>2018-05-01 18:56:06.3010</td>\n",
       "      <td>4</td>\n",
       "      <td>Cyril Magnin St at Ellis St</td>\n",
       "      <td>37.785881</td>\n",
       "      <td>-122.408915</td>\n",
       "      <td>4</td>\n",
       "      <td>Cyril Magnin St at Ellis St</td>\n",
       "      <td>37.785881</td>\n",
       "      <td>-122.408915</td>\n",
       "      <td>3940</td>\n",
       "      <td>Customer</td>\n",
       "      <td>No</td>\n",
       "    </tr>\n",
       "    <tr>\n",
       "      <th>1</th>\n",
       "      <td>81034</td>\n",
       "      <td>2018-04-30 17:46:04.9970</td>\n",
       "      <td>2018-05-01 16:16:39.2470</td>\n",
       "      <td>122</td>\n",
       "      <td>19th St at Mission St</td>\n",
       "      <td>37.760299</td>\n",
       "      <td>-122.418892</td>\n",
       "      <td>42</td>\n",
       "      <td>San Francisco City Hall (Polk St at Grove St)</td>\n",
       "      <td>37.778650</td>\n",
       "      <td>-122.418230</td>\n",
       "      <td>3374</td>\n",
       "      <td>Customer</td>\n",
       "      <td>No</td>\n",
       "    </tr>\n",
       "    <tr>\n",
       "      <th>2</th>\n",
       "      <td>86142</td>\n",
       "      <td>2018-04-30 16:07:13.9190</td>\n",
       "      <td>2018-05-01 16:02:56.7170</td>\n",
       "      <td>41</td>\n",
       "      <td>Golden Gate Ave at Polk St</td>\n",
       "      <td>37.781270</td>\n",
       "      <td>-122.418740</td>\n",
       "      <td>67</td>\n",
       "      <td>San Francisco Caltrain Station 2  (Townsend St...</td>\n",
       "      <td>37.776639</td>\n",
       "      <td>-122.395526</td>\n",
       "      <td>3191</td>\n",
       "      <td>Subscriber</td>\n",
       "      <td>Yes</td>\n",
       "    </tr>\n",
       "  </tbody>\n",
       "</table>\n",
       "</div>"
      ],
      "text/plain": [
       "   duration_sec                start_time                  end_time  \\\n",
       "0         72393  2018-04-30 22:49:32.6180  2018-05-01 18:56:06.3010   \n",
       "1         81034  2018-04-30 17:46:04.9970  2018-05-01 16:16:39.2470   \n",
       "2         86142  2018-04-30 16:07:13.9190  2018-05-01 16:02:56.7170   \n",
       "\n",
       "   start_station_id           start_station_name  start_station_latitude  \\\n",
       "0                 4  Cyril Magnin St at Ellis St               37.785881   \n",
       "1               122        19th St at Mission St               37.760299   \n",
       "2                41   Golden Gate Ave at Polk St               37.781270   \n",
       "\n",
       "   start_station_longitude  end_station_id  \\\n",
       "0              -122.408915               4   \n",
       "1              -122.418892              42   \n",
       "2              -122.418740              67   \n",
       "\n",
       "                                    end_station_name  end_station_latitude  \\\n",
       "0                        Cyril Magnin St at Ellis St             37.785881   \n",
       "1      San Francisco City Hall (Polk St at Grove St)             37.778650   \n",
       "2  San Francisco Caltrain Station 2  (Townsend St...             37.776639   \n",
       "\n",
       "   end_station_longitude  bike_id   user_type bike_share_for_all_trip  \n",
       "0            -122.408915     3940    Customer                      No  \n",
       "1            -122.418230     3374    Customer                      No  \n",
       "2            -122.395526     3191  Subscriber                     Yes  "
      ]
     },
     "execution_count": 3,
     "metadata": {},
     "output_type": "execute_result"
    }
   ],
   "source": [
    "df2018.head(3)"
   ]
  },
  {
   "cell_type": "code",
   "execution_count": 4,
   "metadata": {},
   "outputs": [
    {
     "data": {
      "text/html": [
       "<div>\n",
       "<style scoped>\n",
       "    .dataframe tbody tr th:only-of-type {\n",
       "        vertical-align: middle;\n",
       "    }\n",
       "\n",
       "    .dataframe tbody tr th {\n",
       "        vertical-align: top;\n",
       "    }\n",
       "\n",
       "    .dataframe thead th {\n",
       "        text-align: right;\n",
       "    }\n",
       "</style>\n",
       "<table border=\"1\" class=\"dataframe\">\n",
       "  <thead>\n",
       "    <tr style=\"text-align: right;\">\n",
       "      <th></th>\n",
       "      <th>duration_sec</th>\n",
       "      <th>start_time</th>\n",
       "      <th>end_time</th>\n",
       "      <th>start_station_id</th>\n",
       "      <th>start_station_name</th>\n",
       "      <th>start_station_latitude</th>\n",
       "      <th>start_station_longitude</th>\n",
       "      <th>end_station_id</th>\n",
       "      <th>end_station_name</th>\n",
       "      <th>end_station_latitude</th>\n",
       "      <th>end_station_longitude</th>\n",
       "      <th>bike_id</th>\n",
       "      <th>user_type</th>\n",
       "      <th>bike_share_for_all_trip</th>\n",
       "    </tr>\n",
       "  </thead>\n",
       "  <tbody>\n",
       "    <tr>\n",
       "      <th>0</th>\n",
       "      <td>50305</td>\n",
       "      <td>2019-04-30 22:33:55.1550</td>\n",
       "      <td>2019-05-01 12:32:20.4540</td>\n",
       "      <td>368.0</td>\n",
       "      <td>Myrtle St at Polk St</td>\n",
       "      <td>37.785434</td>\n",
       "      <td>-122.419622</td>\n",
       "      <td>324.0</td>\n",
       "      <td>Union Square (Powell St at Post St)</td>\n",
       "      <td>37.788300</td>\n",
       "      <td>-122.408531</td>\n",
       "      <td>2749</td>\n",
       "      <td>Subscriber</td>\n",
       "      <td>No</td>\n",
       "    </tr>\n",
       "    <tr>\n",
       "      <th>1</th>\n",
       "      <td>53725</td>\n",
       "      <td>2019-04-30 20:43:41.6320</td>\n",
       "      <td>2019-05-01 11:39:06.9170</td>\n",
       "      <td>246.0</td>\n",
       "      <td>Berkeley Civic Center</td>\n",
       "      <td>37.869060</td>\n",
       "      <td>-122.270556</td>\n",
       "      <td>241.0</td>\n",
       "      <td>Ashby BART Station</td>\n",
       "      <td>37.852477</td>\n",
       "      <td>-122.270213</td>\n",
       "      <td>2608</td>\n",
       "      <td>Customer</td>\n",
       "      <td>No</td>\n",
       "    </tr>\n",
       "    <tr>\n",
       "      <th>2</th>\n",
       "      <td>78072</td>\n",
       "      <td>2019-04-30 10:32:46.4890</td>\n",
       "      <td>2019-05-01 08:13:58.9750</td>\n",
       "      <td>64.0</td>\n",
       "      <td>5th St at Brannan St</td>\n",
       "      <td>37.776754</td>\n",
       "      <td>-122.399018</td>\n",
       "      <td>64.0</td>\n",
       "      <td>5th St at Brannan St</td>\n",
       "      <td>37.776754</td>\n",
       "      <td>-122.399018</td>\n",
       "      <td>258</td>\n",
       "      <td>Subscriber</td>\n",
       "      <td>No</td>\n",
       "    </tr>\n",
       "  </tbody>\n",
       "</table>\n",
       "</div>"
      ],
      "text/plain": [
       "   duration_sec                start_time                  end_time  \\\n",
       "0         50305  2019-04-30 22:33:55.1550  2019-05-01 12:32:20.4540   \n",
       "1         53725  2019-04-30 20:43:41.6320  2019-05-01 11:39:06.9170   \n",
       "2         78072  2019-04-30 10:32:46.4890  2019-05-01 08:13:58.9750   \n",
       "\n",
       "   start_station_id     start_station_name  start_station_latitude  \\\n",
       "0             368.0   Myrtle St at Polk St               37.785434   \n",
       "1             246.0  Berkeley Civic Center               37.869060   \n",
       "2              64.0   5th St at Brannan St               37.776754   \n",
       "\n",
       "   start_station_longitude  end_station_id  \\\n",
       "0              -122.419622           324.0   \n",
       "1              -122.270556           241.0   \n",
       "2              -122.399018            64.0   \n",
       "\n",
       "                      end_station_name  end_station_latitude  \\\n",
       "0  Union Square (Powell St at Post St)             37.788300   \n",
       "1                   Ashby BART Station             37.852477   \n",
       "2                 5th St at Brannan St             37.776754   \n",
       "\n",
       "   end_station_longitude  bike_id   user_type bike_share_for_all_trip  \n",
       "0            -122.408531     2749  Subscriber                      No  \n",
       "1            -122.270213     2608    Customer                      No  \n",
       "2            -122.399018      258  Subscriber                      No  "
      ]
     },
     "execution_count": 4,
     "metadata": {},
     "output_type": "execute_result"
    }
   ],
   "source": [
    "df2019.head(3)"
   ]
  },
  {
   "cell_type": "code",
   "execution_count": 5,
   "metadata": {},
   "outputs": [
    {
     "data": {
      "text/html": [
       "<div>\n",
       "<style scoped>\n",
       "    .dataframe tbody tr th:only-of-type {\n",
       "        vertical-align: middle;\n",
       "    }\n",
       "\n",
       "    .dataframe tbody tr th {\n",
       "        vertical-align: top;\n",
       "    }\n",
       "\n",
       "    .dataframe thead th {\n",
       "        text-align: right;\n",
       "    }\n",
       "</style>\n",
       "<table border=\"1\" class=\"dataframe\">\n",
       "  <thead>\n",
       "    <tr style=\"text-align: right;\">\n",
       "      <th></th>\n",
       "      <th>ride_id</th>\n",
       "      <th>rideable_type</th>\n",
       "      <th>started_at</th>\n",
       "      <th>ended_at</th>\n",
       "      <th>start_station_name</th>\n",
       "      <th>start_station_id</th>\n",
       "      <th>end_station_name</th>\n",
       "      <th>end_station_id</th>\n",
       "      <th>start_lat</th>\n",
       "      <th>start_lng</th>\n",
       "      <th>end_lat</th>\n",
       "      <th>end_lng</th>\n",
       "      <th>member_casual</th>\n",
       "    </tr>\n",
       "  </thead>\n",
       "  <tbody>\n",
       "    <tr>\n",
       "      <th>0</th>\n",
       "      <td>5A1FF31692371859</td>\n",
       "      <td>electric_bike</td>\n",
       "      <td>2020-04-04 08:28:20</td>\n",
       "      <td>2020-04-04 08:33:34</td>\n",
       "      <td>NaN</td>\n",
       "      <td>NaN</td>\n",
       "      <td>NaN</td>\n",
       "      <td>NaN</td>\n",
       "      <td>37.7692</td>\n",
       "      <td>-122.4209</td>\n",
       "      <td>37.7703</td>\n",
       "      <td>-122.4069</td>\n",
       "      <td>casual</td>\n",
       "    </tr>\n",
       "    <tr>\n",
       "      <th>1</th>\n",
       "      <td>D8D5BA2D4F051133</td>\n",
       "      <td>electric_bike</td>\n",
       "      <td>2020-04-03 18:55:43</td>\n",
       "      <td>2020-04-03 19:21:05</td>\n",
       "      <td>NaN</td>\n",
       "      <td>NaN</td>\n",
       "      <td>NaN</td>\n",
       "      <td>NaN</td>\n",
       "      <td>37.8023</td>\n",
       "      <td>-122.4244</td>\n",
       "      <td>37.8023</td>\n",
       "      <td>-122.4244</td>\n",
       "      <td>casual</td>\n",
       "    </tr>\n",
       "    <tr>\n",
       "      <th>2</th>\n",
       "      <td>A3633A9140CA4FF8</td>\n",
       "      <td>electric_bike</td>\n",
       "      <td>2020-04-04 15:11:04</td>\n",
       "      <td>2020-04-04 15:12:21</td>\n",
       "      <td>NaN</td>\n",
       "      <td>NaN</td>\n",
       "      <td>NaN</td>\n",
       "      <td>NaN</td>\n",
       "      <td>37.7667</td>\n",
       "      <td>-122.3961</td>\n",
       "      <td>37.7667</td>\n",
       "      <td>-122.3962</td>\n",
       "      <td>casual</td>\n",
       "    </tr>\n",
       "  </tbody>\n",
       "</table>\n",
       "</div>"
      ],
      "text/plain": [
       "            ride_id  rideable_type           started_at             ended_at  \\\n",
       "0  5A1FF31692371859  electric_bike  2020-04-04 08:28:20  2020-04-04 08:33:34   \n",
       "1  D8D5BA2D4F051133  electric_bike  2020-04-03 18:55:43  2020-04-03 19:21:05   \n",
       "2  A3633A9140CA4FF8  electric_bike  2020-04-04 15:11:04  2020-04-04 15:12:21   \n",
       "\n",
       "  start_station_name  start_station_id end_station_name  end_station_id  \\\n",
       "0                NaN               NaN              NaN             NaN   \n",
       "1                NaN               NaN              NaN             NaN   \n",
       "2                NaN               NaN              NaN             NaN   \n",
       "\n",
       "   start_lat  start_lng  end_lat   end_lng member_casual  \n",
       "0    37.7692  -122.4209  37.7703 -122.4069        casual  \n",
       "1    37.8023  -122.4244  37.8023 -122.4244        casual  \n",
       "2    37.7667  -122.3961  37.7667 -122.3962        casual  "
      ]
     },
     "execution_count": 5,
     "metadata": {},
     "output_type": "execute_result"
    }
   ],
   "source": [
    "df2020.head(3)"
   ]
  },
  {
   "cell_type": "code",
   "execution_count": 6,
   "metadata": {},
   "outputs": [
    {
     "data": {
      "text/plain": [
       "array(['electric_bike', 'docked_bike'], dtype=object)"
      ]
     },
     "execution_count": 6,
     "metadata": {},
     "output_type": "execute_result"
    }
   ],
   "source": [
    "df2020.rideable_type.unique()"
   ]
  },
  {
   "cell_type": "code",
   "execution_count": 7,
   "metadata": {},
   "outputs": [
    {
     "data": {
      "text/html": [
       "<div>\n",
       "<style scoped>\n",
       "    .dataframe tbody tr th:only-of-type {\n",
       "        vertical-align: middle;\n",
       "    }\n",
       "\n",
       "    .dataframe tbody tr th {\n",
       "        vertical-align: top;\n",
       "    }\n",
       "\n",
       "    .dataframe thead th {\n",
       "        text-align: right;\n",
       "    }\n",
       "</style>\n",
       "<table border=\"1\" class=\"dataframe\">\n",
       "  <thead>\n",
       "    <tr style=\"text-align: right;\">\n",
       "      <th></th>\n",
       "      <th>duration_sec</th>\n",
       "      <th>start_station_id</th>\n",
       "      <th>start_station_latitude</th>\n",
       "      <th>start_station_longitude</th>\n",
       "      <th>end_station_id</th>\n",
       "      <th>end_station_latitude</th>\n",
       "      <th>end_station_longitude</th>\n",
       "      <th>bike_id</th>\n",
       "    </tr>\n",
       "  </thead>\n",
       "  <tbody>\n",
       "    <tr>\n",
       "      <th>count</th>\n",
       "      <td>131169.000000</td>\n",
       "      <td>131169.000000</td>\n",
       "      <td>131169.000000</td>\n",
       "      <td>131169.000000</td>\n",
       "      <td>131169.000000</td>\n",
       "      <td>131169.000000</td>\n",
       "      <td>131169.000000</td>\n",
       "      <td>131169.000000</td>\n",
       "    </tr>\n",
       "    <tr>\n",
       "      <th>mean</th>\n",
       "      <td>885.927369</td>\n",
       "      <td>115.930197</td>\n",
       "      <td>37.762504</td>\n",
       "      <td>-122.345369</td>\n",
       "      <td>113.923663</td>\n",
       "      <td>37.762677</td>\n",
       "      <td>-122.344650</td>\n",
       "      <td>2112.806044</td>\n",
       "    </tr>\n",
       "    <tr>\n",
       "      <th>std</th>\n",
       "      <td>2697.759807</td>\n",
       "      <td>95.822508</td>\n",
       "      <td>0.112139</td>\n",
       "      <td>0.130194</td>\n",
       "      <td>95.496324</td>\n",
       "      <td>0.112045</td>\n",
       "      <td>0.129584</td>\n",
       "      <td>1165.606593</td>\n",
       "    </tr>\n",
       "    <tr>\n",
       "      <th>min</th>\n",
       "      <td>61.000000</td>\n",
       "      <td>3.000000</td>\n",
       "      <td>37.312854</td>\n",
       "      <td>-122.444293</td>\n",
       "      <td>3.000000</td>\n",
       "      <td>37.312854</td>\n",
       "      <td>-122.444293</td>\n",
       "      <td>11.000000</td>\n",
       "    </tr>\n",
       "    <tr>\n",
       "      <th>25%</th>\n",
       "      <td>348.000000</td>\n",
       "      <td>34.000000</td>\n",
       "      <td>37.771058</td>\n",
       "      <td>-122.411726</td>\n",
       "      <td>30.000000</td>\n",
       "      <td>37.771058</td>\n",
       "      <td>-122.409851</td>\n",
       "      <td>1126.000000</td>\n",
       "    </tr>\n",
       "    <tr>\n",
       "      <th>50%</th>\n",
       "      <td>550.000000</td>\n",
       "      <td>86.000000</td>\n",
       "      <td>37.781123</td>\n",
       "      <td>-122.397086</td>\n",
       "      <td>81.000000</td>\n",
       "      <td>37.781270</td>\n",
       "      <td>-122.395936</td>\n",
       "      <td>2183.000000</td>\n",
       "    </tr>\n",
       "    <tr>\n",
       "      <th>75%</th>\n",
       "      <td>862.000000</td>\n",
       "      <td>182.000000</td>\n",
       "      <td>37.796248</td>\n",
       "      <td>-122.278267</td>\n",
       "      <td>182.000000</td>\n",
       "      <td>37.796248</td>\n",
       "      <td>-122.281051</td>\n",
       "      <td>3118.000000</td>\n",
       "    </tr>\n",
       "    <tr>\n",
       "      <th>max</th>\n",
       "      <td>86142.000000</td>\n",
       "      <td>345.000000</td>\n",
       "      <td>37.880222</td>\n",
       "      <td>-121.874119</td>\n",
       "      <td>345.000000</td>\n",
       "      <td>37.880222</td>\n",
       "      <td>-121.874119</td>\n",
       "      <td>4073.000000</td>\n",
       "    </tr>\n",
       "  </tbody>\n",
       "</table>\n",
       "</div>"
      ],
      "text/plain": [
       "        duration_sec  start_station_id  start_station_latitude  \\\n",
       "count  131169.000000     131169.000000           131169.000000   \n",
       "mean      885.927369        115.930197               37.762504   \n",
       "std      2697.759807         95.822508                0.112139   \n",
       "min        61.000000          3.000000               37.312854   \n",
       "25%       348.000000         34.000000               37.771058   \n",
       "50%       550.000000         86.000000               37.781123   \n",
       "75%       862.000000        182.000000               37.796248   \n",
       "max     86142.000000        345.000000               37.880222   \n",
       "\n",
       "       start_station_longitude  end_station_id  end_station_latitude  \\\n",
       "count            131169.000000   131169.000000         131169.000000   \n",
       "mean               -122.345369      113.923663             37.762677   \n",
       "std                   0.130194       95.496324              0.112045   \n",
       "min                -122.444293        3.000000             37.312854   \n",
       "25%                -122.411726       30.000000             37.771058   \n",
       "50%                -122.397086       81.000000             37.781270   \n",
       "75%                -122.278267      182.000000             37.796248   \n",
       "max                -121.874119      345.000000             37.880222   \n",
       "\n",
       "       end_station_longitude        bike_id  \n",
       "count          131169.000000  131169.000000  \n",
       "mean             -122.344650    2112.806044  \n",
       "std                 0.129584    1165.606593  \n",
       "min              -122.444293      11.000000  \n",
       "25%              -122.409851    1126.000000  \n",
       "50%              -122.395936    2183.000000  \n",
       "75%              -122.281051    3118.000000  \n",
       "max              -121.874119    4073.000000  "
      ]
     },
     "execution_count": 7,
     "metadata": {},
     "output_type": "execute_result"
    }
   ],
   "source": [
    "df2018.describe()"
   ]
  },
  {
   "cell_type": "code",
   "execution_count": 8,
   "metadata": {},
   "outputs": [
    {
     "data": {
      "text/html": [
       "<div>\n",
       "<style scoped>\n",
       "    .dataframe tbody tr th:only-of-type {\n",
       "        vertical-align: middle;\n",
       "    }\n",
       "\n",
       "    .dataframe tbody tr th {\n",
       "        vertical-align: top;\n",
       "    }\n",
       "\n",
       "    .dataframe thead th {\n",
       "        text-align: right;\n",
       "    }\n",
       "</style>\n",
       "<table border=\"1\" class=\"dataframe\">\n",
       "  <thead>\n",
       "    <tr style=\"text-align: right;\">\n",
       "      <th></th>\n",
       "      <th>duration_sec</th>\n",
       "      <th>start_station_id</th>\n",
       "      <th>start_station_latitude</th>\n",
       "      <th>start_station_longitude</th>\n",
       "      <th>end_station_id</th>\n",
       "      <th>end_station_latitude</th>\n",
       "      <th>end_station_longitude</th>\n",
       "      <th>bike_id</th>\n",
       "    </tr>\n",
       "  </thead>\n",
       "  <tbody>\n",
       "    <tr>\n",
       "      <th>count</th>\n",
       "      <td>239111.000000</td>\n",
       "      <td>239047.000000</td>\n",
       "      <td>239111.000000</td>\n",
       "      <td>239111.000000</td>\n",
       "      <td>239047.000000</td>\n",
       "      <td>239111.000000</td>\n",
       "      <td>239111.000000</td>\n",
       "      <td>239111.000000</td>\n",
       "    </tr>\n",
       "    <tr>\n",
       "      <th>mean</th>\n",
       "      <td>802.671199</td>\n",
       "      <td>141.836538</td>\n",
       "      <td>37.769536</td>\n",
       "      <td>-122.352503</td>\n",
       "      <td>140.838099</td>\n",
       "      <td>37.766996</td>\n",
       "      <td>-122.343420</td>\n",
       "      <td>3666.956493</td>\n",
       "    </tr>\n",
       "    <tr>\n",
       "      <th>std</th>\n",
       "      <td>1990.006091</td>\n",
       "      <td>116.289776</td>\n",
       "      <td>0.127698</td>\n",
       "      <td>0.277088</td>\n",
       "      <td>116.386168</td>\n",
       "      <td>0.343083</td>\n",
       "      <td>1.068144</td>\n",
       "      <td>2180.717333</td>\n",
       "    </tr>\n",
       "    <tr>\n",
       "      <th>min</th>\n",
       "      <td>61.000000</td>\n",
       "      <td>3.000000</td>\n",
       "      <td>0.000000</td>\n",
       "      <td>-122.453704</td>\n",
       "      <td>3.000000</td>\n",
       "      <td>0.000000</td>\n",
       "      <td>-122.453704</td>\n",
       "      <td>11.000000</td>\n",
       "    </tr>\n",
       "    <tr>\n",
       "      <th>25%</th>\n",
       "      <td>349.000000</td>\n",
       "      <td>47.000000</td>\n",
       "      <td>37.770083</td>\n",
       "      <td>-122.413004</td>\n",
       "      <td>44.000000</td>\n",
       "      <td>37.770407</td>\n",
       "      <td>-122.411738</td>\n",
       "      <td>1720.000000</td>\n",
       "    </tr>\n",
       "    <tr>\n",
       "      <th>50%</th>\n",
       "      <td>558.000000</td>\n",
       "      <td>104.000000</td>\n",
       "      <td>37.780760</td>\n",
       "      <td>-122.398285</td>\n",
       "      <td>102.000000</td>\n",
       "      <td>37.780955</td>\n",
       "      <td>-122.397437</td>\n",
       "      <td>3471.000000</td>\n",
       "    </tr>\n",
       "    <tr>\n",
       "      <th>75%</th>\n",
       "      <td>876.000000</td>\n",
       "      <td>240.000000</td>\n",
       "      <td>37.797280</td>\n",
       "      <td>-122.291209</td>\n",
       "      <td>239.000000</td>\n",
       "      <td>37.797320</td>\n",
       "      <td>-122.291376</td>\n",
       "      <td>5749.000000</td>\n",
       "    </tr>\n",
       "    <tr>\n",
       "      <th>max</th>\n",
       "      <td>86114.000000</td>\n",
       "      <td>420.000000</td>\n",
       "      <td>37.880222</td>\n",
       "      <td>0.000000</td>\n",
       "      <td>420.000000</td>\n",
       "      <td>37.880222</td>\n",
       "      <td>0.000000</td>\n",
       "      <td>7108.000000</td>\n",
       "    </tr>\n",
       "  </tbody>\n",
       "</table>\n",
       "</div>"
      ],
      "text/plain": [
       "        duration_sec  start_station_id  start_station_latitude  \\\n",
       "count  239111.000000     239047.000000           239111.000000   \n",
       "mean      802.671199        141.836538               37.769536   \n",
       "std      1990.006091        116.289776                0.127698   \n",
       "min        61.000000          3.000000                0.000000   \n",
       "25%       349.000000         47.000000               37.770083   \n",
       "50%       558.000000        104.000000               37.780760   \n",
       "75%       876.000000        240.000000               37.797280   \n",
       "max     86114.000000        420.000000               37.880222   \n",
       "\n",
       "       start_station_longitude  end_station_id  end_station_latitude  \\\n",
       "count            239111.000000   239047.000000         239111.000000   \n",
       "mean               -122.352503      140.838099             37.766996   \n",
       "std                   0.277088      116.386168              0.343083   \n",
       "min                -122.453704        3.000000              0.000000   \n",
       "25%                -122.413004       44.000000             37.770407   \n",
       "50%                -122.398285      102.000000             37.780955   \n",
       "75%                -122.291209      239.000000             37.797320   \n",
       "max                   0.000000      420.000000             37.880222   \n",
       "\n",
       "       end_station_longitude        bike_id  \n",
       "count          239111.000000  239111.000000  \n",
       "mean             -122.343420    3666.956493  \n",
       "std                 1.068144    2180.717333  \n",
       "min              -122.453704      11.000000  \n",
       "25%              -122.411738    1720.000000  \n",
       "50%              -122.397437    3471.000000  \n",
       "75%              -122.291376    5749.000000  \n",
       "max                 0.000000    7108.000000  "
      ]
     },
     "execution_count": 8,
     "metadata": {},
     "output_type": "execute_result"
    }
   ],
   "source": [
    "df2019.describe()"
   ]
  },
  {
   "cell_type": "code",
   "execution_count": 9,
   "metadata": {},
   "outputs": [
    {
     "data": {
      "text/html": [
       "<div>\n",
       "<style scoped>\n",
       "    .dataframe tbody tr th:only-of-type {\n",
       "        vertical-align: middle;\n",
       "    }\n",
       "\n",
       "    .dataframe tbody tr th {\n",
       "        vertical-align: top;\n",
       "    }\n",
       "\n",
       "    .dataframe thead th {\n",
       "        text-align: right;\n",
       "    }\n",
       "</style>\n",
       "<table border=\"1\" class=\"dataframe\">\n",
       "  <thead>\n",
       "    <tr style=\"text-align: right;\">\n",
       "      <th></th>\n",
       "      <th>start_station_id</th>\n",
       "      <th>end_station_id</th>\n",
       "      <th>start_lat</th>\n",
       "      <th>start_lng</th>\n",
       "      <th>end_lat</th>\n",
       "      <th>end_lng</th>\n",
       "    </tr>\n",
       "  </thead>\n",
       "  <tbody>\n",
       "    <tr>\n",
       "      <th>count</th>\n",
       "      <td>53434.000000</td>\n",
       "      <td>51858.000000</td>\n",
       "      <td>84259.000000</td>\n",
       "      <td>84259.000000</td>\n",
       "      <td>84117.000000</td>\n",
       "      <td>84117.000000</td>\n",
       "    </tr>\n",
       "    <tr>\n",
       "      <th>mean</th>\n",
       "      <td>226.467755</td>\n",
       "      <td>221.176116</td>\n",
       "      <td>37.707087</td>\n",
       "      <td>-122.318657</td>\n",
       "      <td>37.706943</td>\n",
       "      <td>-122.318775</td>\n",
       "    </tr>\n",
       "    <tr>\n",
       "      <th>std</th>\n",
       "      <td>167.112430</td>\n",
       "      <td>166.366682</td>\n",
       "      <td>0.168721</td>\n",
       "      <td>0.199837</td>\n",
       "      <td>0.168726</td>\n",
       "      <td>0.199946</td>\n",
       "    </tr>\n",
       "    <tr>\n",
       "      <th>min</th>\n",
       "      <td>3.000000</td>\n",
       "      <td>3.000000</td>\n",
       "      <td>37.266500</td>\n",
       "      <td>-122.513200</td>\n",
       "      <td>37.221500</td>\n",
       "      <td>-122.513900</td>\n",
       "    </tr>\n",
       "    <tr>\n",
       "      <th>25%</th>\n",
       "      <td>75.000000</td>\n",
       "      <td>74.000000</td>\n",
       "      <td>37.756600</td>\n",
       "      <td>-122.427200</td>\n",
       "      <td>37.756700</td>\n",
       "      <td>-122.426900</td>\n",
       "    </tr>\n",
       "    <tr>\n",
       "      <th>50%</th>\n",
       "      <td>183.000000</td>\n",
       "      <td>169.000000</td>\n",
       "      <td>37.773500</td>\n",
       "      <td>-122.408400</td>\n",
       "      <td>37.773500</td>\n",
       "      <td>-122.408400</td>\n",
       "    </tr>\n",
       "    <tr>\n",
       "      <th>75%</th>\n",
       "      <td>381.000000</td>\n",
       "      <td>377.000000</td>\n",
       "      <td>37.787400</td>\n",
       "      <td>-122.285600</td>\n",
       "      <td>37.787400</td>\n",
       "      <td>-122.287600</td>\n",
       "    </tr>\n",
       "    <tr>\n",
       "      <th>max</th>\n",
       "      <td>521.000000</td>\n",
       "      <td>521.000000</td>\n",
       "      <td>37.880200</td>\n",
       "      <td>-121.806400</td>\n",
       "      <td>37.880200</td>\n",
       "      <td>-121.774300</td>\n",
       "    </tr>\n",
       "  </tbody>\n",
       "</table>\n",
       "</div>"
      ],
      "text/plain": [
       "       start_station_id  end_station_id     start_lat     start_lng  \\\n",
       "count      53434.000000    51858.000000  84259.000000  84259.000000   \n",
       "mean         226.467755      221.176116     37.707087   -122.318657   \n",
       "std          167.112430      166.366682      0.168721      0.199837   \n",
       "min            3.000000        3.000000     37.266500   -122.513200   \n",
       "25%           75.000000       74.000000     37.756600   -122.427200   \n",
       "50%          183.000000      169.000000     37.773500   -122.408400   \n",
       "75%          381.000000      377.000000     37.787400   -122.285600   \n",
       "max          521.000000      521.000000     37.880200   -121.806400   \n",
       "\n",
       "            end_lat       end_lng  \n",
       "count  84117.000000  84117.000000  \n",
       "mean      37.706943   -122.318775  \n",
       "std        0.168726      0.199946  \n",
       "min       37.221500   -122.513900  \n",
       "25%       37.756700   -122.426900  \n",
       "50%       37.773500   -122.408400  \n",
       "75%       37.787400   -122.287600  \n",
       "max       37.880200   -121.774300  "
      ]
     },
     "execution_count": 9,
     "metadata": {},
     "output_type": "execute_result"
    }
   ],
   "source": [
    "df2020.describe()"
   ]
  },
  {
   "cell_type": "code",
   "execution_count": 10,
   "metadata": {},
   "outputs": [
    {
     "name": "stdout",
     "output_type": "stream",
     "text": [
      "<class 'pandas.core.frame.DataFrame'>\n",
      "RangeIndex: 131169 entries, 0 to 131168\n",
      "Data columns (total 14 columns):\n",
      " #   Column                   Non-Null Count   Dtype  \n",
      "---  ------                   --------------   -----  \n",
      " 0   duration_sec             131169 non-null  int64  \n",
      " 1   start_time               131169 non-null  object \n",
      " 2   end_time                 131169 non-null  object \n",
      " 3   start_station_id         131169 non-null  int64  \n",
      " 4   start_station_name       131169 non-null  object \n",
      " 5   start_station_latitude   131169 non-null  float64\n",
      " 6   start_station_longitude  131169 non-null  float64\n",
      " 7   end_station_id           131169 non-null  int64  \n",
      " 8   end_station_name         131169 non-null  object \n",
      " 9   end_station_latitude     131169 non-null  float64\n",
      " 10  end_station_longitude    131169 non-null  float64\n",
      " 11  bike_id                  131169 non-null  int64  \n",
      " 12  user_type                131169 non-null  object \n",
      " 13  bike_share_for_all_trip  131169 non-null  object \n",
      "dtypes: float64(4), int64(4), object(6)\n",
      "memory usage: 14.0+ MB\n"
     ]
    }
   ],
   "source": [
    "df2018.info()"
   ]
  },
  {
   "cell_type": "code",
   "execution_count": 11,
   "metadata": {},
   "outputs": [
    {
     "name": "stdout",
     "output_type": "stream",
     "text": [
      "<class 'pandas.core.frame.DataFrame'>\n",
      "RangeIndex: 239111 entries, 0 to 239110\n",
      "Data columns (total 14 columns):\n",
      " #   Column                   Non-Null Count   Dtype  \n",
      "---  ------                   --------------   -----  \n",
      " 0   duration_sec             239111 non-null  int64  \n",
      " 1   start_time               239111 non-null  object \n",
      " 2   end_time                 239111 non-null  object \n",
      " 3   start_station_id         239047 non-null  float64\n",
      " 4   start_station_name       239047 non-null  object \n",
      " 5   start_station_latitude   239111 non-null  float64\n",
      " 6   start_station_longitude  239111 non-null  float64\n",
      " 7   end_station_id           239047 non-null  float64\n",
      " 8   end_station_name         239047 non-null  object \n",
      " 9   end_station_latitude     239111 non-null  float64\n",
      " 10  end_station_longitude    239111 non-null  float64\n",
      " 11  bike_id                  239111 non-null  int64  \n",
      " 12  user_type                239111 non-null  object \n",
      " 13  bike_share_for_all_trip  239111 non-null  object \n",
      "dtypes: float64(6), int64(2), object(6)\n",
      "memory usage: 25.5+ MB\n"
     ]
    }
   ],
   "source": [
    "df2019.info()"
   ]
  },
  {
   "cell_type": "code",
   "execution_count": 12,
   "metadata": {},
   "outputs": [
    {
     "name": "stdout",
     "output_type": "stream",
     "text": [
      "<class 'pandas.core.frame.DataFrame'>\n",
      "RangeIndex: 84259 entries, 0 to 84258\n",
      "Data columns (total 13 columns):\n",
      " #   Column              Non-Null Count  Dtype  \n",
      "---  ------              --------------  -----  \n",
      " 0   ride_id             84259 non-null  object \n",
      " 1   rideable_type       84259 non-null  object \n",
      " 2   started_at          84259 non-null  object \n",
      " 3   ended_at            84259 non-null  object \n",
      " 4   start_station_name  53434 non-null  object \n",
      " 5   start_station_id    53434 non-null  float64\n",
      " 6   end_station_name    51858 non-null  object \n",
      " 7   end_station_id      51858 non-null  float64\n",
      " 8   start_lat           84259 non-null  float64\n",
      " 9   start_lng           84259 non-null  float64\n",
      " 10  end_lat             84117 non-null  float64\n",
      " 11  end_lng             84117 non-null  float64\n",
      " 12  member_casual       84259 non-null  object \n",
      "dtypes: float64(6), object(7)\n",
      "memory usage: 8.4+ MB\n"
     ]
    }
   ],
   "source": [
    "df2020.info()"
   ]
  },
  {
   "cell_type": "code",
   "execution_count": 13,
   "metadata": {},
   "outputs": [],
   "source": [
    "#datetime.strptime(df2020.started_at[0],form).weekday()"
   ]
  },
  {
   "cell_type": "code",
   "execution_count": 14,
   "metadata": {},
   "outputs": [
    {
     "name": "stderr",
     "output_type": "stream",
     "text": [
      "F:\\Installs\\lib\\site-packages\\ipykernel_launcher.py:6: SettingWithCopyWarning: \n",
      "A value is trying to be set on a copy of a slice from a DataFrame\n",
      "\n",
      "See the caveats in the documentation: https://pandas.pydata.org/pandas-docs/stable/user_guide/indexing.html#returning-a-view-versus-a-copy\n",
      "  \n"
     ]
    }
   ],
   "source": [
    "k = 0 \n",
    "form = \"%Y-%m-%d %H:%M:%S\"\n",
    "df2020Modified = df2020.copy()\n",
    "df2020Modified['duration_sec']=df2020.started_at\n",
    "for i,j in zip(df2020.started_at,df2020.ended_at):\n",
    "    df2020Modified['duration_sec'][k] = int((datetime.strptime(j, form) -datetime.strptime(i,form)).seconds)\n",
    "    k+=1"
   ]
  },
  {
   "cell_type": "code",
   "execution_count": 15,
   "metadata": {},
   "outputs": [],
   "source": [
    "def getIfWeekDay(df,form,field):\n",
    "    k = 0 \n",
    "    df['week_day'] = df[field]\n",
    "    for i in df[field]:\n",
    "        day =  int(datetime.strptime(i, form).weekday())\n",
    "        if day == 5 or day == 6:\n",
    "            df['week_day'][k] = 'week_end'\n",
    "        else:\n",
    "            df['week_day'][k] = 'week_day'\n",
    "        k+=1"
   ]
  },
  {
   "cell_type": "code",
   "execution_count": 16,
   "metadata": {},
   "outputs": [],
   "source": [
    "#getIfWeekDay(df2019Modified,\"%Y-%m-%d %H:%M:%S.%f\",\"start_time\")"
   ]
  },
  {
   "cell_type": "code",
   "execution_count": 17,
   "metadata": {},
   "outputs": [],
   "source": [
    "#df2019Modified"
   ]
  },
  {
   "cell_type": "code",
   "execution_count": 18,
   "metadata": {},
   "outputs": [
    {
     "name": "stdout",
     "output_type": "stream",
     "text": [
      "<class 'pandas.core.frame.DataFrame'>\n",
      "RangeIndex: 84259 entries, 0 to 84258\n",
      "Data columns (total 14 columns):\n",
      " #   Column              Non-Null Count  Dtype  \n",
      "---  ------              --------------  -----  \n",
      " 0   ride_id             84259 non-null  object \n",
      " 1   rideable_type       84259 non-null  object \n",
      " 2   started_at          84259 non-null  object \n",
      " 3   ended_at            84259 non-null  object \n",
      " 4   start_station_name  53434 non-null  object \n",
      " 5   start_station_id    53434 non-null  float64\n",
      " 6   end_station_name    51858 non-null  object \n",
      " 7   end_station_id      51858 non-null  float64\n",
      " 8   start_lat           84259 non-null  float64\n",
      " 9   start_lng           84259 non-null  float64\n",
      " 10  end_lat             84117 non-null  float64\n",
      " 11  end_lng             84117 non-null  float64\n",
      " 12  member_casual       84259 non-null  object \n",
      " 13  duration_sec        84259 non-null  object \n",
      "dtypes: float64(6), object(8)\n",
      "memory usage: 9.0+ MB\n"
     ]
    }
   ],
   "source": [
    "df2020Modified.info()"
   ]
  },
  {
   "cell_type": "code",
   "execution_count": 19,
   "metadata": {},
   "outputs": [
    {
     "data": {
      "text/plain": [
       "array(['casual', 'member'], dtype=object)"
      ]
     },
     "execution_count": 19,
     "metadata": {},
     "output_type": "execute_result"
    }
   ],
   "source": [
    "df2020['member_casual'].unique()"
   ]
  },
  {
   "cell_type": "code",
   "execution_count": 20,
   "metadata": {},
   "outputs": [
    {
     "data": {
      "text/plain": [
       "array(['Subscriber', 'Customer'], dtype=object)"
      ]
     },
     "execution_count": 20,
     "metadata": {},
     "output_type": "execute_result"
    }
   ],
   "source": [
    "df2019['user_type'].unique()"
   ]
  },
  {
   "cell_type": "code",
   "execution_count": 21,
   "metadata": {},
   "outputs": [],
   "source": [
    "df2020Modified[\"user_type\"] = df2020Modified['member_casual']\n",
    "df2020Modified[\"user_type\"].replace({\"casual\": \"Customer\", \"member\": \"Subscriber\"}, inplace=True)"
   ]
  },
  {
   "cell_type": "code",
   "execution_count": 22,
   "metadata": {},
   "outputs": [],
   "source": [
    "def cleanData(df,wantedTables):\n",
    "    for i in df:\n",
    "        if i not in wantedTables:\n",
    "            del df[i]\n",
    "    df.dropna()"
   ]
  },
  {
   "cell_type": "code",
   "execution_count": 23,
   "metadata": {},
   "outputs": [],
   "source": [
    "df2019WantedData=['duration_sec','user_type',\"week_day\"]\n",
    "df2020WantedData=['duration_sec','user_type',\"week_day\"]\n"
   ]
  },
  {
   "cell_type": "code",
   "execution_count": 24,
   "metadata": {},
   "outputs": [
    {
     "name": "stderr",
     "output_type": "stream",
     "text": [
      "F:\\Installs\\lib\\site-packages\\ipykernel_launcher.py:7: SettingWithCopyWarning: \n",
      "A value is trying to be set on a copy of a slice from a DataFrame\n",
      "\n",
      "See the caveats in the documentation: https://pandas.pydata.org/pandas-docs/stable/user_guide/indexing.html#returning-a-view-versus-a-copy\n",
      "  import sys\n",
      "F:\\Installs\\lib\\site-packages\\ipykernel_launcher.py:9: SettingWithCopyWarning: \n",
      "A value is trying to be set on a copy of a slice from a DataFrame\n",
      "\n",
      "See the caveats in the documentation: https://pandas.pydata.org/pandas-docs/stable/user_guide/indexing.html#returning-a-view-versus-a-copy\n",
      "  if __name__ == '__main__':\n"
     ]
    }
   ],
   "source": [
    "df2018Modified = df2018.drop_duplicates()\n",
    "df2019Modified = df2019.drop_duplicates()\n",
    "df2020Modified2 = df2020Modified.drop_duplicates()\n",
    "\n",
    "getIfWeekDay(df2020Modified2,\"%Y-%m-%d %H:%M:%S\",\"started_at\")\n",
    "getIfWeekDay(df2019Modified,\"%Y-%m-%d %H:%M:%S.%f\",\"start_time\")\n",
    "getIfWeekDay(df2018Modified,\"%Y-%m-%d %H:%M:%S.%f\",\"start_time\")\n",
    "\n",
    "cleanData(df2018Modified,df2019WantedData)\n",
    "cleanData(df2019Modified,df2019WantedData)\n",
    "cleanData(df2020Modified2,df2020WantedData)\n",
    "\n",
    "df2020Modified2[[\"duration_sec\"]] = df2020Modified2[[\"duration_sec\"]].apply(pd.to_numeric)\n",
    "\n",
    "df2020Modified2[\"year\"]=2020\n",
    "df2019Modified[\"year\"]=2019\n",
    "df2018Modified[\"year\"]=2018\n"
   ]
  },
  {
   "cell_type": "code",
   "execution_count": 25,
   "metadata": {},
   "outputs": [
    {
     "data": {
      "text/html": [
       "<div>\n",
       "<style scoped>\n",
       "    .dataframe tbody tr th:only-of-type {\n",
       "        vertical-align: middle;\n",
       "    }\n",
       "\n",
       "    .dataframe tbody tr th {\n",
       "        vertical-align: top;\n",
       "    }\n",
       "\n",
       "    .dataframe thead th {\n",
       "        text-align: right;\n",
       "    }\n",
       "</style>\n",
       "<table border=\"1\" class=\"dataframe\">\n",
       "  <thead>\n",
       "    <tr style=\"text-align: right;\">\n",
       "      <th></th>\n",
       "      <th>duration_sec</th>\n",
       "      <th>user_type</th>\n",
       "      <th>week_day</th>\n",
       "      <th>year</th>\n",
       "    </tr>\n",
       "  </thead>\n",
       "  <tbody>\n",
       "    <tr>\n",
       "      <th>0</th>\n",
       "      <td>50305</td>\n",
       "      <td>Subscriber</td>\n",
       "      <td>week_day</td>\n",
       "      <td>2019</td>\n",
       "    </tr>\n",
       "    <tr>\n",
       "      <th>1</th>\n",
       "      <td>53725</td>\n",
       "      <td>Customer</td>\n",
       "      <td>week_day</td>\n",
       "      <td>2019</td>\n",
       "    </tr>\n",
       "    <tr>\n",
       "      <th>2</th>\n",
       "      <td>78072</td>\n",
       "      <td>Subscriber</td>\n",
       "      <td>week_day</td>\n",
       "      <td>2019</td>\n",
       "    </tr>\n",
       "    <tr>\n",
       "      <th>3</th>\n",
       "      <td>78969</td>\n",
       "      <td>Subscriber</td>\n",
       "      <td>week_day</td>\n",
       "      <td>2019</td>\n",
       "    </tr>\n",
       "    <tr>\n",
       "      <th>4</th>\n",
       "      <td>1128</td>\n",
       "      <td>Subscriber</td>\n",
       "      <td>week_day</td>\n",
       "      <td>2019</td>\n",
       "    </tr>\n",
       "    <tr>\n",
       "      <th>...</th>\n",
       "      <td>...</td>\n",
       "      <td>...</td>\n",
       "      <td>...</td>\n",
       "      <td>...</td>\n",
       "    </tr>\n",
       "    <tr>\n",
       "      <th>239106</th>\n",
       "      <td>184</td>\n",
       "      <td>Subscriber</td>\n",
       "      <td>week_day</td>\n",
       "      <td>2019</td>\n",
       "    </tr>\n",
       "    <tr>\n",
       "      <th>239107</th>\n",
       "      <td>539</td>\n",
       "      <td>Subscriber</td>\n",
       "      <td>week_day</td>\n",
       "      <td>2019</td>\n",
       "    </tr>\n",
       "    <tr>\n",
       "      <th>239108</th>\n",
       "      <td>292</td>\n",
       "      <td>Subscriber</td>\n",
       "      <td>week_day</td>\n",
       "      <td>2019</td>\n",
       "    </tr>\n",
       "    <tr>\n",
       "      <th>239109</th>\n",
       "      <td>471</td>\n",
       "      <td>Subscriber</td>\n",
       "      <td>week_day</td>\n",
       "      <td>2019</td>\n",
       "    </tr>\n",
       "    <tr>\n",
       "      <th>239110</th>\n",
       "      <td>356</td>\n",
       "      <td>Subscriber</td>\n",
       "      <td>week_day</td>\n",
       "      <td>2019</td>\n",
       "    </tr>\n",
       "  </tbody>\n",
       "</table>\n",
       "<p>239111 rows × 4 columns</p>\n",
       "</div>"
      ],
      "text/plain": [
       "        duration_sec   user_type  week_day  year\n",
       "0              50305  Subscriber  week_day  2019\n",
       "1              53725    Customer  week_day  2019\n",
       "2              78072  Subscriber  week_day  2019\n",
       "3              78969  Subscriber  week_day  2019\n",
       "4               1128  Subscriber  week_day  2019\n",
       "...              ...         ...       ...   ...\n",
       "239106           184  Subscriber  week_day  2019\n",
       "239107           539  Subscriber  week_day  2019\n",
       "239108           292  Subscriber  week_day  2019\n",
       "239109           471  Subscriber  week_day  2019\n",
       "239110           356  Subscriber  week_day  2019\n",
       "\n",
       "[239111 rows x 4 columns]"
      ]
     },
     "execution_count": 25,
     "metadata": {},
     "output_type": "execute_result"
    }
   ],
   "source": [
    "df2019Modified"
   ]
  },
  {
   "cell_type": "code",
   "execution_count": 26,
   "metadata": {},
   "outputs": [
    {
     "name": "stdout",
     "output_type": "stream",
     "text": [
      "<class 'pandas.core.frame.DataFrame'>\n",
      "Int64Index: 131169 entries, 0 to 131168\n",
      "Data columns (total 4 columns):\n",
      " #   Column        Non-Null Count   Dtype \n",
      "---  ------        --------------   ----- \n",
      " 0   duration_sec  131169 non-null  int64 \n",
      " 1   user_type     131169 non-null  object\n",
      " 2   week_day      131169 non-null  object\n",
      " 3   year          131169 non-null  int64 \n",
      "dtypes: int64(2), object(2)\n",
      "memory usage: 10.0+ MB\n"
     ]
    }
   ],
   "source": [
    "df2018Modified.info()"
   ]
  },
  {
   "cell_type": "code",
   "execution_count": 27,
   "metadata": {},
   "outputs": [
    {
     "name": "stdout",
     "output_type": "stream",
     "text": [
      "<class 'pandas.core.frame.DataFrame'>\n",
      "Int64Index: 239111 entries, 0 to 239110\n",
      "Data columns (total 4 columns):\n",
      " #   Column        Non-Null Count   Dtype \n",
      "---  ------        --------------   ----- \n",
      " 0   duration_sec  239111 non-null  int64 \n",
      " 1   user_type     239111 non-null  object\n",
      " 2   week_day      239111 non-null  object\n",
      " 3   year          239111 non-null  int64 \n",
      "dtypes: int64(2), object(2)\n",
      "memory usage: 19.1+ MB\n"
     ]
    }
   ],
   "source": [
    "df2019Modified.info()"
   ]
  },
  {
   "cell_type": "code",
   "execution_count": 28,
   "metadata": {},
   "outputs": [
    {
     "name": "stdout",
     "output_type": "stream",
     "text": [
      "<class 'pandas.core.frame.DataFrame'>\n",
      "Int64Index: 84259 entries, 0 to 84258\n",
      "Data columns (total 4 columns):\n",
      " #   Column        Non-Null Count  Dtype \n",
      "---  ------        --------------  ----- \n",
      " 0   duration_sec  84259 non-null  int64 \n",
      " 1   user_type     84259 non-null  object\n",
      " 2   week_day      84259 non-null  object\n",
      " 3   year          84259 non-null  int64 \n",
      "dtypes: int64(2), object(2)\n",
      "memory usage: 5.7+ MB\n"
     ]
    }
   ],
   "source": [
    "df2020Modified2.info()"
   ]
  },
  {
   "cell_type": "code",
   "execution_count": 29,
   "metadata": {},
   "outputs": [
    {
     "data": {
      "text/html": [
       "<div>\n",
       "<style scoped>\n",
       "    .dataframe tbody tr th:only-of-type {\n",
       "        vertical-align: middle;\n",
       "    }\n",
       "\n",
       "    .dataframe tbody tr th {\n",
       "        vertical-align: top;\n",
       "    }\n",
       "\n",
       "    .dataframe thead th {\n",
       "        text-align: right;\n",
       "    }\n",
       "</style>\n",
       "<table border=\"1\" class=\"dataframe\">\n",
       "  <thead>\n",
       "    <tr style=\"text-align: right;\">\n",
       "      <th></th>\n",
       "      <th>duration_sec</th>\n",
       "      <th>year</th>\n",
       "    </tr>\n",
       "  </thead>\n",
       "  <tbody>\n",
       "    <tr>\n",
       "      <th>count</th>\n",
       "      <td>239111.000000</td>\n",
       "      <td>239111.0</td>\n",
       "    </tr>\n",
       "    <tr>\n",
       "      <th>mean</th>\n",
       "      <td>802.671199</td>\n",
       "      <td>2019.0</td>\n",
       "    </tr>\n",
       "    <tr>\n",
       "      <th>std</th>\n",
       "      <td>1990.006091</td>\n",
       "      <td>0.0</td>\n",
       "    </tr>\n",
       "    <tr>\n",
       "      <th>min</th>\n",
       "      <td>61.000000</td>\n",
       "      <td>2019.0</td>\n",
       "    </tr>\n",
       "    <tr>\n",
       "      <th>25%</th>\n",
       "      <td>349.000000</td>\n",
       "      <td>2019.0</td>\n",
       "    </tr>\n",
       "    <tr>\n",
       "      <th>50%</th>\n",
       "      <td>558.000000</td>\n",
       "      <td>2019.0</td>\n",
       "    </tr>\n",
       "    <tr>\n",
       "      <th>75%</th>\n",
       "      <td>876.000000</td>\n",
       "      <td>2019.0</td>\n",
       "    </tr>\n",
       "    <tr>\n",
       "      <th>max</th>\n",
       "      <td>86114.000000</td>\n",
       "      <td>2019.0</td>\n",
       "    </tr>\n",
       "  </tbody>\n",
       "</table>\n",
       "</div>"
      ],
      "text/plain": [
       "        duration_sec      year\n",
       "count  239111.000000  239111.0\n",
       "mean      802.671199    2019.0\n",
       "std      1990.006091       0.0\n",
       "min        61.000000    2019.0\n",
       "25%       349.000000    2019.0\n",
       "50%       558.000000    2019.0\n",
       "75%       876.000000    2019.0\n",
       "max     86114.000000    2019.0"
      ]
     },
     "execution_count": 29,
     "metadata": {},
     "output_type": "execute_result"
    }
   ],
   "source": [
    "df2019Modified.describe()"
   ]
  },
  {
   "cell_type": "code",
   "execution_count": 30,
   "metadata": {},
   "outputs": [
    {
     "data": {
      "text/html": [
       "<div>\n",
       "<style scoped>\n",
       "    .dataframe tbody tr th:only-of-type {\n",
       "        vertical-align: middle;\n",
       "    }\n",
       "\n",
       "    .dataframe tbody tr th {\n",
       "        vertical-align: top;\n",
       "    }\n",
       "\n",
       "    .dataframe thead th {\n",
       "        text-align: right;\n",
       "    }\n",
       "</style>\n",
       "<table border=\"1\" class=\"dataframe\">\n",
       "  <thead>\n",
       "    <tr style=\"text-align: right;\">\n",
       "      <th></th>\n",
       "      <th>duration_sec</th>\n",
       "      <th>year</th>\n",
       "    </tr>\n",
       "  </thead>\n",
       "  <tbody>\n",
       "    <tr>\n",
       "      <th>count</th>\n",
       "      <td>84259.000000</td>\n",
       "      <td>84259.0</td>\n",
       "    </tr>\n",
       "    <tr>\n",
       "      <th>mean</th>\n",
       "      <td>1351.826476</td>\n",
       "      <td>2020.0</td>\n",
       "    </tr>\n",
       "    <tr>\n",
       "      <th>std</th>\n",
       "      <td>3445.005514</td>\n",
       "      <td>0.0</td>\n",
       "    </tr>\n",
       "    <tr>\n",
       "      <th>min</th>\n",
       "      <td>0.000000</td>\n",
       "      <td>2020.0</td>\n",
       "    </tr>\n",
       "    <tr>\n",
       "      <th>25%</th>\n",
       "      <td>401.000000</td>\n",
       "      <td>2020.0</td>\n",
       "    </tr>\n",
       "    <tr>\n",
       "      <th>50%</th>\n",
       "      <td>753.000000</td>\n",
       "      <td>2020.0</td>\n",
       "    </tr>\n",
       "    <tr>\n",
       "      <th>75%</th>\n",
       "      <td>1481.000000</td>\n",
       "      <td>2020.0</td>\n",
       "    </tr>\n",
       "    <tr>\n",
       "      <th>max</th>\n",
       "      <td>86399.000000</td>\n",
       "      <td>2020.0</td>\n",
       "    </tr>\n",
       "  </tbody>\n",
       "</table>\n",
       "</div>"
      ],
      "text/plain": [
       "       duration_sec     year\n",
       "count  84259.000000  84259.0\n",
       "mean    1351.826476   2020.0\n",
       "std     3445.005514      0.0\n",
       "min        0.000000   2020.0\n",
       "25%      401.000000   2020.0\n",
       "50%      753.000000   2020.0\n",
       "75%     1481.000000   2020.0\n",
       "max    86399.000000   2020.0"
      ]
     },
     "execution_count": 30,
     "metadata": {},
     "output_type": "execute_result"
    }
   ],
   "source": [
    "df2020Modified2.describe()"
   ]
  },
  {
   "cell_type": "code",
   "execution_count": 32,
   "metadata": {},
   "outputs": [
    {
     "name": "stdout",
     "output_type": "stream",
     "text": [
      "<class 'pandas.core.frame.DataFrame'>\n",
      "Int64Index: 441150 entries, 10 to 131168\n",
      "Data columns (total 5 columns):\n",
      " #   Column        Non-Null Count   Dtype  \n",
      "---  ------        --------------   -----  \n",
      " 0   duration_sec  441150 non-null  float64\n",
      " 1   user_type     441150 non-null  object \n",
      " 2   week_day      441150 non-null  object \n",
      " 3   year          441150 non-null  object \n",
      " 4   duration_min  441150 non-null  float64\n",
      "dtypes: float64(2), object(3)\n",
      "memory usage: 20.2+ MB\n"
     ]
    }
   ],
   "source": [
    "df_final = df2020Modified2.append(df2019Modified).append(df2018Modified)\n",
    "df_final['duration_min'] = df_final['duration_sec']/60\n",
    "df_final[\"year\"] = df_final[\"year\"].astype(str)\n",
    "df_final.duration_min = df_final.duration_min.astype(\"float64\")\n",
    "df_final.duration_sec = df_final.duration_sec.astype(\"float64\")\n",
    "df_final.drop(df_final.query(\"duration_min> 90\").index,inplace=True)\n",
    "df_final.info()"
   ]
  },
  {
   "cell_type": "code",
   "execution_count": 33,
   "metadata": {},
   "outputs": [
    {
     "data": {
      "text/html": [
       "<div>\n",
       "<style scoped>\n",
       "    .dataframe tbody tr th:only-of-type {\n",
       "        vertical-align: middle;\n",
       "    }\n",
       "\n",
       "    .dataframe tbody tr th {\n",
       "        vertical-align: top;\n",
       "    }\n",
       "\n",
       "    .dataframe thead th {\n",
       "        text-align: right;\n",
       "    }\n",
       "</style>\n",
       "<table border=\"1\" class=\"dataframe\">\n",
       "  <thead>\n",
       "    <tr style=\"text-align: right;\">\n",
       "      <th></th>\n",
       "      <th>duration_sec</th>\n",
       "      <th>duration_min</th>\n",
       "    </tr>\n",
       "  </thead>\n",
       "  <tbody>\n",
       "    <tr>\n",
       "      <th>count</th>\n",
       "      <td>441150.000000</td>\n",
       "      <td>441150.000000</td>\n",
       "    </tr>\n",
       "    <tr>\n",
       "      <th>mean</th>\n",
       "      <td>761.717618</td>\n",
       "      <td>12.695294</td>\n",
       "    </tr>\n",
       "    <tr>\n",
       "      <th>std</th>\n",
       "      <td>673.071546</td>\n",
       "      <td>11.217859</td>\n",
       "    </tr>\n",
       "    <tr>\n",
       "      <th>min</th>\n",
       "      <td>0.000000</td>\n",
       "      <td>0.000000</td>\n",
       "    </tr>\n",
       "    <tr>\n",
       "      <th>25%</th>\n",
       "      <td>353.000000</td>\n",
       "      <td>5.883333</td>\n",
       "    </tr>\n",
       "    <tr>\n",
       "      <th>50%</th>\n",
       "      <td>573.000000</td>\n",
       "      <td>9.550000</td>\n",
       "    </tr>\n",
       "    <tr>\n",
       "      <th>75%</th>\n",
       "      <td>924.000000</td>\n",
       "      <td>15.400000</td>\n",
       "    </tr>\n",
       "    <tr>\n",
       "      <th>max</th>\n",
       "      <td>5400.000000</td>\n",
       "      <td>90.000000</td>\n",
       "    </tr>\n",
       "  </tbody>\n",
       "</table>\n",
       "</div>"
      ],
      "text/plain": [
       "        duration_sec   duration_min\n",
       "count  441150.000000  441150.000000\n",
       "mean      761.717618      12.695294\n",
       "std       673.071546      11.217859\n",
       "min         0.000000       0.000000\n",
       "25%       353.000000       5.883333\n",
       "50%       573.000000       9.550000\n",
       "75%       924.000000      15.400000\n",
       "max      5400.000000      90.000000"
      ]
     },
     "execution_count": 33,
     "metadata": {},
     "output_type": "execute_result"
    }
   ],
   "source": [
    "df_final.describe() # 86399.000000 1439.983333"
   ]
  },
  {
   "cell_type": "markdown",
   "metadata": {},
   "source": [
    "### What is the structure of your dataset?\n",
    "\n",
    "The dataset is structured into several seperate datasets for each month from 2018 to 2020, as well as full data from 2017, the dataset contains mostly geographical data, such as the longitude and latitude of the start and finish stations, it also contains IDs for the stations, the user's and a unique ride ID, as well as the names of the station and the start and finishing time, the structure in 2020 changes, giving different names for the columns, and remove the pre-calculated duration of the trip in favor of calculating it on the spot. There are also 2 mismatching columns type of the ride, and bike was shared.\n",
    "\n",
    "### What is/are the main feature(s) of interest in your dataset?\n",
    "\n",
    "The main features of interest is the duration of the trip, as it is the only consistant quantative feature that can be exploited in answering the question of this exploration, which is: how much did covid-19 affect the bike rents in a specified amount of time. In order to investigate this question, the data from April 2018-2019-2020 are to be used, where 2018 and 2019 are being used as reference against 2020. It is assumed that the duration and frequency of the rides are to be affected by covid-19, and therefore they should be heavily decreased.\n",
    "\n",
    "### What features in the dataset do you think will help support your investigation into your feature(s) of interest?\n",
    "\n",
    "Since the duration data in 2020 is missing, it has to be calculated date-time comparison of start and finishing time, which I did and produced duration_sec feature in 2020 dataset, most features other features are useless for the scope of this investegation, except user_type, where it a type of user whether a subscriber/member or a Customer/casual user can be more likely to use, as a subscriber would idealy not want to give up their subscription fee usage, or the number of subscribers might decrease because they want to free themselves up from a burden that they are not using, and therefore would become more casual users and rarely use the bikes.\n",
    "\n",
    "A new column for the year is added (2018,2019,2020) after all the data from the datasets were combined, and the whether it is a week day or a weekend is also added.\n",
    "\n",
    "April was used as it is the most recently updated part of the data, and since covid-19 is at its worst at that time, it will be the perfect point of comparison ."
   ]
  },
  {
   "cell_type": "markdown",
   "metadata": {},
   "source": [
    "## Univariate Exploration\n",
    "\n",
    "> In this section, investigate distributions of individual variables. If\n",
    "you see unusual points or outliers, take a deeper look to clean things up\n",
    "and prepare yourself to look at relationships between variables."
   ]
  },
  {
   "cell_type": "code",
   "execution_count": 34,
   "metadata": {},
   "outputs": [],
   "source": [
    "base_color = sb.color_palette()[0]\n",
    "duration_per_year = df_final.groupby(\"year\").duration_min.sum()\n",
    "years = duration_per_year.index"
   ]
  },
  {
   "cell_type": "code",
   "execution_count": 35,
   "metadata": {},
   "outputs": [
    {
     "data": {
      "text/plain": [
       "year\n",
       "2018    1.459882e+06\n",
       "2019    2.715872e+06\n",
       "2020    1.424775e+06\n",
       "Name: duration_min, dtype: float64"
      ]
     },
     "execution_count": 35,
     "metadata": {},
     "output_type": "execute_result"
    }
   ],
   "source": [
    "duration_per_year"
   ]
  },
  {
   "cell_type": "code",
   "execution_count": 36,
   "metadata": {},
   "outputs": [
    {
     "data": {
      "text/plain": [
       "<matplotlib.axes._subplots.AxesSubplot at 0x14e755d6ac8>"
      ]
     },
     "execution_count": 36,
     "metadata": {},
     "output_type": "execute_result"
    },
    {
     "data": {
      "image/png": "[encoded data removed]",
      "text/plain": [
       "<Figure size 432x288 with 1 Axes>"
      ]
     },
     "metadata": {
      "needs_background": "light"
     },
     "output_type": "display_data"
    }
   ],
   "source": [
    "base_color = sb.color_palette()[8]\n",
    "sb.countplot(data = df_final, x = 'user_type',color=base_color)"
   ]
  },
  {
   "cell_type": "markdown",
   "metadata": {},
   "source": [
    "This chart shows that more users tend to be subscribers as opposed to casual customers, would need to be more specific to the year later."
   ]
  },
  {
   "cell_type": "code",
   "execution_count": 37,
   "metadata": {},
   "outputs": [
    {
     "data": {
      "text/plain": [
       "<matplotlib.axes._subplots.AxesSubplot at 0x14e7542c648>"
      ]
     },
     "execution_count": 37,
     "metadata": {},
     "output_type": "execute_result"
    },
    {
     "data": {
      "image/png": "[encoded data removed]",
      "text/plain": [
       "<Figure size 432x288 with 1 Axes>"
      ]
     },
     "metadata": {
      "needs_background": "light"
     },
     "output_type": "display_data"
    }
   ],
   "source": [
    "base_color = sb.color_palette()[5]\n",
    "sb.countplot(data = df_final, x = 'week_day',color=base_color)"
   ]
  },
  {
   "cell_type": "markdown",
   "metadata": {},
   "source": [
    "This chart shows the amount of week ends compared to regular week days, as expected, people tend to go to work and therefore use Lyft more often on regular week days compared to weekends, would need to be more specific to the year later."
   ]
  },
  {
   "cell_type": "code",
   "execution_count": 38,
   "metadata": {},
   "outputs": [
    {
     "data": {
      "text/plain": [
       "<matplotlib.axes._subplots.AxesSubplot at 0x14e751d0948>"
      ]
     },
     "execution_count": 38,
     "metadata": {},
     "output_type": "execute_result"
    },
    {
     "data": {
      "image/png": "[encoded data removed]",
      "text/plain": [
       "<Figure size 432x288 with 1 Axes>"
      ]
     },
     "metadata": {
      "needs_background": "light"
     },
     "output_type": "display_data"
    }
   ],
   "source": [
    "sb.countplot(data = df_final, x = 'year',color=base_color)"
   ]
  },
  {
   "cell_type": "markdown",
   "metadata": {},
   "source": [
    "The first thing we notice is that April 2020 has much less the amount of ride in 2020, 2018 had a low frequency as well, but this could be interpreted as having less users as Lyft was still not widespread enough, we could also look at the total duration for how much total rides each year had."
   ]
  },
  {
   "cell_type": "code",
   "execution_count": 39,
   "metadata": {},
   "outputs": [
    {
     "data": {
      "text/plain": [
       "([<matplotlib.axis.XTick at 0x14e7500ad88>,\n",
       "  <matplotlib.axis.XTick at 0x14e7501cac8>,\n",
       "  <matplotlib.axis.XTick at 0x14e753493c8>],\n",
       " <a list of 3 Text xticklabel objects>)"
      ]
     },
     "execution_count": 39,
     "metadata": {},
     "output_type": "execute_result"
    },
    {
     "data": {
      "image/png": "[encoded data removed]",
      "text/plain": [
       "<Figure size 432x288 with 1 Axes>"
      ]
     },
     "metadata": {
      "needs_background": "light"
     },
     "output_type": "display_data"
    }
   ],
   "source": [
    "base_color = sb.color_palette()[4]\n",
    "plt.bar(years, duration_per_year, align='center',color=base_color)\n",
    "plt.xticks(list(years))"
   ]
  },
  {
   "cell_type": "code",
   "execution_count": 40,
   "metadata": {},
   "outputs": [
    {
     "data": {
      "image/png": "[encoded data removed]",
      "text/plain": [
       "<Figure size 432x288 with 1 Axes>"
      ]
     },
     "metadata": {
      "needs_background": "light"
     },
     "output_type": "display_data"
    }
   ],
   "source": [
    "plt.hist(data=df_final,x=\"duration_min\",bins=100);"
   ]
  },
  {
   "cell_type": "markdown",
   "metadata": {},
   "source": [
    "In this histogram, we can find that most rides are only 20 to 40 minutes limit, while there are others that can be considered outliers to the standard, it is however skewed to the right, therefore we could log scale for better representation"
   ]
  },
  {
   "cell_type": "code",
   "execution_count": 41,
   "metadata": {},
   "outputs": [
    {
     "data": {
      "text/plain": [
       "1.954242509439325"
      ]
     },
     "execution_count": 41,
     "metadata": {},
     "output_type": "execute_result"
    }
   ],
   "source": [
    "np.log10(df_final.duration_min.max())"
   ]
  },
  {
   "cell_type": "code",
   "execution_count": 42,
   "metadata": {},
   "outputs": [
    {
     "data": {
      "image/png": "[encoded data removed]",
      "text/plain": [
       "<Figure size 432x288 with 1 Axes>"
      ]
     },
     "metadata": {
      "needs_background": "light"
     },
     "output_type": "display_data"
    }
   ],
   "source": [
    "bin_edges = 10 ** np.arange(0.0, np.log10(df_final.duration_min.max())+0.1,0.1)\n",
    "plt.hist(df_final.duration_min, bins = bin_edges);\n",
    "plt.xscale('log')\n",
    "tick_locs = [1,2,4,8,16,32,64,128,256,512];\n",
    "plt.xticks(tick_locs, tick_locs, rotation='vertical');"
   ]
  },
  {
   "cell_type": "markdown",
   "metadata": {},
   "source": [
    "In this histogram, the attempt was to find out how the average trip duration, which seems to follow a uniform distribution when put into the log scale, this chart however is useless when put together in the context of the research, faceting in multivariate investigation for each year will be more useful."
   ]
  },
  {
   "cell_type": "markdown",
   "metadata": {},
   "source": [
    "Similar to the previous chart, April 2020 has also seen a sharp decrease in the total duration of the rides, however this is obviously because there are less rides as seen in the previous charts, less rides means less time to time, but how did the average rides get affected? Is the median more or less, we will find out in the bivariate exploration."
   ]
  },
  {
   "cell_type": "markdown",
   "metadata": {},
   "source": [
    "> Make sure that, after every plot or related series of plots, that you\n",
    "include a Markdown cell with comments about what you observed, and what\n",
    "you plan on investigating next."
   ]
  },
  {
   "cell_type": "markdown",
   "metadata": {},
   "source": [
    "### Discuss the distribution(s) of your variable(s) of interest. Were there any unusual points? Did you need to perform any transformations?\n",
    "\n",
    "The distributions were almost as expected, when looking at the duration per minute instead of per second, the distribution gets even more uniform compared to seconds, which will be helpful later when presenting the data in explanatory analysis. There was however a need to transform the data to logarithmic scale on the histogram because most data is skewed to the right on a regular scale, while log scale is more representative. \n",
    "\n",
    "The bar charts showed the expected trends, where Lyft was less widely known and used in 2018 compared to 2019, and COVID-19 returned the usage time-wise and frequency-wise to 2018.\n",
    "\n",
    "### Of the features you investigated, were there any unusual distributions? Did you perform any operations on the data to tidy, adjust, or change the form of the data? If so, why did you do this?\n",
    "\n",
    "No, there were no unusual distributions, the distribution came normal as expected, and the amount of usage is also as frequent as expected, with Lyft getting more rides on 2019 and less in 2018 and 2020, both for different reasons, but ultimetly showing that the usage was decreased due to covid-19.\n",
    "\n",
    "There was a lot of cleaning to be made, \n",
    "\n",
    "1st: Duration per minute did not exist and had to be calculated.\n",
    "\n",
    "2nd: Any duration was absent in 2020 dataset and it had to be calculated by comparing start time to end time.\n",
    "\n",
    "3rd: Week day had to be calculated.\n",
    "\n",
    "4th: User type had different names and different values between 2018-2019 and 2020, so it had to be adjusted.\n",
    "\n",
    "5th: When all the data on each individual datasets were transformed accordingly, duplicated were removed, unused columns were removed, and null rows were dropped. Afterwards, every the datasets were appeneded together to create a total of 454539 rides, all marked by year.\n",
    "\n",
    "6th: Finally, after going through bivariate comparison, mainly box plot and violin plot, I have decided that there too many outliers in the duration, therefore, I have decided to remove all durations that last more than 90 minutes, the assumption here is that people have simply forgotten to stop their ride, which would explain a 24 hour ride, after testing the removal of several parts of the dataset, I have found that a 90 minute ride max is reasonable and does not affect the overall results much. The final total rides being 441150."
   ]
  },
  {
   "cell_type": "markdown",
   "metadata": {},
   "source": [
    "## Bivariate Exploration\n",
    "\n",
    "> In this section, investigate relationships between pairs of variables in your\n",
    "data. Make sure the variables that you cover here have been introduced in some\n",
    "fashion in the previous section (univariate exploration)."
   ]
  },
  {
   "cell_type": "code",
   "execution_count": 43,
   "metadata": {},
   "outputs": [
    {
     "data": {
      "text/plain": [
       "<matplotlib.axes._subplots.AxesSubplot at 0x14e74ed7308>"
      ]
     },
     "execution_count": 43,
     "metadata": {},
     "output_type": "execute_result"
    },
    {
     "data": {
      "image/png": "[encoded data removed]",
      "text/plain": [
       "<Figure size 432x288 with 1 Axes>"
      ]
     },
     "metadata": {
      "needs_background": "light"
     },
     "output_type": "display_data"
    }
   ],
   "source": [
    "sb.countplot(data = df_final, x = 'week_day', hue = 'year')"
   ]
  },
  {
   "cell_type": "markdown",
   "metadata": {},
   "source": [
    "From this chart, we can see the effect of covid-19 on the working days, while the weekend variable show very low usage, which is to be expected because people, as discussed before, would only use the lyft bike and scooters to go to work, and they will not use them for weekends. \n",
    "\n",
    "On that notice, weekends indicate nothing. However there is a sharp decrease to almost only a third what it used to be on 2019 and below half of that of 2018, indicating that Lyft's main peek time for revenue is in danger. "
   ]
  },
  {
   "cell_type": "code",
   "execution_count": 44,
   "metadata": {},
   "outputs": [
    {
     "data": {
      "text/plain": [
       "<matplotlib.axes._subplots.AxesSubplot at 0x14e72c44f88>"
      ]
     },
     "execution_count": 44,
     "metadata": {},
     "output_type": "execute_result"
    },
    {
     "data": {
      "image/png": "[encoded data removed]",
      "text/plain": [
       "<Figure size 432x288 with 1 Axes>"
      ]
     },
     "metadata": {
      "needs_background": "light"
     },
     "output_type": "display_data"
    }
   ],
   "source": [
    "sb.countplot(data = df_final, x = 'user_type', hue = 'year')"
   ]
  },
  {
   "cell_type": "code",
   "execution_count": 163,
   "metadata": {},
   "outputs": [
    {
     "data": {
      "text/plain": [
       "[388583.34999999957,\n",
       " 1071298.66666667,\n",
       " 609427.1333333331,\n",
       " 2106445.0000000237,\n",
       " 867787.2833333275,\n",
       " 556987.3499999973]"
      ]
     },
     "execution_count": 163,
     "metadata": {},
     "output_type": "execute_result"
    }
   ],
   "source": [
    "sums"
   ]
  },
  {
   "cell_type": "markdown",
   "metadata": {},
   "source": [
    "Similarly, the number of subscriber rides have decreased to almost less than a fifth. If the dataset for the subscribers were provided, we might find the number of subscribers decreased in general. However since there is no indication for that we cannot confirm it.\n",
    "\n",
    "This is in contrast with the casual customer, where the number of casual rides have actually increased as opposed to  2019. This could be explained in that former subscribers still need to occasionally go to work or groceries or do some activities, so they will use Lyft. Considering that the cost for scooter subscriber is only 0.05$ less than the casual customer, paying the monthly fee is no longer as beneficial or cost saving as just riding casual."
   ]
  },
  {
   "cell_type": "code",
   "execution_count": 59,
   "metadata": {},
   "outputs": [
    {
     "data": {
      "text/plain": [
       "(-8.265209699187794, 98.2652096991878)"
      ]
     },
     "execution_count": 59,
     "metadata": {},
     "output_type": "execute_result"
    },
    {
     "data": {
      "image/png": "[encoded data removed]",
      "text/plain": [
       "<Figure size 720x360 with 2 Axes>"
      ]
     },
     "metadata": {
      "needs_background": "light"
     },
     "output_type": "display_data"
    }
   ],
   "source": [
    "plt.figure(figsize = [10, 5])\n",
    "base_color = sb.color_palette()[0]\n",
    "plt.subplot(1, 2, 1)\n",
    "ax1 = sb.violinplot(data = df_final, y= 'duration_min', x = 'year', color = base_color)\n",
    "\n",
    "plt.subplot(1, 2, 2)\n",
    "ax2 = sb.boxplot(data = df_final, y = 'duration_min', x = 'year', color = base_color)\n",
    "plt.ylim(ax1.get_ylim())"
   ]
  },
  {
   "cell_type": "markdown",
   "metadata": {},
   "source": [
    "This boxplot and violinplot duo indicate an unusual trend in 2020, the median time for the rides have increased, this is likely due to the rides in the case before covid-19 being shorter, as people live closer to where they work and thus since less people go to work the decreasing number of rides have affected the median and quartile's size. And it so happens that people still going to work travel the furtherst."
   ]
  },
  {
   "cell_type": "code",
   "execution_count": 175,
   "metadata": {},
   "outputs": [
    {
     "data": {
      "text/plain": [
       "<seaborn.axisgrid.FacetGrid at 0x14e137b4a48>"
      ]
     },
     "execution_count": 175,
     "metadata": {},
     "output_type": "execute_result"
    },
    {
     "data": {
      "text/plain": [
       "<Figure size 1440x720 with 0 Axes>"
      ]
     },
     "metadata": {},
     "output_type": "display_data"
    },
    {
     "data": {
      "image/png": "[encoded data removed]",
      "text/plain": [
       "<Figure size 648x216 with 3 Axes>"
      ]
     },
     "metadata": {
      "needs_background": "light"
     },
     "output_type": "display_data"
    }
   ],
   "source": [
    "plt.figure(figsize = [20, 10])\n",
    "g = sb.FacetGrid(data = df_final, col = 'year')\n",
    "g.map(plt.hist, \"duration_min\").set(yscale = 'log')\n",
    "\n",
    "ticks = [1000,3000, 10000,30000,50000, 100000]\n",
    "labels = [i for i in ticks]\n",
    "\n",
    "g.set(yticks = ticks, yticklabels = labels)"
   ]
  },
  {
   "cell_type": "markdown",
   "metadata": {},
   "source": [
    "This faceted histogram have confirmed the trend, the number of rides longer than 60 minutes have been very litle in 2018-2019 compared to 2020. However there was overall more trips, therefore the increased ride duration have do not compensate for the loss of revenue enough"
   ]
  },
  {
   "cell_type": "code",
   "execution_count": 124,
   "metadata": {},
   "outputs": [
    {
     "data": {
      "text/plain": [
       "<seaborn.axisgrid.FacetGrid at 0x14e06c8f448>"
      ]
     },
     "execution_count": 124,
     "metadata": {},
     "output_type": "execute_result"
    },
    {
     "data": {
      "text/plain": [
       "<Figure size 1440x720 with 0 Axes>"
      ]
     },
     "metadata": {},
     "output_type": "display_data"
    },
    {
     "data": {
      "image/png": "[encoded data removed]",
      "text/plain": [
       "<Figure size 432x216 with 2 Axes>"
      ]
     },
     "metadata": {
      "needs_background": "light"
     },
     "output_type": "display_data"
    }
   ],
   "source": [
    "plt.figure(figsize = [20, 10])\n",
    "g = sb.FacetGrid(data = df_final, col = 'week_day')\n",
    "g.map(plt.hist, \"duration_min\").set(yscale = 'log')\n",
    "\n",
    "ticks = [1000,3000, 10000,30000,50000, 100000, 180000]\n",
    "labels = [i for i in ticks]\n",
    "\n",
    "g.set(yticks = ticks, yticklabels = labels)"
   ]
  },
  {
   "cell_type": "markdown",
   "metadata": {},
   "source": [
    "This faceted histogram does also show how week days take the most duration, doubling over the weekends, however it does not show how it was affected by year, this will need multivariate exploration."
   ]
  },
  {
   "cell_type": "markdown",
   "metadata": {},
   "source": [
    "### Talk about some of the relationships you observed in this part of the investigation. How did the feature(s) of interest vary with other features in the dataset?\n",
    "\n",
    "The following trend was improved and became clearer in the bivariate exploration.\n",
    " \n",
    "People spent less time on bikes, which as shown boxplot and violinplot, as well as the histogram, it is true, however this is because less people in general ride bikes anywhere, however people who do ride the bikes take more time than they used to, so while the overall number of people riding bikes have decreased an therefore the total amount of time spent is decrease, individually more people began to ride bikes in extended periods.\n",
    "\n",
    "### Did you observe any interesting relationships between the other features (not the main feature(s) of interest)?\n",
    "\n",
    "Two more trends became clearer:\n",
    "\n",
    "1) People were originaly assumed to be more likely to subscribe to lyft because it is less expensive, but now we see that because of covid-19, the trend shifted to being more casual because people don't get out enough and use lyft in a way that justifies the cost.\n",
    " \n",
    "2) Week days were assumed to always have more rides, which they still do, however since less people go to work on week days, it has become weekends are very much on par with weekdays, meaning that work days have been indeed severely damaged"
   ]
  },
  {
   "cell_type": "markdown",
   "metadata": {},
   "source": [
    "## Multivariate Exploration\n",
    "\n",
    "> Create plots of three or more variables to investigate your data even\n",
    "further. Make sure that your investigations are justified, and follow from\n",
    "your work in the previous sections."
   ]
  },
  {
   "cell_type": "code",
   "execution_count": 183,
   "metadata": {},
   "outputs": [
    {
     "data": {
      "text/plain": [
       "Text(0.5, 0, '')"
      ]
     },
     "execution_count": 183,
     "metadata": {},
     "output_type": "execute_result"
    },
    {
     "data": {
      "image/png": "[encoded data removed]",
      "text/plain": [
       "<Figure size 432x288 with 1 Axes>"
      ]
     },
     "metadata": {
      "needs_background": "light"
     },
     "output_type": "display_data"
    }
   ],
   "source": [
    "x = df_final.groupby([\"year\",\"user_type\"])\n",
    "data = []\n",
    "for i,j in zip(x.duration_min.sum(),x.duration_min.sum().index):\n",
    "    temp = []\n",
    "    temp.append(j[0])\n",
    "    temp.append(j[1])\n",
    "    temp.append(i)\n",
    "    data.append(temp)\n",
    "df = pd.DataFrame(data,columns=['year','user_type','duration'])\n",
    "\n",
    "df.pivot(\"year\", \"user_type\", \"duration\").plot(kind='bar')\n",
    "plt.ylabel(\"total ride duration\")\n",
    "plt.xlabel(\"\")"
   ]
  },
  {
   "cell_type": "code",
   "execution_count": 191,
   "metadata": {},
   "outputs": [
    {
     "data": {
      "image/png": "[encoded data removed]",
      "text/plain": [
       "<Figure size 720x720 with 1 Axes>"
      ]
     },
     "metadata": {
      "needs_background": "light"
     },
     "output_type": "display_data"
    }
   ],
   "source": [
    "\n",
    "plt.figure(figsize=(10,10))\n",
    "ax = sb.pointplot(data = df_final, x = 'user_type', y = 'duration_min', hue = 'year',\n",
    "                  dodge = 0.5, linestyles = \"\")"
   ]
  },
  {
   "cell_type": "markdown",
   "metadata": {},
   "source": [
    "This bar chart takes shows the amount of time spent by each type of user over the three Aprils, this is made to further confirm the perviously confirmed trends, firstly: Less subscribers are taking rides, Secondly: more customers are taking rides, Thirdly: the amount of time in either of those does not compensate the loss Lyft had compared to previous years."
   ]
  },
  {
   "cell_type": "markdown",
   "metadata": {},
   "source": [
    "### Talk about some of the relationships you observed in this part of the investigation. Were there features that strengthened each other in terms of looking at your feature(s) of interest?\n",
    "\n",
    "> Your answer here!\n",
    "\n",
    "### Were there any interesting or surprising interactions between features?\n",
    "\n",
    "> Your answer here!"
   ]
  },
  {
   "cell_type": "markdown",
   "metadata": {},
   "source": [
    "> At the end of your report, make sure that you export the notebook as an\n",
    "html file from the `File > Download as... > HTML` menu. Make sure you keep\n",
    "track of where the exported file goes, so you can put it in the same folder\n",
    "as this notebook for project submission. Also, make sure you remove all of\n",
    "the quote-formatted guide notes like this one before you finish your report!"
   ]
  },
  {
   "cell_type": "code",
   "execution_count": null,
   "metadata": {},
   "outputs": [],
   "source": []
  }
 ],
 "metadata": {
  "kernelspec": {
   "display_name": "Python 3",
   "language": "python",
   "name": "python3"
  },
  "language_info": {
   "codemirror_mode": {
    "name": "ipython",
    "version": 3
   },
   "file_extension": ".py",
   "mimetype": "text/x-python",
   "name": "python",
   "nbconvert_exporter": "python",
   "pygments_lexer": "ipython3",
   "version": "3.7.6"
  }
 },
 "nbformat": 4,
 "nbformat_minor": 2
}
